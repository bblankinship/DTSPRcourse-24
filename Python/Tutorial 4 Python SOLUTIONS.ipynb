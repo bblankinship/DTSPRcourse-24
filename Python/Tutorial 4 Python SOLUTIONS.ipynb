{
 "cells": [
  {
   "cell_type": "markdown",
   "id": "f3c3fe78",
   "metadata": {},
   "source": [
    "# Tutorial 4 Python Notebook \n",
    "\n",
    "In this tutorial there are tasks for working with lists, arrays, dictionaries, and data frames.\n",
    "\n",
    "* Lists = Task 1-3\n",
    "* Arrays = Task 4-7 \n",
    "* Dictionaries = Task 8-10\n",
    "* Data frames = Task 11-16\n",
    "\n",
    "The aim of this tutorial notebook is to give you some (guided) hands-on experience working with different data structures in Python."
   ]
  },
  {
   "cell_type": "code",
   "execution_count": null,
   "id": "eda04920",
   "metadata": {},
   "outputs": [],
   "source": [
    "import numpy as np \n",
    "import pandas as pd"
   ]
  },
  {
   "cell_type": "markdown",
   "id": "a9c029fa",
   "metadata": {},
   "source": [
    "## Lists \n",
    "\n",
    "### Task 1\n",
    "\n",
    "Create a list containing strings, numbers, a list, and Boolean values. \n"
   ]
  },
  {
   "cell_type": "code",
   "execution_count": null,
   "id": "665c5ffd",
   "metadata": {},
   "outputs": [],
   "source": [
    "## your answer \n"
   ]
  },
  {
   "cell_type": "markdown",
   "id": "70204777",
   "metadata": {},
   "source": [
    "#### Task 1 solution \n",
    "\n",
    "There are endless potential solutions, the primary point is to emphasize that lists can contain multiple data types and to check your understanding of what these data types are by name. \n"
   ]
  },
  {
   "cell_type": "code",
   "execution_count": null,
   "id": "187dcf7a",
   "metadata": {},
   "outputs": [],
   "source": [
    "list_data = [\"orange\", \"apple\", [5, 7, 9, 11], True, 125.17, 75.83]\n",
    "\n",
    "list_data"
   ]
  },
  {
   "cell_type": "markdown",
   "id": "eb82575f",
   "metadata": {},
   "source": [
    "### Task 2\n",
    "\n",
    "How would you index to the first item in the nested list in the list you created in task 1?"
   ]
  },
  {
   "cell_type": "code",
   "execution_count": null,
   "id": "cf295744",
   "metadata": {},
   "outputs": [],
   "source": [
    "## your answer \n",
    "\n"
   ]
  },
  {
   "cell_type": "markdown",
   "id": "149f376d",
   "metadata": {},
   "source": [
    "#### Task 2 solution\n",
    "\n",
    "This will vary depending on your answer to Task 1. But using `list_data`, to access the number 5 we need to use the following code"
   ]
  },
  {
   "cell_type": "code",
   "execution_count": null,
   "id": "95c61510",
   "metadata": {},
   "outputs": [],
   "source": [
    "list_data[2][0]"
   ]
  },
  {
   "cell_type": "markdown",
   "id": "bce17c73",
   "metadata": {},
   "source": [
    "### Task 3\n",
    "\n",
    "Convert the list below into a 1-dimensional array. "
   ]
  },
  {
   "cell_type": "code",
   "execution_count": null,
   "id": "71d430e1",
   "metadata": {},
   "outputs": [],
   "source": [
    "list1 = [12.23, 13.32, 100.1, 36.45]\n",
    "\n",
    "print(list1)"
   ]
  },
  {
   "cell_type": "markdown",
   "id": "dc35d19b",
   "metadata": {},
   "source": [
    "<details><summary style='color:darkblue'>HINT: Where do we get the array data structure? CLICK HERE TO SEE THE ANSWER. BUT REALLY TRY TO DO IT YOURSELF FIRST!</summary>\n",
    "\n",
    "Remember, arrays are **not** a built-in Python data structure. We access them through the `NumPy` package. \n",
    "  "
   ]
  },
  {
   "cell_type": "markdown",
   "id": "31a9b6fd",
   "metadata": {},
   "source": [
    "#### Task 3 solution "
   ]
  },
  {
   "cell_type": "code",
   "execution_count": null,
   "id": "950cd34b",
   "metadata": {},
   "outputs": [],
   "source": [
    "array_l1 = np.array(list1) \n",
    "\n",
    "print(array_l1) # notice the array print out does not include commas between values as in the list data structure above \n",
    "\n",
    "print(type(array_l1))"
   ]
  },
  {
   "cell_type": "markdown",
   "id": "b6773989",
   "metadata": {},
   "source": [
    "## Array "
   ]
  },
  {
   "cell_type": "markdown",
   "id": "6d1fe922",
   "metadata": {},
   "source": [
    "## Task 4\n",
    "\n",
    "Use the keyboard variable below to spell your name by referencing the letters in the array. "
   ]
  },
  {
   "cell_type": "markdown",
   "id": "19cba837",
   "metadata": {},
   "source": [
    "<details><summary style='color:darkblue'>HINT: Example solution. CLICK HERE TO SEE THE ANSWER. BUT REALLY TRY TO DO IT YOURSELF FIRST!</summary>\n",
    "\n",
    "brittany is: \n",
    "    \n",
    "`print(keyboard[2,4], keyboard[0,3], keyboard[0,7], keyboard[0,4], keyboard[0,4], keyboard[1,0], keyboard[2,5], keyboard[0,5])`"
   ]
  },
  {
   "cell_type": "code",
   "execution_count": null,
   "id": "6ab118b5",
   "metadata": {},
   "outputs": [],
   "source": [
    "keyboard = np.array([ ['q','w','e','r','t','y','u','i','o','p'],\n",
    "                      ['a','s','d','f','g','h','j','k','l',';'],\n",
    "                      ['z','x','c','v','b','n','m','<','>','?']\n",
    "                   ])"
   ]
  },
  {
   "cell_type": "code",
   "execution_count": null,
   "id": "06ba8776",
   "metadata": {},
   "outputs": [],
   "source": [
    "## your answer here \n",
    "\n"
   ]
  },
  {
   "cell_type": "markdown",
   "id": "cf32acb3",
   "metadata": {},
   "source": [
    "#### Task 4 solution \n",
    "\n",
    "This will of course vary dependin on your name (and I do not think anyone on the course shares my name)"
   ]
  },
  {
   "cell_type": "code",
   "execution_count": null,
   "id": "a208a3c6",
   "metadata": {
    "scrolled": true
   },
   "outputs": [],
   "source": [
    "print(keyboard[2,4], keyboard[0,3], keyboard[0,7], keyboard[0,4], keyboard[0,4], keyboard[1,0], keyboard[2,5], keyboard[0,5])"
   ]
  },
  {
   "cell_type": "code",
   "execution_count": null,
   "id": "27faccc5",
   "metadata": {},
   "outputs": [],
   "source": [
    "## if you want the letters formatted closer together we can use the '+' operator to add then together without a space \n",
    "print(keyboard[2,4] + keyboard[0,3] + keyboard[0,7] + keyboard[0,4] + keyboard[0,4] + keyboard[1,0] + keyboard[2,5] + keyboard[0,5])"
   ]
  },
  {
   "cell_type": "markdown",
   "id": "f2285163",
   "metadata": {},
   "source": [
    "### Task 5 \n",
    "\n",
    "Create a 1-dimensional array with values ranging from 20 and 80."
   ]
  },
  {
   "cell_type": "code",
   "execution_count": null,
   "id": "99b3b183",
   "metadata": {},
   "outputs": [],
   "source": [
    "## your answer \n"
   ]
  },
  {
   "cell_type": "markdown",
   "id": "83e02503",
   "metadata": {},
   "source": [
    "#### Task 5 Solution "
   ]
  },
  {
   "cell_type": "code",
   "execution_count": null,
   "id": "f6bbd0b0",
   "metadata": {},
   "outputs": [],
   "source": [
    "array2 = np.arange(20,81)\n",
    "\n",
    "array2"
   ]
  },
  {
   "cell_type": "markdown",
   "id": "a593cddc",
   "metadata": {},
   "source": [
    "### Task 6\n",
    "\n",
    "Reverse the array created in Task 5."
   ]
  },
  {
   "cell_type": "markdown",
   "id": "23f97d6d",
   "metadata": {},
   "source": [
    "<details><summary style='color:darkblue'>HINT: A reminder. CLICK HERE TO SEE THE ANSWER. BUT REALLY TRY TO DO IT YOURSELF FIRST!</summary>\n",
    "    \n",
    "Indexing with arrays (and lists and dataframes) can be done with the following syntax ` my_array[start_index : stop_index : step/jump]`"
   ]
  },
  {
   "cell_type": "markdown",
   "id": "2ffae002",
   "metadata": {},
   "source": [
    "<details><summary style='color:darkblue'>HINT: Another reminder. CLICK HERE TO SEE THE ANSWER. BUT REALLY TRY TO DO IT YOURSELF FIRST!</summary>\n",
    "\n",
    "Remember that reverse indexing in Python and R are very different! \n"
   ]
  },
  {
   "cell_type": "code",
   "execution_count": null,
   "id": "770c1d2e",
   "metadata": {},
   "outputs": [],
   "source": [
    "## your answer \n"
   ]
  },
  {
   "cell_type": "markdown",
   "id": "57bd6b48",
   "metadata": {},
   "source": [
    "#### Task 6 solution "
   ]
  },
  {
   "cell_type": "code",
   "execution_count": null,
   "id": "4a825c52",
   "metadata": {
    "scrolled": false
   },
   "outputs": [],
   "source": [
    "array2_rev = array2[::-1] # reminder, the first colon : here means `everything` \n",
    "\n",
    "print(array2_rev)"
   ]
  },
  {
   "cell_type": "markdown",
   "id": "7d538434",
   "metadata": {},
   "source": [
    "### Task 7\n",
    "\n",
    "Create a 2D array with 1 across the border and 0 inside/middle."
   ]
  },
  {
   "cell_type": "markdown",
   "id": "128432c8",
   "metadata": {},
   "source": [
    "<details><summary style='color:darkblue'>HINT: Breaking down the problem. CLICK HERE TO SEE THE ANSWER. BUT REALLY TRY TO DO IT YOURSELF FIRST!</summary>\n",
    "\n",
    "This may sound easy enough, but is actually quite tricky as we are working in 2 dimensions! As a first step, create a 2-D array filled with ones (there is a specific function for this). Then replace the inside or middle values of the array with 0."
   ]
  },
  {
   "cell_type": "code",
   "execution_count": null,
   "id": "94f2c676",
   "metadata": {},
   "outputs": [],
   "source": [
    "## your answer \n"
   ]
  },
  {
   "cell_type": "markdown",
   "id": "9e644dbc",
   "metadata": {},
   "source": [
    "#### Task 7 solution "
   ]
  },
  {
   "cell_type": "code",
   "execution_count": null,
   "id": "ffed37f7",
   "metadata": {},
   "outputs": [],
   "source": [
    "# step 1 create an array with ones \n",
    "array3 = np.ones((5,5), dtype = 'int')\n",
    "\n",
    "print(array3)"
   ]
  },
  {
   "cell_type": "code",
   "execution_count": null,
   "id": "312f2b99",
   "metadata": {
    "scrolled": true
   },
   "outputs": [],
   "source": [
    "## next change the values in the middle to be 0 using indexing\n",
    "array3[1:-1, 1:-1] = 0\n",
    "\n",
    "print(array3)"
   ]
  },
  {
   "cell_type": "markdown",
   "id": "2f76bfdb",
   "metadata": {},
   "source": [
    "## Dictionaries"
   ]
  },
  {
   "cell_type": "markdown",
   "id": "78181e7b",
   "metadata": {},
   "source": [
    "### Task 8\n",
    "\n",
    "Create a dictionary comprised of colors blue, red, green; animals dog, cat, horse; and age 33, 56, 24."
   ]
  },
  {
   "cell_type": "code",
   "execution_count": null,
   "id": "ffc98561",
   "metadata": {},
   "outputs": [],
   "source": [
    "## your answer \n"
   ]
  },
  {
   "cell_type": "markdown",
   "id": "6c109837",
   "metadata": {},
   "source": [
    "#### Task 8  Solution "
   ]
  },
  {
   "cell_type": "code",
   "execution_count": null,
   "id": "69a2df51",
   "metadata": {},
   "outputs": [],
   "source": [
    "dict1 = {\"colors\": [\"blue\", \"red\", \"green\"],\n",
    "         \"animals\": [\"dog\", \"cat\", \"horse\"],\n",
    "         \"age\": [33, 56, 24]}\n",
    "\n",
    "print(dict1)"
   ]
  },
  {
   "cell_type": "markdown",
   "id": "b04eee15",
   "metadata": {},
   "source": [
    "### Task 9\n",
    "\n",
    "Add a new key value pair to the list created in Task 8 called flower comprised of daisy, rose, and lily. "
   ]
  },
  {
   "cell_type": "code",
   "execution_count": null,
   "id": "bdfe5310",
   "metadata": {},
   "outputs": [],
   "source": [
    "## your answer \n"
   ]
  },
  {
   "cell_type": "markdown",
   "id": "59adae9a",
   "metadata": {},
   "source": [
    "#### Task 9 Solution "
   ]
  },
  {
   "cell_type": "code",
   "execution_count": null,
   "id": "5c3b657f",
   "metadata": {},
   "outputs": [],
   "source": [
    "dict1[\"flower\"] = [\"daisy\", \"rose\", \"lily\"]\n",
    "\n",
    "print(dict1)"
   ]
  },
  {
   "cell_type": "markdown",
   "id": "80541562",
   "metadata": {},
   "source": [
    "### Task 10\n",
    "\n",
    "Convert your dictionary into a data frame. "
   ]
  },
  {
   "cell_type": "markdown",
   "id": "8c1d7572",
   "metadata": {},
   "source": [
    "<details><summary style='color:darkblue'>HINT: Where do we get the data frame data structure? CLICK HERE TO SEE THE ANSWER. BUT REALLY TRY TO DO IT YOURSELF FIRST!</summary>\n",
    "\n",
    "Remember, data frames are **not** a built-in Python data structure. We access them through the `pandas` package. \n",
    "  "
   ]
  },
  {
   "cell_type": "code",
   "execution_count": null,
   "id": "dabe35bb",
   "metadata": {},
   "outputs": [],
   "source": [
    "## your answer \n"
   ]
  },
  {
   "cell_type": "markdown",
   "id": "a549a1e2",
   "metadata": {},
   "source": [
    "#### Task 10 Solution "
   ]
  },
  {
   "cell_type": "code",
   "execution_count": null,
   "id": "c999742b",
   "metadata": {},
   "outputs": [],
   "source": [
    "df_dict = pd.DataFrame.from_dict(dict1)\n",
    "\n",
    "df_dict"
   ]
  },
  {
   "cell_type": "markdown",
   "id": "11654a08",
   "metadata": {},
   "source": [
    "## Data frames \n",
    "\n",
    "For this series of tasks we will be using a publicly available dataset from [Public Health Scotland around Stroke Activity](https://www.opendata.nhs.scot/dataset/scottish-stroke-statistics/resource/47656572-e196-40c8-83e8-08b0b223b2e6). This dataset provides \"Information on hospital activity related to cerebrovascular disease (including stroke and subarachnoid haemorrhage).\" Look through the link and read the data dictionary at the bottom to familiarise yourself with the variables.  \n",
    "\n",
    "We will first read in the data. You can read in data from a URL with the `read_csv()` function but inputting the URL as a character string - how helpful! From the link above to the data set there is a URL I have copied at the top of the page. It is good practice when first reading in a data set to name it and add `_raw` or some delineation that it is the raw data. As you process the data for your analytic purposes, you can then save the data in an object without this delineation. This allows you to maintain an object with a version of the raw data that you can refer to later if needed. "
   ]
  },
  {
   "cell_type": "code",
   "execution_count": null,
   "id": "d7662808",
   "metadata": {},
   "outputs": [],
   "source": [
    "stroke_raw = pd.read_csv(\"https://www.opendata.nhs.scot/dataset/f5dcf382-e6ca-49f6-b807-4f9cc29555bc/resource/47656572-e196-40c8-83e8-08b0b223b2e6/download/stroke_activitybyhbr.csv\")"
   ]
  },
  {
   "cell_type": "code",
   "execution_count": null,
   "id": "3e5e5002",
   "metadata": {},
   "outputs": [],
   "source": [
    "# it is always a good idea to do a quick visual check of data once you read it in to spot an obvious or blantant parsing issues \n",
    "stroke_raw # looks good! "
   ]
  },
  {
   "cell_type": "code",
   "execution_count": null,
   "id": "58e98dc0",
   "metadata": {},
   "outputs": [],
   "source": [
    "# using pd.read_csv() will import the data for us as a pandas data frame \n",
    "type(stroke_raw)"
   ]
  },
  {
   "cell_type": "markdown",
   "id": "5dacef0f",
   "metadata": {},
   "source": [
    "### Task 11 \n",
    "\n",
    "Look through the imported data to check it looks as it should based on the data dictionary. Are all the expected variables included? What dimensions does the dataframe have? Do the dtypes of these variables look to be correct? "
   ]
  },
  {
   "cell_type": "markdown",
   "id": "a8930263",
   "metadata": {},
   "source": [
    "<details><summary style='color:darkblue'>HINT: A useful new function! CLICK HERE TO SEE</summary>\n",
    "    \n",
    "There is a useful function called `head()` which will print by default the first 5 rows of a dataframe. The counterpart is `tail()` which print the last 5 rows by default. Both functions take the argument `n = ` if you wish to specify a different number of rows other than 5. There are counterpart functions in R with the same name and functionality!\n",
    "    \n",
    "This will help in solving the task, but you will need to use some other summary/description functions as well."
   ]
  },
  {
   "cell_type": "code",
   "execution_count": null,
   "id": "e5fe1cbc",
   "metadata": {},
   "outputs": [],
   "source": [
    "## your answer \n"
   ]
  },
  {
   "cell_type": "markdown",
   "id": "454aa5c3",
   "metadata": {},
   "source": [
    "#### Task 11 Solution"
   ]
  },
  {
   "cell_type": "code",
   "execution_count": null,
   "id": "05719a2a",
   "metadata": {},
   "outputs": [],
   "source": [
    "stroke_raw.info()"
   ]
  },
  {
   "cell_type": "code",
   "execution_count": null,
   "id": "dca9e316",
   "metadata": {
    "scrolled": false
   },
   "outputs": [],
   "source": [
    "stroke_raw.describe(include = 'all')"
   ]
  },
  {
   "cell_type": "code",
   "execution_count": null,
   "id": "b111da43",
   "metadata": {},
   "outputs": [],
   "source": [
    "stroke_raw.shape"
   ]
  },
  {
   "cell_type": "code",
   "execution_count": null,
   "id": "d687f410",
   "metadata": {
    "scrolled": true
   },
   "outputs": [],
   "source": [
    "stroke_raw.ndim # 2 dimensions as expected - we are working with a dataframe after all!"
   ]
  },
  {
   "cell_type": "code",
   "execution_count": null,
   "id": "8e114667",
   "metadata": {
    "scrolled": true
   },
   "outputs": [],
   "source": [
    "stroke_raw.head()"
   ]
  },
  {
   "cell_type": "code",
   "execution_count": null,
   "id": "9f1d780a",
   "metadata": {},
   "outputs": [],
   "source": [
    "stroke_raw.tail(n = 6)"
   ]
  },
  {
   "cell_type": "markdown",
   "id": "bb0d4934",
   "metadata": {},
   "source": [
    "There are 15 variables in our dataset, as expected, and 43200 observations. Of these variables, there are 12 which are characters and may be better suited as categorical."
   ]
  },
  {
   "cell_type": "markdown",
   "id": "51694e6c",
   "metadata": {},
   "source": [
    "### Task 12 \n",
    "\n",
    "We do not need all of the columns in the dataset. The only variables we need for the next tasks are `FinancialYear`, `AdmissionType`, `AgeGroup`, `Diagnosis`, and `NumberOfDischarges`. Within the `HBR` variable, \"S92000003\" is the country code for Scotland. The `Sex` variable we do not need for this task, but it too includes an aggregate level \"All\". Filter the data such that only these aggregate level are included for these 2 variables. Filter the data accordingly and save this processed dataset into an object called `stroke`."
   ]
  },
  {
   "cell_type": "markdown",
   "id": "02c30d21",
   "metadata": {},
   "source": [
    "<details><summary style='color:darkblue'>HINT 1: Think about your data structures! CLICK HERE TO SEE</summary>\n",
    "Remember to think about your input data structures - for example, perhaps you will want to use a list to list the columns we want to keep"
   ]
  },
  {
   "cell_type": "markdown",
   "id": "bddc78db",
   "metadata": {},
   "source": [
    "<details><summary style='color:darkblue'>HINT 2: Indexing operators CLICK HERE TO SEE</summary>\n",
    "\n",
    "We learned about `loc` and `iloc` this week to indexing location based on name or numeric index, respectively"
   ]
  },
  {
   "cell_type": "markdown",
   "id": "0cadf4bb",
   "metadata": {},
   "source": [
    "<details><summary style='color:darkblue'>HINT 3: Resulting data frame dimensions. CLICK HERE TO SEE</summary>\n",
    "\n",
    "the object `stroke` should contain 960 rows and 5 columns \n"
   ]
  },
  {
   "cell_type": "markdown",
   "id": "9846b712",
   "metadata": {},
   "source": [
    "#### Task 12 solution "
   ]
  },
  {
   "cell_type": "code",
   "execution_count": null,
   "id": "13ee0bd9",
   "metadata": {},
   "outputs": [],
   "source": [
    "stroke = stroke_raw.loc[(stroke_raw[\"HBR\"] == \"S92000003\") & \n",
    "                       (stroke_raw[\"Sex\"] == \"All\")].loc[:,[\"FinancialYear\", \"AdmissionType\", \n",
    "                                                            \"AgeGroup\", \"Diagnosis\",\n",
    "                                                            \"NumberOfDischarges\"]]\n",
    "\n",
    "stroke"
   ]
  },
  {
   "cell_type": "code",
   "execution_count": null,
   "id": "401fb018",
   "metadata": {},
   "outputs": [],
   "source": [
    "## you could also use isin instead of == to filter HBR and Sex\n",
    "stroke_raw.loc[(stroke_raw[\"HBR\"].isin([\"S92000003\"])) & \n",
    "              stroke_raw[\"Sex\"].isin([\"All\"])].loc[:,[\"FinancialYear\", \"AdmissionType\",\n",
    "                                                      \"AgeGroup\", \"Diagnosis\",\n",
    "                                                      \"NumberOfDischarges\"]]"
   ]
  },
  {
   "cell_type": "markdown",
   "id": "b603dee1",
   "metadata": {},
   "source": [
    "Notice our index still shows 43199 indexed as the last value, though we only have 960 rows in the `stroke` data frame. It is good practice to reset the index after processing your data frame to avoid funky and unexpected things! We can do this with `df.reset_index()`. If we specify the argument `drop = True` the index column will be dropped, but default the original index is added as a column to the dataframe. This can be useful to keep if the index functions as a ID of sorts or knowing which row it a particular observation fell in the raw dataset is important to your analysis. "
   ]
  },
  {
   "cell_type": "code",
   "execution_count": null,
   "id": "f83fa473",
   "metadata": {
    "scrolled": true
   },
   "outputs": [],
   "source": [
    "stroke.reset_index() \n",
    "# notice index is now a new column so our data frame dimensions are now 960 rows x 6 columns"
   ]
  },
  {
   "cell_type": "code",
   "execution_count": null,
   "id": "d499f4f9",
   "metadata": {
    "scrolled": true
   },
   "outputs": [],
   "source": [
    "stroke = stroke.reset_index(drop = True)\n",
    "\n",
    "stroke"
   ]
  },
  {
   "cell_type": "markdown",
   "id": "a8715280",
   "metadata": {},
   "source": [
    "### Task 13 \n",
    "\n",
    "Check the data types of the remaining 5 variables and convert them to a better data type if needed. \n"
   ]
  },
  {
   "cell_type": "markdown",
   "id": "f034b429",
   "metadata": {},
   "source": [
    "<details><summary style='color:darkblue'>HINT: Editing the dataframe. CLICK HERE TO SEE THE ANSWER. BUT REALLY TRY TO DO IT YOURSELF FIRST!</summary>\n",
    "\n",
    "In order to actually change the data types in the original dataframe, make sure to assign it back to an object since the `astype()` functions returns a copy."
   ]
  },
  {
   "cell_type": "code",
   "execution_count": null,
   "id": "05aedc2a",
   "metadata": {},
   "outputs": [],
   "source": [
    "## your answer \n"
   ]
  },
  {
   "cell_type": "markdown",
   "id": "23d7e560",
   "metadata": {},
   "source": [
    "#### Task 13 Solution "
   ]
  },
  {
   "cell_type": "code",
   "execution_count": null,
   "id": "2127eea9",
   "metadata": {
    "scrolled": true
   },
   "outputs": [],
   "source": [
    "stroke.dtypes"
   ]
  },
  {
   "cell_type": "code",
   "execution_count": null,
   "id": "90fc5081",
   "metadata": {},
   "outputs": [],
   "source": [
    "# an elegant solution would to use our knowledge of data structures to our advantage \n",
    "## and input a dictionary!\n",
    "\n",
    "stroke = stroke.astype({\"FinancialYear\": \"category\",\n",
    "                       \"AdmissionType\": \"category\",\n",
    "                       \"AgeGroup\": \"category\",\n",
    "                       \"Diagnosis\": \"category\"})\n",
    "\n",
    "stroke.dtypes"
   ]
  },
  {
   "cell_type": "markdown",
   "id": "e9cae151",
   "metadata": {},
   "source": [
    "### Task 14\n",
    "\n",
    "Look at the categories within the categorical variables - is there anything unexpected?\n"
   ]
  },
  {
   "cell_type": "markdown",
   "id": "5047d5fd",
   "metadata": {},
   "source": [
    "<details><summary style='color:darkblue'>HINT: A warning about the data not to miss. CLICK HERE TO SEE THE ANSWER. BUT REALLY TRY TO DO IT YOURSELF FIRST!</summary>\n",
    "\n",
    "It looks like some of our variables include aggregate level responses! Good thing we checked our data. Aggregate data is very common in health and social care data. It is crucial to check your data to ensure you are aware of any aggregate categories. Depending on your specific use case, you may wish to use only the aggregate levels or perhaps remove the aggregate levels and only work with the finer-grained categories."
   ]
  },
  {
   "cell_type": "code",
   "execution_count": null,
   "id": "34e45c8d",
   "metadata": {},
   "outputs": [],
   "source": [
    "## your answer\n",
    "\n"
   ]
  },
  {
   "cell_type": "markdown",
   "id": "16810a37",
   "metadata": {},
   "source": [
    "#### Task 14 Solution \n",
    "\n",
    "`AdmissionType` includes 3 unique levels as well as an aggregate \"All\" level. \n",
    "\n",
    "`AgeGroup` includes 2 aggregate levels: \"All\" and \"Under75 years\" and should be ordered. \n",
    "\n",
    "`Diagnosis` does not have any aggregate levels."
   ]
  },
  {
   "cell_type": "code",
   "execution_count": null,
   "id": "79dca081",
   "metadata": {},
   "outputs": [],
   "source": [
    "# there are different syntax approach you could take here \n",
    "## both do the same things, its more a stylistic preference\n",
    "\n",
    "stroke.AdmissionType.unique()"
   ]
  },
  {
   "cell_type": "code",
   "execution_count": null,
   "id": "444e4407",
   "metadata": {},
   "outputs": [],
   "source": [
    "stroke.FinancialYear.unique()"
   ]
  },
  {
   "cell_type": "code",
   "execution_count": null,
   "id": "dd9b8957",
   "metadata": {
    "scrolled": true
   },
   "outputs": [],
   "source": [
    "stroke[\"AgeGroup\"].unique()"
   ]
  },
  {
   "cell_type": "code",
   "execution_count": null,
   "id": "2108e69f",
   "metadata": {},
   "outputs": [],
   "source": [
    "stroke[\"Diagnosis\"].unique()"
   ]
  },
  {
   "cell_type": "markdown",
   "id": "14db7696",
   "metadata": {},
   "source": [
    "## Task 15 \n",
    "\n",
    "`AgeGroup` is a bit messy. It should be ordered and includes 2 aggregate categories. Remove the aggregate categories and order the remaining categories.\n"
   ]
  },
  {
   "cell_type": "markdown",
   "id": "26e59a88",
   "metadata": {},
   "source": [
    "<details><summary style='color:darkblue'>HINT: Resulting data frame dimensions. CLICK HERE TO SEE</summary>\n",
    "\n",
    "Your `stroke` data frame should contain 640 rows and 5 columns \n"
   ]
  },
  {
   "cell_type": "markdown",
   "id": "161afcaa",
   "metadata": {},
   "source": [
    "<details><summary style='color:darkblue'>HINT: A new \"not\" operator. CLICK HERE TO SEE</summary>\n",
    "\n",
    "In Python is `~` is a bitwise operator for NOT"
   ]
  },
  {
   "cell_type": "code",
   "execution_count": null,
   "id": "2e609232",
   "metadata": {},
   "outputs": [],
   "source": [
    "## your answer \n"
   ]
  },
  {
   "cell_type": "markdown",
   "id": "f4a2e02c",
   "metadata": {},
   "source": [
    "#### Task 15 Solution "
   ]
  },
  {
   "cell_type": "code",
   "execution_count": null,
   "id": "af52de58",
   "metadata": {},
   "outputs": [],
   "source": [
    "stroke = stroke.loc[~stroke['AgeGroup'].isin([\"All\", \"under75 years\"])]\n",
    "\n",
    "# this code works with ~ and isin because isin returns a boolean Series\n",
    "# so to select rows whose value is not in some value(s), we can negate the boolean Series using ~"
   ]
  },
  {
   "cell_type": "code",
   "execution_count": null,
   "id": "c8362b05",
   "metadata": {},
   "outputs": [],
   "source": [
    "# unique shows us the unique values within our column/Series \n",
    "# but oh no, did we not just remove All and under75 years? Why is it still there?\n",
    "stroke.AgeGroup.unique"
   ]
  },
  {
   "cell_type": "code",
   "execution_count": null,
   "id": "054f0bf6",
   "metadata": {},
   "outputs": [],
   "source": [
    "# we can see how many times the category is used in our the column/Series (i.e., how many rows)\n",
    "stroke.AgeGroup.value_counts()\n",
    "\n",
    "# While All and under75 years are still categories, they are empty, so all is well! "
   ]
  },
  {
   "cell_type": "code",
   "execution_count": null,
   "id": "9e993e26",
   "metadata": {
    "scrolled": true
   },
   "outputs": [],
   "source": [
    "## now for the ordering of our category variable \n",
    "AgeGroup_order = ['0-44 years', '45-64 years', '65-74 years', '75plus years']\n",
    "\n",
    "stroke[\"AgeGroup\"] = stroke[\"AgeGroup\"].cat.set_categories(AgeGroup_order, ordered = True)\n",
    "\n",
    "stroke.AgeGroup.unique()"
   ]
  },
  {
   "cell_type": "markdown",
   "id": "00366da9",
   "metadata": {},
   "source": [
    "### Task 16 \n",
    "\n",
    "Create a summary table with the average number of discharges with a stroke diagnosis by age group for all admissions in the financial years 2021/22 and 2022/23."
   ]
  },
  {
   "cell_type": "markdown",
   "id": "5df16043",
   "metadata": {},
   "source": [
    "<details><summary style='color:darkblue'>HINT: Breaking down the task. CLICK HERE TO SEE</summary>\n",
    "\n",
    "Further filtering of the data is needed for this task. THEN grouping the data in order to compute our values of interest\n"
   ]
  },
  {
   "cell_type": "code",
   "execution_count": null,
   "id": "fb027779",
   "metadata": {},
   "outputs": [],
   "source": [
    "## your answer \n"
   ]
  },
  {
   "cell_type": "markdown",
   "id": "00c057e4",
   "metadata": {},
   "source": [
    "#### Task 16 solution"
   ]
  },
  {
   "cell_type": "code",
   "execution_count": null,
   "id": "f3c79ae4",
   "metadata": {},
   "outputs": [],
   "source": [
    "stroke.loc[(stroke[\"AdmissionType\"] == \"All\") & \n",
    "           (stroke[\"Diagnosis\"]== \"Stroke\") & \n",
    "           (stroke[\"FinancialYear\"].isin([\"2021/22\", \"2022/23\"]))].groupby([\"FinancialYear\", \"AgeGroup\"])[\"NumberOfDischarges\"].mean().dropna()\n",
    "\n",
    "# change the order of the variables in the groupby list to see how the output changes "
   ]
  },
  {
   "cell_type": "markdown",
   "id": "b7fec6fe",
   "metadata": {},
   "source": [
    "---\n",
    "## Well done! 🎉 \n",
    "\n",
    "Well done! You have completed all of the tasks for the Python notebook for this tutorial. If you have not done so yet, now move to the R notebook.\n",
    "\n",
    "Do not forget your 3 stars, a wish, and a step mini-diaries for this week once you have completed the tutorial notebooks and content for the week. \n"
   ]
  },
  {
   "cell_type": "markdown",
   "id": "7ec60837",
   "metadata": {},
   "source": [
    "---\n",
    "*Dr. Brittany Blankinship (2024)*"
   ]
  }
 ],
 "metadata": {
  "kernelspec": {
   "display_name": "Python 3 (ipykernel)",
   "language": "python",
   "name": "python3"
  },
  "language_info": {
   "codemirror_mode": {
    "name": "ipython",
    "version": 3
   },
   "file_extension": ".py",
   "mimetype": "text/x-python",
   "name": "python",
   "nbconvert_exporter": "python",
   "pygments_lexer": "ipython3",
   "version": "3.9.13"
  }
 },
 "nbformat": 4,
 "nbformat_minor": 5
}
