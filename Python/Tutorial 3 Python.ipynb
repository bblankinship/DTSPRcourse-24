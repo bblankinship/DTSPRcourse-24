{
 "cells": [
  {
   "cell_type": "markdown",
   "id": "4390823c",
   "metadata": {},
   "source": [
    "# Tutorial 3: Working with data types in Python\n",
    "\n",
    "There are 11 Tasks in this notebook (though warning some tasks include more than one task) and 3 sections in this tutorial notebook that you can choose between: \n",
    "\n",
    "1. String data \n",
    "2. Categorical data (and Boolean and Numeric and Missing) which includes some advanced bonus tasks\n",
    "3. Date and time data (and string)\n",
    "\n",
    "The aim of this tutorial notebook is to give you some (guided) hands-on experience working with different data types in Python. Which you can then compare with the approaches to working with these data types in R. \n",
    "\n",
    "If you are pair programming, switch who is the driver and who is the navigator at the start of each section. I have included switching prompts within sections before certain tasks as well. If you complete a section here and move to the R notebook, switch drivers then as well. "
   ]
  },
  {
   "cell_type": "code",
   "execution_count": null,
   "id": "45cd9b9f",
   "metadata": {},
   "outputs": [],
   "source": [
    "# it is always good practice to load the necessary packages and modules at the start of your document\n",
    "import pandas as pd \n",
    "from pandas.api.types import CategoricalDtype \n",
    "import numpy as np\n",
    "import datetime as dt \n",
    "import re\n",
    "import itertools \n",
    "from dateutil import parser, tz, relativedelta\n",
    "\n",
    "## there is a future warning that looks scary, but does not matter to us at the moment, so this code supresses it\n",
    "import warnings\n",
    "warnings.simplefilter(action='ignore', category=FutureWarning)"
   ]
  },
  {
   "cell_type": "markdown",
   "id": "6204ff66",
   "metadata": {},
   "source": [
    "## 1. String data "
   ]
  },
  {
   "cell_type": "markdown",
   "id": "7e02d1a9",
   "metadata": {},
   "source": [
    "### Task 1 \n",
    "\n",
    "How would you access \"solstice\" in `string0` below in code?"
   ]
  },
  {
   "cell_type": "code",
   "execution_count": null,
   "id": "cef6a8c3",
   "metadata": {},
   "outputs": [],
   "source": [
    "string0 = \"The summer solstice is on Thursday 20 June 2024\""
   ]
  },
  {
   "cell_type": "markdown",
   "id": "41719b6b",
   "metadata": {},
   "source": [
    "<details><summary style='color:darkblue'>HINT 1: How to start breaking it down? CLICK HERE TO SEE THE ANSWER. BUT REALLY TRY TO DO IT YOURSELF FIRST!</summary>\n",
    "\n",
    "We learned about a function in the Python data types notebook which helps us to identify the index of a string (see section 4). From there, we can use that information to access or *slice* the string "
   ]
  },
  {
   "cell_type": "code",
   "execution_count": null,
   "id": "fe9b8aae",
   "metadata": {},
   "outputs": [],
   "source": [
    "## your answer here\n",
    "\n"
   ]
  },
  {
   "cell_type": "markdown",
   "id": "c1a6e00d",
   "metadata": {},
   "source": [
    "### <font color='green'>*If you are pair programming, switch who is driving now*</font>\n",
    "Remember to run the code cells loading packages & modules when the new driver takes over"
   ]
  },
  {
   "cell_type": "markdown",
   "id": "3ef007b5",
   "metadata": {},
   "source": [
    "## Task 2 - 6\n",
    "\n",
    "There is a corpus of common words in the R `stringr` package that we will use as our data for this task. \n",
    "\n",
    "The process of importing this data and making it workable for this task is a bit complicated. I have outlined the logical steps below in code and here in plain language.\n",
    "\n",
    "First we need to read in the data. To do so, we use the `pd.read_csv('file.csv')` function from the `pandas` package. `read_csv` reads in data from a csv file automatically as a `pandas` data frame structure. Usually this is what we want (as we will see next week), but in this case `words` is a list, so we will then convert the data structure to a list. But oh no, it is a list within a list! We then need to flatten the list structure and join them to be separated by a space, creating a string that we can work with. You could leave the data structure as a list within a list or indeed as a list, but for the purposes of this week, we are learning how to interact with strings. \n"
   ]
  },
  {
   "cell_type": "code",
   "execution_count": null,
   "id": "398eeedb",
   "metadata": {},
   "outputs": [],
   "source": [
    "# read in data\n",
    "## my data is in a folder called data. If you do not have the same set up, update the file path accordingly \n",
    "word_data = pd.read_csv('../data/common_words.csv', header = None) # the first row is not a header, so I have specified header = None \n",
    "\n",
    "type(word_data) # indeed words is currently a data frame "
   ]
  },
  {
   "cell_type": "code",
   "execution_count": null,
   "id": "1fa1f4b3",
   "metadata": {},
   "outputs": [],
   "source": [
    "# view the data that has been read in as a pandas data frame \n",
    "print(word_data)"
   ]
  },
  {
   "cell_type": "code",
   "execution_count": null,
   "id": "b2f29785",
   "metadata": {},
   "outputs": [],
   "source": [
    "# now convert words to a list for this task \n",
    "word_list = word_data.values.tolist()\n",
    "\n",
    "type(word_list) "
   ]
  },
  {
   "cell_type": "markdown",
   "id": "51ef66ff",
   "metadata": {},
   "source": [
    "When reading in data, it is always good practice to print it to make sure it parsed as expected. For this we can use `print()`"
   ]
  },
  {
   "cell_type": "code",
   "execution_count": null,
   "id": "10947b4f",
   "metadata": {},
   "outputs": [],
   "source": [
    "# to see the list within a list structure if you are interested\n",
    "print(word_list)\n",
    "\n",
    "# notice we now have lists within a list [[...]]"
   ]
  },
  {
   "cell_type": "code",
   "execution_count": null,
   "id": "8ec85a42",
   "metadata": {},
   "outputs": [],
   "source": [
    "# flatten the list structure, this uses the intertools module function chain \n",
    "word_list_flat = list(itertools.chain(*word_list)) \n",
    "\n",
    "print(word_list_flat)\n",
    "# great, we are getting there! "
   ]
  },
  {
   "cell_type": "code",
   "execution_count": null,
   "id": "351ab55a",
   "metadata": {},
   "outputs": [],
   "source": [
    "# join the lists to be a string separated by a space \n",
    "words = \" \".join(word_list_flat)"
   ]
  },
  {
   "cell_type": "code",
   "execution_count": null,
   "id": "7751122d",
   "metadata": {},
   "outputs": [],
   "source": [
    "print(words) # happy days - we are ready to go "
   ]
  },
  {
   "cell_type": "markdown",
   "id": "2dda6476",
   "metadata": {},
   "source": [
    "Now we are ready for the task! How many words: \n",
    "\n",
    "- Task 2: Start with \"y\"\n",
    "- Task 3: End with \"w\"\n",
    "- Task 4: Are exactly 3 letters long\n",
    "- Task 5: Have 8 letters or more\n",
    "- Task 6: contain only consonants\n",
    " \n",
    "Tasks 4, 5, and 6 are a bit more tricky. \n",
    "\n",
    "To really stretch yourself, consider using code to produce the answer to the above questions once you have a solution. "
   ]
  },
  {
   "cell_type": "markdown",
   "id": "ac54b203",
   "metadata": {},
   "source": [
    "<details><summary style='color:darkblue'>HINT 1: How to start breaking it down? CLICK HERE TO SEE THE ANSWER. BUT REALLY TRY TO DO IT YOURSELF FIRST!</summary>\n",
    "    \n",
    "To address these problems you will need to use regular expressions. There is a helpful Python regular expression [cheat sheet here](https://www.dataquest.io/wp-content/uploads/2019/03/python-regular-expressions-cheat-sheet.pdf)"
   ]
  },
  {
   "cell_type": "markdown",
   "id": "f6402887",
   "metadata": {},
   "source": [
    "<details><summary style='color:darkblue'>HINT 2: Useful functions. CLICK HERE TO SEE THE ANSWER. BUT REALLY TRY TO DO IT YOURSELF FIRST!</summary>\n",
    "\n",
    "You do not need to manually count the string outputs, remember the `len()` function"
   ]
  },
  {
   "cell_type": "markdown",
   "id": "f9c6f1f0",
   "metadata": {},
   "source": [
    "<details><summary style='color:darkblue'>HINT 3: How to use code to produce the answer?. CLICK HERE TO SEE THE ANSWER. BUT REALLY TRY TO DO IT YOURSELF FIRST!</summary>\n",
    "\n",
    "We learned how to do string interpolation this week in the Python data types notebook (see section 4)"
   ]
  },
  {
   "cell_type": "code",
   "execution_count": null,
   "id": "e72da126",
   "metadata": {},
   "outputs": [],
   "source": [
    "## your answer here\n",
    "\n"
   ]
  },
  {
   "cell_type": "markdown",
   "id": "3704295d",
   "metadata": {},
   "source": [
    "## 2. Categorical data (and Boolean and Numeric and Missing) "
   ]
  },
  {
   "cell_type": "markdown",
   "id": "8bb18520",
   "metadata": {},
   "source": [
    "For this section, there is yet again a data set available in R that we will be using. This time the data comes from the `forcats` package. `forcats::gss_cat` is a sample of data from the General Social Survey, which is a long-running US survey conducted by the independent research organization NORC at the University of Chicago. As the survey has thousands of questions, the `gss_cat` data contains a small subset. \n",
    "\n",
    "Since this data set is provided by an R package, you can get more information about the variables **in R** with `?gss_cat`. \n",
    "\n",
    "As above, to read in the data we will be using our new friend, the the `pd.read_csv('file.csv')` function from the `pandas` package.\n"
   ]
  },
  {
   "cell_type": "code",
   "execution_count": null,
   "id": "91f67f14",
   "metadata": {},
   "outputs": [],
   "source": [
    "# read in data\n",
    "## my data is in a folder called data. If you do not have the same set up, update the file path accordingly \n",
    "gss_cat = pd.read_csv('../data/gss_cat.csv')\n",
    "\n",
    "gss_cat"
   ]
  },
  {
   "cell_type": "code",
   "execution_count": null,
   "id": "10f9df1d",
   "metadata": {
    "scrolled": true
   },
   "outputs": [],
   "source": [
    "## we will learn more about data frames next week but one function to get a summary of what a data frame contains is data.info()\n",
    "## data.info() is similiar to glimpse() in R \n",
    "\n",
    "gss_cat.info()\n"
   ]
  },
  {
   "cell_type": "markdown",
   "id": "fe6629b9",
   "metadata": {},
   "source": [
    "### Task 7\n",
    "What data types are the different variables in `gss_cat`? If there is categoical data, should it be nominal or ordinal? What are the categories of the categorical data? Should or could any of the variable be represented differently in terms of data type?\n",
    "\n",
    "Go through the data set one column at a time answering the above questions for each of the 8 columns. "
   ]
  },
  {
   "cell_type": "markdown",
   "id": "e3da9c5c",
   "metadata": {},
   "source": [
    "<details><summary style='color:darkblue'>HINT 1: Some new functions! CLICK HERE TO SEE THE ANSWER.</summary>\n",
    "\n",
    "This task asks for you to do something we are familiar with from last week - thinking about data types - but to do so you need to use some code we have not learned about yet for working with dataframes. To select a single column, use square brackets `[]` with the column name of the column of interest as a character string - e.g., `dataframe[\"column\"]`. We will discuss this more next week, for those interested, the returned object is a `pandas Series` (which we used some in the Python Data Types Notebook). \n",
    "    \n",
    "Then you can use the `data.head()` function to see the first few rows of data as well as the data type.\n",
    "    \n",
    "You can also use `data.decribe()` to get a summary of the variable. To get more higher level information you can use `data.info()`"
   ]
  },
  {
   "cell_type": "markdown",
   "id": "d89bcd39",
   "metadata": {},
   "source": [
    "<details><summary style='color:darkblue'>HINT 2: A new data type (gasp there's more!). CLICK HERE TO SEE THE ANSWER.</summary>\n",
    "\n",
    "You will notice that some variables/columns are something called type `object`... but what does this mean?? In `pandas` a `object dtype` represents text or mixed numeric and non-numeric values. An `object` is a string in `pandas` so it performs a string operation instead of a mathematical one. Thus, if you want a variable to be treated as categorical (`dtype category`) you need to explicitly cast it as such. The simplest way to convert a column to a categorical type is to use `astype('category')`."
   ]
  },
  {
   "cell_type": "code",
   "execution_count": null,
   "id": "6860eade",
   "metadata": {},
   "outputs": [],
   "source": [
    "## your answer here\n",
    "\n"
   ]
  },
  {
   "cell_type": "markdown",
   "id": "9dcdaaf6",
   "metadata": {},
   "source": [
    "### <font color='green'>*If you are pair programming, switch who is driving now*</font>\n",
    "Remember to run the code cells loading packages & modules and reading in the data for this section when the new driver takes over"
   ]
  },
  {
   "cell_type": "markdown",
   "id": "9f51d3e7",
   "metadata": {},
   "source": [
    "## Task 8 \n",
    "\n",
    "Make `age` a factor. When modifying an object by changing values or the data type, it is good practice to create a new object with a meaningfully modified name rather than over-write the original one. "
   ]
  },
  {
   "cell_type": "code",
   "execution_count": null,
   "id": "2ad0767b",
   "metadata": {},
   "outputs": [],
   "source": [
    "# first let's take out age as a pandas Series \n",
    "age = gss_cat[\"age\"]"
   ]
  },
  {
   "cell_type": "code",
   "execution_count": null,
   "id": "bf370a74",
   "metadata": {},
   "outputs": [],
   "source": [
    "type(age)"
   ]
  },
  {
   "cell_type": "code",
   "execution_count": null,
   "id": "1ff2c173",
   "metadata": {},
   "outputs": [],
   "source": [
    "## your answer here\n",
    "\n"
   ]
  },
  {
   "cell_type": "markdown",
   "id": "e0be716d",
   "metadata": {},
   "source": [
    "### Task 8 Advanced \n",
    "\n",
    "It is a bit more advanced to from here make `age` an ordinal categorical data type with 5 levels: 18-25, 26-44, 45-64, 65-74, 75+. To do so, we need to use `pandas.cut()` to sort out data values into bins. \n",
    "\n",
    "**Before looking at the solution, challenge yourself to think about the logical steps needed to solve this problem. Write them down and see how they match up to the solution provided.**"
   ]
  },
  {
   "cell_type": "markdown",
   "id": "159e2eae",
   "metadata": {},
   "source": [
    "##### Your answer to the logical steps \n",
    "\n",
    "1. ....\n",
    "\n",
    "\n",
    "2. ....\n",
    "\n",
    "\n",
    "3. ....\n",
    "\n",
    "\n",
    "4. ....\n",
    "\n",
    "\n",
    "...."
   ]
  },
  {
   "cell_type": "markdown",
   "id": "9998d04a",
   "metadata": {},
   "source": [
    "As we have not learned about this function yet, I will show you the solution and ask for you to try and figure out how it works. Modify some of the code to see what happens. Do not worry, you cannot break your computer (unless you throw it perhaps)! If you have any errors you cannot figure out, ask one of the teaching team for help during the tutorial or post on the discussion boards afterwards. \n",
    "\n",
    "Before making any changes to our variable, it is good practice to check if there are any missing values lurking in the shadows trying to ruin our day. "
   ]
  },
  {
   "cell_type": "code",
   "execution_count": null,
   "id": "25f20362",
   "metadata": {},
   "outputs": [],
   "source": [
    "age_f.isna().values.any()\n",
    "\n",
    "## try to run the above about without .values.any() to see why we need it "
   ]
  },
  {
   "cell_type": "code",
   "execution_count": null,
   "id": "950aa77a",
   "metadata": {},
   "outputs": [],
   "source": [
    "# next we can use sum to see how many there are \n",
    "## becuase is.na() returns Boolean values and True is truthy, we can use sum... understanding data types is so useful! \n",
    "\n",
    "age_f.isna().sum()"
   ]
  },
  {
   "cell_type": "markdown",
   "id": "54eea256",
   "metadata": {},
   "source": [
    "So we do indeed have some missing values (76 to be exact), which we will keep in mind. "
   ]
  },
  {
   "cell_type": "code",
   "execution_count": null,
   "id": "e9fa5161",
   "metadata": {},
   "outputs": [],
   "source": [
    "age_groups = pd.cut(\n",
    "    age_f,\n",
    "    bins = [-np.inf, 25, 44, 64, 74, np.inf],\n",
    "    labels = [\"18-25\", \"26-44\", \"45-64\", \"65-74\", \"75+\"]) "
   ]
  },
  {
   "cell_type": "code",
   "execution_count": null,
   "id": "c1afe78d",
   "metadata": {},
   "outputs": [],
   "source": [
    "age_groups.head() # looking good "
   ]
  },
  {
   "cell_type": "code",
   "execution_count": null,
   "id": "d0e37064",
   "metadata": {},
   "outputs": [],
   "source": [
    "age_groups.cat.categories # celebration!"
   ]
  },
  {
   "cell_type": "code",
   "execution_count": null,
   "id": "1974965e",
   "metadata": {
    "scrolled": false
   },
   "outputs": [],
   "source": [
    "# and look at that, pandas.cut() made it ordered for us too! \n",
    "## this is because the default behavior of the argument ordered is True\n",
    "print(age_groups.cat.ordered) "
   ]
  },
  {
   "cell_type": "markdown",
   "id": "ee28abc0",
   "metadata": {},
   "source": [
    "Reading documentation is a skill that you will develop over time with practice. Try and read the documentation for the cut function from pandas to see what you and learn. Ask a member of the teaching team during the tutorial or post on the discussion boards if you get stuck."
   ]
  },
  {
   "cell_type": "code",
   "execution_count": null,
   "id": "bc710234",
   "metadata": {},
   "outputs": [],
   "source": [
    "# look at the documentation for more info \n",
    "help(pd.cut)"
   ]
  },
  {
   "cell_type": "markdown",
   "id": "3edb3ede",
   "metadata": {},
   "source": [
    "### <font color='green'>*If you are pair programming, switch who is driving now*</font>\n",
    "Remember to run the code cells loading packages & modules and reading in the data for this section when the new driver takes over"
   ]
  },
  {
   "cell_type": "markdown",
   "id": "0e798f46",
   "metadata": {},
   "source": [
    "### Task 9 \n",
    "\n",
    "How could you collapse `rincome` into a small set of categories (e.g., `\"Unknown\"`, `\"less than $5000\"`, `\"$5000 to $9999\"`, `\"$10000 or more\"`)?\n",
    "\n",
    "Look at some summaries of the object and think about some of the challenges that you need to overcome to complete the task. Write down the steps you would need to take in plain language, regardless of if you know how to do it in code. Understanding **what** you need to do is just an important, if not more so, than **how** you will do it (i.e., in code).\n",
    "\n",
    "You can also look back at your solution to Task 7 above. \n"
   ]
  },
  {
   "cell_type": "code",
   "execution_count": null,
   "id": "e9472c9a",
   "metadata": {},
   "outputs": [],
   "source": [
    "# first let's take out rincome as a pandas Series \n",
    "rincome = gss_cat[\"rincome\"]\n",
    "\n",
    "print(rincome.describe())"
   ]
  },
  {
   "cell_type": "code",
   "execution_count": null,
   "id": "a80be689",
   "metadata": {},
   "outputs": [],
   "source": [
    "print(rincome.head())"
   ]
  },
  {
   "cell_type": "code",
   "execution_count": null,
   "id": "2aba0099",
   "metadata": {
    "scrolled": true
   },
   "outputs": [],
   "source": [
    "print(rincome.unique())"
   ]
  },
  {
   "cell_type": "markdown",
   "id": "fae133e9",
   "metadata": {},
   "source": [
    "##### Your answer to the logical steps \n",
    "\n",
    "1. ....\n",
    "\n",
    "\n",
    "2. ....\n",
    "\n",
    "\n",
    "3. ....\n",
    "\n",
    "\n",
    "4. ....\n",
    "\n",
    "\n",
    "....\n"
   ]
  },
  {
   "cell_type": "markdown",
   "id": "6b120ab1",
   "metadata": {},
   "source": [
    "### Advanced bonus task (Task 9) \n",
    "\n",
    "The advanced bonus task, should you choose to accept it, is to attempt your solution to Task 9 in code! See how far you can get! Have a look at the solutions document for a worked solution to this task. "
   ]
  },
  {
   "cell_type": "code",
   "execution_count": null,
   "id": "df131f81",
   "metadata": {},
   "outputs": [],
   "source": [
    "## your answer here\n",
    "\n"
   ]
  },
  {
   "cell_type": "markdown",
   "id": "bc5d10ad",
   "metadata": {},
   "source": [
    "## 3. Date and time data (and string)"
   ]
  },
  {
   "cell_type": "markdown",
   "id": "38954874",
   "metadata": {},
   "source": [
    "### Task 10 \n",
    "\n",
    "Create an object showing the date 140 days from now and print the output nicely formatted (`\"month day, year at hour minute\"`) using `strftime()`. Then create an object with the date 2 years from now and similarly print the output nicely formatted. "
   ]
  },
  {
   "cell_type": "markdown",
   "id": "afd50c25",
   "metadata": {},
   "source": [
    "<details><summary style='color:darkblue'>HINT 1: How to start breaking it down? CLICK HERE TO SEE THE ANSWER. BUT REALLY TRY TO DO IT YOURSELF FIRST!</summary>\n",
    "    \n",
    "`timedelta` instances allow for arithmetic, but only at the level of days, hours, minutes, or seconds. To add or subtract intervals larger than a day, such as a month or a year we use `relativedelta`"
   ]
  },
  {
   "cell_type": "code",
   "execution_count": null,
   "id": "7e262d91",
   "metadata": {},
   "outputs": [],
   "source": [
    "## your answer here\n",
    "\n"
   ]
  },
  {
   "cell_type": "markdown",
   "id": "6aba3927",
   "metadata": {},
   "source": [
    "### <font color='green'>*If you are pair programming, switch who is driving now*</font>\n",
    "Remember to run the code cells loading packages & modules when the new driver takes over "
   ]
  },
  {
   "cell_type": "markdown",
   "id": "2d93e2fd",
   "metadata": {},
   "source": [
    "## Task 11 \n",
    "\n",
    "This is a big one, so I have separated the task into different parts. By the end, you will have made a countdown clock to your birthday! (how cool!)\n",
    "\n",
    "We will start by making a countdown clock until the annual Fringe Festival in Edinburgh in August. The festival starts on 2 August 2024 at 13:35"
   ]
  },
  {
   "cell_type": "markdown",
   "id": "6d5cc0c8",
   "metadata": {},
   "source": [
    "### Step 1\n",
    "\n",
    "Create a datetime object with the Fringe date."
   ]
  },
  {
   "cell_type": "code",
   "execution_count": null,
   "id": "9321e1ad",
   "metadata": {},
   "outputs": [],
   "source": [
    "## your answer here\n",
    "\n"
   ]
  },
  {
   "cell_type": "markdown",
   "id": "0cf03608",
   "metadata": {},
   "source": [
    "### Step 2\n",
    "\n",
    "Create a countdown date object using arithmetic from the fringe datetime until now. This will be a `timedelta` data type, which represents the time between 2 `datetime` instances."
   ]
  },
  {
   "cell_type": "markdown",
   "id": "99fd452b",
   "metadata": {},
   "source": [
    "<details><summary style='color:darkblue'>HINT: Useful functions. CLICK HERE TO SEE THE ANSWER. BUT REALLY TRY TO DO IT YOURSELF FIRST!</summary>\n",
    "\n",
    "Use one the `dt.datetime` functions to get the date and time now, rather than hard coding it "
   ]
  },
  {
   "cell_type": "code",
   "execution_count": null,
   "id": "f19238f9",
   "metadata": {},
   "outputs": [],
   "source": [
    "## your answer here\n",
    "\n"
   ]
  },
  {
   "cell_type": "markdown",
   "id": "be2e8b4c",
   "metadata": {},
   "source": [
    "### Step 3\n",
    "\n",
    "Write an interpolating character string which will take our countdown object and tell us how many days until Fringe! \n"
   ]
  },
  {
   "cell_type": "code",
   "execution_count": null,
   "id": "b93f6976",
   "metadata": {},
   "outputs": [],
   "source": [
    "## your answer here\n",
    "\n"
   ]
  },
  {
   "cell_type": "markdown",
   "id": "a7c98863",
   "metadata": {},
   "source": [
    "### Step 4\n",
    "\n",
    "We have a minumum viable product (MVP) for our task, which is great! *BUT* we can improve our countdown accuracy using timezones (i.e., aware objects)! Let's say we want a countdown specifically for someone living in California in the United States.  \n",
    "\n",
    "Create a second datetime object for the Fringe date and set the correct time zone (i.e., Edinburgh)."
   ]
  },
  {
   "cell_type": "code",
   "execution_count": null,
   "id": "830282e3",
   "metadata": {},
   "outputs": [],
   "source": [
    "## your answer here\n",
    "\n"
   ]
  },
  {
   "cell_type": "markdown",
   "id": "32026044",
   "metadata": {},
   "source": [
    "### Step 5 \n",
    "\n",
    "Now create a datetime object for the now time in California"
   ]
  },
  {
   "cell_type": "markdown",
   "id": "698fef30",
   "metadata": {},
   "source": [
    "<details><summary style='color:darkblue'>HINT: Useful functions. CLICK HERE TO SEE THE ANSWER. BUT REALLY TRY TO DO IT YOURSELF FIRST!</summary>\n",
    "\n",
    "* Use one of the timezone `tz` functions we learned about to create time zones not reported by your system\n",
    "* Use one the `dt.datetime` functions to get the date and time now, rather than hard coding it "
   ]
  },
  {
   "cell_type": "code",
   "execution_count": null,
   "id": "17fd906d",
   "metadata": {},
   "outputs": [],
   "source": [
    "## your answer here\n",
    "\n"
   ]
  },
  {
   "cell_type": "markdown",
   "id": "518a7152",
   "metadata": {},
   "source": [
    "### Step 6 \n",
    "\n",
    "Now we are ready again to create a second countdown date object using arithmetic with the aware datetime objects we have create for the fringe until now (in California, USA)."
   ]
  },
  {
   "cell_type": "code",
   "execution_count": null,
   "id": "dee67c9e",
   "metadata": {},
   "outputs": [],
   "source": [
    "## your answer here\n",
    "\n"
   ]
  },
  {
   "cell_type": "markdown",
   "id": "1adbfb81",
   "metadata": {},
   "source": [
    "### Step 7 \n",
    "\n",
    "Final step, write an interpolating character string which will take our countdown object and tell us how many days until Fringe! \n"
   ]
  },
  {
   "cell_type": "code",
   "execution_count": null,
   "id": "40e78bdb",
   "metadata": {},
   "outputs": [],
   "source": [
    "## your answer here\n",
    "\n"
   ]
  },
  {
   "cell_type": "markdown",
   "id": "23771ef2",
   "metadata": {},
   "source": [
    "### Bonus \n",
    "\n",
    "When creating date, time, or datetime objects, you can use the `parser.parse()` function from `dateutil` which takes a string and parses (reads) the date into Python for you!"
   ]
  },
  {
   "cell_type": "code",
   "execution_count": null,
   "id": "9cc4c210",
   "metadata": {},
   "outputs": [],
   "source": [
    "## for example \n",
    "\n",
    "example_date = parser.parse(\"1 January 2024 1:00AM\")\n",
    "\n",
    "print(example_date)"
   ]
  },
  {
   "cell_type": "markdown",
   "id": "cee61ca5",
   "metadata": {},
   "source": [
    "### <font color='green'>*If you are pair programming, switch who is driving now*</font>\n",
    "Remember to run the code cells loading packages & modules when the new driver takes over "
   ]
  },
  {
   "cell_type": "markdown",
   "id": "bc10355a",
   "metadata": {},
   "source": [
    "### Step 8 \n",
    "\n",
    "Put it all together and instead of Fringe, use your next birthday! If you want to use aware datetime objects, guess which timezone you may be in on your birthday. Be sure to update the interpolating string to reflect the new countdown event"
   ]
  },
  {
   "cell_type": "code",
   "execution_count": null,
   "id": "a61ddac0",
   "metadata": {},
   "outputs": [],
   "source": [
    "## your answer here\n",
    "\n"
   ]
  },
  {
   "cell_type": "markdown",
   "id": "51fc7003",
   "metadata": {},
   "source": [
    "---\n",
    "\n",
    "## Well done! 🎉 \n",
    "\n",
    "Well done! You have completed all of the tasks for the Python notebook for this tutorial. If you have not done so yet, now move to the R notebook."
   ]
  },
  {
   "cell_type": "markdown",
   "id": "3485566c",
   "metadata": {},
   "source": [
    "---\n",
    "*Dr. Brittany Blankinship (2024)*"
   ]
  }
 ],
 "metadata": {
  "kernelspec": {
   "display_name": "Python 3 (ipykernel)",
   "language": "python",
   "name": "python3"
  },
  "language_info": {
   "codemirror_mode": {
    "name": "ipython",
    "version": 3
   },
   "file_extension": ".py",
   "mimetype": "text/x-python",
   "name": "python",
   "nbconvert_exporter": "python",
   "pygments_lexer": "ipython3",
   "version": "3.9.12"
  }
 },
 "nbformat": 4,
 "nbformat_minor": 5
}
