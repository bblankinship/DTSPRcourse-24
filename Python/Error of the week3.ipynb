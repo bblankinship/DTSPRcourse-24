{
 "cells": [
  {
   "cell_type": "markdown",
   "id": "414e4ba8-d956-4604-9402-e04c5c4e977b",
   "metadata": {},
   "source": [
    "## Error of the week - week 3\n",
    "author: tthejll\n",
    "\n",
    "date: \"2024-04-24\"\n"
   ]
  },
  {
   "cell_type": "markdown",
   "id": "08aff9fe-fc62-4656-abcf-e18f78aa123b",
   "metadata": {},
   "source": [
    "This week we are looking at types, comparisons, and process of finding things out! "
   ]
  },
  {
   "cell_type": "markdown",
   "id": "41fbb0cc-9669-471b-901d-81cfa31c808f",
   "metadata": {},
   "source": [
    "Let's explore the `max` function"
   ]
  },
  {
   "cell_type": "code",
   "execution_count": 1,
   "id": "f8e14edb-76af-4c3d-864c-e60cea38bbc8",
   "metadata": {},
   "outputs": [
    {
     "name": "stdout",
     "output_type": "stream",
     "text": [
      "5\n"
     ]
    }
   ],
   "source": [
    "a_list = [1,2,3,4,5]\n",
    "\n",
    "print(max(a_list))\n"
   ]
  },
  {
   "cell_type": "markdown",
   "id": "a753ef64-a034-4555-bf6f-595f45a3248b",
   "metadata": {},
   "source": [
    "It works! It gets five - let's see what happens if we have a `str` in the list."
   ]
  },
  {
   "cell_type": "code",
   "execution_count": 2,
   "id": "6b54ee23-6665-427b-a4f9-cd5de0b81523",
   "metadata": {},
   "outputs": [
    {
     "ename": "TypeError",
     "evalue": "'>' not supported between instances of 'str' and 'int'",
     "output_type": "error",
     "traceback": [
      "\u001b[0;31m---------------------------------------------------------------------------\u001b[0m",
      "\u001b[0;31mTypeError\u001b[0m                                 Traceback (most recent call last)",
      "Cell \u001b[0;32mIn[2], line 3\u001b[0m\n\u001b[1;32m      1\u001b[0m b_list \u001b[38;5;241m=\u001b[39m [\u001b[38;5;241m1\u001b[39m,\u001b[38;5;241m2\u001b[39m,\u001b[38;5;241m3\u001b[39m,\u001b[38;5;124m\"\u001b[39m\u001b[38;5;124m4\u001b[39m\u001b[38;5;124m\"\u001b[39m,\u001b[38;5;241m5\u001b[39m]\n\u001b[0;32m----> 3\u001b[0m \u001b[38;5;28mprint\u001b[39m(\u001b[38;5;28mmax\u001b[39m(b_list))\n",
      "\u001b[0;31mTypeError\u001b[0m: '>' not supported between instances of 'str' and 'int'"
     ]
    }
   ],
   "source": [
    "b_list = [1,2,3,\"4\",5]\n",
    "\n",
    "print(max(b_list))\n"
   ]
  },
  {
   "cell_type": "markdown",
   "id": "4c1ab507-329d-40c1-b4f9-8f79bf72e66e",
   "metadata": {},
   "source": [
    "Oh oh! An error - let's break down how we read it:\n",
    "\n",
    "It tells us what type of error it is and it tells us line of code (i.e. `TypeError` and `3 print(max(b_list))`.  And then it has an extra message telling us exactly what went wrong."
   ]
  },
  {
   "cell_type": "markdown",
   "id": "63090c72-132f-472e-8452-15dc0f045402",
   "metadata": {},
   "source": [
    "`TypeError:` '`>`' not supported between instances of '`str`' and '`int`'"
   ]
  },
  {
   "cell_type": "markdown",
   "id": "25120196-86f9-455a-9f83-ca9d009f6e3a",
   "metadata": {},
   "source": [
    "Let's learn a bit more about the max function"
   ]
  },
  {
   "cell_type": "code",
   "execution_count": 3,
   "id": "c3cde6a0-3b23-4129-bbde-015b07b0f666",
   "metadata": {},
   "outputs": [
    {
     "name": "stdout",
     "output_type": "stream",
     "text": [
      "Help on built-in function max in module builtins:\n",
      "\n",
      "max(...)\n",
      "    max(iterable, *[, default=obj, key=func]) -> value\n",
      "    max(arg1, arg2, *args, *[, key=func]) -> value\n",
      "    \n",
      "    With a single iterable argument, return its biggest item. The\n",
      "    default keyword-only argument specifies an object to return if\n",
      "    the provided iterable is empty.\n",
      "    With two or more arguments, return the largest argument.\n",
      "\n"
     ]
    }
   ],
   "source": [
    "help(max)"
   ]
  },
  {
   "cell_type": "markdown",
   "id": "f488a16c-a979-480e-89af-c0c0ab78973d",
   "metadata": {},
   "source": [
    "Let's see online https://docs.python.org/3/library/functions.html#max"
   ]
  },
  {
   "cell_type": "markdown",
   "id": "c504f6ee-5ef7-4e69-8622-57e9852bda96",
   "metadata": {},
   "source": [
    "It doesn't actually specify a type and if we read the error a bit more closely, it tells us that the error is actually with the `>` operator"
   ]
  },
  {
   "cell_type": "code",
   "execution_count": 4,
   "id": "bd76b727-56d0-4297-bea2-277f4c1985bb",
   "metadata": {},
   "outputs": [
    {
     "ename": "TypeError",
     "evalue": "'>' not supported between instances of 'str' and 'int'",
     "output_type": "error",
     "traceback": [
      "\u001b[0;31m---------------------------------------------------------------------------\u001b[0m",
      "\u001b[0;31mTypeError\u001b[0m                                 Traceback (most recent call last)",
      "Cell \u001b[0;32mIn[4], line 1\u001b[0m\n\u001b[0;32m----> 1\u001b[0m \u001b[38;5;124m\"\u001b[39m\u001b[38;5;124m1\u001b[39m\u001b[38;5;124m\"\u001b[39m \u001b[38;5;241m>\u001b[39m \u001b[38;5;241m1\u001b[39m\n",
      "\u001b[0;31mTypeError\u001b[0m: '>' not supported between instances of 'str' and 'int'"
     ]
    }
   ],
   "source": [
    "\"1\" > 1"
   ]
  },
  {
   "cell_type": "markdown",
   "id": "31053396-428b-4a36-886a-d1eeed2dcd2b",
   "metadata": {},
   "source": [
    "That's the same error - so clearly, the `max` function relies on `>` to make comparisons"
   ]
  },
  {
   "cell_type": "markdown",
   "id": "bf6c3629-9dd9-402d-a158-e3f1b6fa5b61",
   "metadata": {},
   "source": [
    "But it says it doesn't work _between_ `str` and `int`, so it works on `str`?  "
   ]
  },
  {
   "cell_type": "code",
   "execution_count": 5,
   "id": "17036773-862c-4d0e-ba04-08d972a65122",
   "metadata": {},
   "outputs": [
    {
     "data": {
      "text/plain": [
       "True"
      ]
     },
     "execution_count": 5,
     "metadata": {},
     "output_type": "execute_result"
    }
   ],
   "source": [
    "\"a\" < \"b\""
   ]
  },
  {
   "cell_type": "markdown",
   "id": "14f8af73-1104-459d-9f2e-bdb20356757c",
   "metadata": {},
   "source": [
    "It does - I think it does alphabetical order"
   ]
  },
  {
   "cell_type": "code",
   "execution_count": 6,
   "id": "417b9a6c-9592-48f7-90b0-0138ac424ab8",
   "metadata": {},
   "outputs": [
    {
     "data": {
      "text/plain": [
       "False"
      ]
     },
     "execution_count": 6,
     "metadata": {},
     "output_type": "execute_result"
    }
   ],
   "source": [
    "\"b\" < \"a\" "
   ]
  },
  {
   "cell_type": "markdown",
   "id": "13117318-5d9e-4c1b-8f47-71a99856c692",
   "metadata": {},
   "source": [
    "So that means we can use `max` on a list of strings! "
   ]
  },
  {
   "cell_type": "code",
   "execution_count": 7,
   "id": "8411c40a-07bb-496d-afca-e20bb36dfd74",
   "metadata": {},
   "outputs": [
    {
     "name": "stdout",
     "output_type": "stream",
     "text": [
      "two\n"
     ]
    }
   ],
   "source": [
    "c_list = [\"one\",\"two\",\"three\",\"four\",\"five\"]\n",
    "\n",
    "print(max(c_list))\n"
   ]
  },
  {
   "cell_type": "code",
   "execution_count": null,
   "id": "35c3375d-c297-40f3-a36a-3b6f02a4ca89",
   "metadata": {},
   "outputs": [],
   "source": []
  },
  {
   "cell_type": "code",
   "execution_count": null,
   "id": "0b12c0b6-2439-4338-9a3c-17a4c4739cc1",
   "metadata": {},
   "outputs": [],
   "source": []
  }
 ],
 "metadata": {
  "kernelspec": {
   "display_name": "Python 3 (ipykernel)",
   "language": "python",
   "name": "python3"
  },
  "language_info": {
   "codemirror_mode": {
    "name": "ipython",
    "version": 3
   },
   "file_extension": ".py",
   "mimetype": "text/x-python",
   "name": "python",
   "nbconvert_exporter": "python",
   "pygments_lexer": "ipython3",
   "version": "3.11.0"
  }
 },
 "nbformat": 4,
 "nbformat_minor": 5
}
