{
 "cells": [
  {
   "cell_type": "markdown",
   "id": "4390823c",
   "metadata": {},
   "source": [
    "# Tutorial 3: Working with data types in Python\n",
    "\n",
    "There are 11 Tasks in this notebook (though warning some tasks include more than one task) and 3 sections in this tutorial notebook that you can choose between: \n",
    "\n",
    "1. String data \n",
    "2. Categorical data (and Boolean and Numeric and Missing) which includes some advanced bonus tasks\n",
    "3. Date and time data (and string)\n",
    "\n",
    "The aim of this tutorial notebook is to give you some (guided) hands-on experience working with different data types in Python. Which you can then compare with the approaches to working with these data types in R. "
   ]
  },
  {
   "cell_type": "code",
   "execution_count": null,
   "id": "45cd9b9f",
   "metadata": {},
   "outputs": [],
   "source": [
    "# it is always good practice to load the necessary packages and modules at the start of your document\n",
    "import pandas as pd \n",
    "from pandas.api.types import CategoricalDtype \n",
    "import numpy as np\n",
    "import datetime as dt \n",
    "import re\n",
    "import itertools \n",
    "from dateutil import parser, tz, relativedelta\n",
    "\n",
    "## there is a future warning that looks scary, but does not matter to us at the moment, so this code supresses it\n",
    "import warnings\n",
    "warnings.simplefilter(action='ignore', category=FutureWarning)"
   ]
  },
  {
   "cell_type": "markdown",
   "id": "6204ff66",
   "metadata": {},
   "source": [
    "## 1. String data "
   ]
  },
  {
   "cell_type": "markdown",
   "id": "7e02d1a9",
   "metadata": {},
   "source": [
    "### Task 1 \n",
    "\n",
    "How would you access \"solstice\" in `string0` below in code?"
   ]
  },
  {
   "cell_type": "code",
   "execution_count": null,
   "id": "cef6a8c3",
   "metadata": {},
   "outputs": [],
   "source": [
    "string0 = \"The summer solstice is on Thursday 20 June 2024\""
   ]
  },
  {
   "cell_type": "markdown",
   "id": "41719b6b",
   "metadata": {},
   "source": [
    "<details><summary style='color:darkblue'>HINT 1: How to start breaking it down? CLICK HERE TO SEE THE ANSWER. BUT REALLY TRY TO DO IT YOURSELF FIRST!</summary>\n",
    "\n",
    "We learned about a function in the Python data types notebook which helps us to identify the index of a string (see section 4). From there, we can use that information to access or *slice* the string "
   ]
  },
  {
   "cell_type": "code",
   "execution_count": null,
   "id": "fe9b8aae",
   "metadata": {},
   "outputs": [],
   "source": [
    "## your answer here\n",
    "\n"
   ]
  },
  {
   "cell_type": "markdown",
   "id": "1d8c1a68",
   "metadata": {},
   "source": [
    "#### Task 1 solution "
   ]
  },
  {
   "cell_type": "code",
   "execution_count": null,
   "id": "6eb7a3fc",
   "metadata": {},
   "outputs": [],
   "source": [
    "# first find the index for the word in the string \n",
    "print(string0.index(\"solstice\"))"
   ]
  },
  {
   "cell_type": "code",
   "execution_count": null,
   "id": "5078e179",
   "metadata": {},
   "outputs": [],
   "source": [
    "# then taking that info slice the string\n",
    "print(string0[11:19])"
   ]
  },
  {
   "cell_type": "markdown",
   "id": "3ef007b5",
   "metadata": {},
   "source": [
    "## Task 2 - 6\n",
    "\n",
    "There is a corpus of common words in the R `stringr` package that we will use as our data for this task. \n",
    "\n",
    "The process of importing this data and making it workable for this task is a bit complicated. I have outlined the logical steps below in code and here in plain language.\n",
    "\n",
    "First we need to read in the data. To do so, we use the `pd.read_csv('file.csv')` function from the `pandas` package. `read_csv` reads in data from a csv file automatically as a `pandas` data frame structure. Usually this is what we want (as we will see next week), but in this case `words` is a list, so we will then convert the data structure to a list. But oh no, it is a list within a list! We then need to flatten the list structure and join them to be separated by a space, creating a string that we can work with. You could leave the data structure as a list within a list or indeed as a list, but for the purposes of this week, we are learning how to interact with strings. \n"
   ]
  },
  {
   "cell_type": "code",
   "execution_count": null,
   "id": "398eeedb",
   "metadata": {},
   "outputs": [],
   "source": [
    "# read in data\n",
    "## my data is in a folder called data. If you do not have the same set up, update the file path accordingly \n",
    "word_data = pd.read_csv('../data/common_words.csv', header = None) # the first row is not a header, so I have specified header = None \n",
    "\n",
    "type(word_data) # indeed words is currently a data frame "
   ]
  },
  {
   "cell_type": "code",
   "execution_count": null,
   "id": "dc471272",
   "metadata": {},
   "outputs": [],
   "source": [
    "# view the data that has been read in as a pandas data frame \n",
    "print(word_data)"
   ]
  },
  {
   "cell_type": "code",
   "execution_count": null,
   "id": "b2f29785",
   "metadata": {},
   "outputs": [],
   "source": [
    "# now convert words to a list for this task \n",
    "word_list = word_data.values.tolist()\n",
    "\n",
    "type(word_list) "
   ]
  },
  {
   "cell_type": "markdown",
   "id": "51ef66ff",
   "metadata": {},
   "source": [
    "When reading in data, it is always good practice to print it to make sure it parsed as expected. For this we can use `print()`"
   ]
  },
  {
   "cell_type": "code",
   "execution_count": null,
   "id": "ae651550",
   "metadata": {},
   "outputs": [],
   "source": [
    "# to see the list within a list structure if you are interested\n",
    "print(word_list)\n",
    "\n",
    "# notice we now have lists within a list [[...]]"
   ]
  },
  {
   "cell_type": "code",
   "execution_count": null,
   "id": "8ec85a42",
   "metadata": {},
   "outputs": [],
   "source": [
    "# flatten the list structure, this uses the intertools module function chain \n",
    "word_list_flat = list(itertools.chain(*word_list)) \n",
    "\n",
    "print(word_list_flat)\n",
    "# great, we are getting there! "
   ]
  },
  {
   "cell_type": "code",
   "execution_count": null,
   "id": "1ab561ea",
   "metadata": {},
   "outputs": [],
   "source": [
    "# join the lists to be a string separated by a space \n",
    "words = \" \".join(word_list_flat)"
   ]
  },
  {
   "cell_type": "code",
   "execution_count": null,
   "id": "7751122d",
   "metadata": {},
   "outputs": [],
   "source": [
    "print(words) # happy days - we are ready to go "
   ]
  },
  {
   "cell_type": "markdown",
   "id": "2dda6476",
   "metadata": {},
   "source": [
    "Now we are ready for the task! How many words: \n",
    "\n",
    "- Task 2: Start with \"y\"\n",
    "- Task 3: End with \"w\"\n",
    "- Task 4: Are exactly 3 letters long\n",
    "- Task 5: Have 8 letters or more\n",
    "- Task 6: contain only consonants\n",
    " \n",
    "Tasks 4, 5, and 6 are a bit more tricky. \n",
    "\n",
    "To really stretch yourself, consider using code to produce the answer to the above questions once you have a solution. "
   ]
  },
  {
   "cell_type": "markdown",
   "id": "ac54b203",
   "metadata": {},
   "source": [
    "<details><summary style='color:darkblue'>HINT 1: How to start breaking it down? CLICK HERE TO SEE THE ANSWER. BUT REALLY TRY TO DO IT YOURSELF FIRST!</summary>\n",
    "    \n",
    "To address these problems you will need to use regular expressions. There is a helpful Python regular expression [cheat sheet here](https://www.dataquest.io/wp-content/uploads/2019/03/python-regular-expressions-cheat-sheet.pdf)"
   ]
  },
  {
   "cell_type": "markdown",
   "id": "f6402887",
   "metadata": {},
   "source": [
    "<details><summary style='color:darkblue'>HINT 2: Useful functions. CLICK HERE TO SEE THE ANSWER. BUT REALLY TRY TO DO IT YOURSELF FIRST!</summary>\n",
    "\n",
    "You do not need to manually count the string outputs, remember the `len()` function"
   ]
  },
  {
   "cell_type": "markdown",
   "id": "453cd7ca",
   "metadata": {},
   "source": [
    "<details><summary style='color:darkblue'>HINT 3: How to use code to produce the answer?. CLICK HERE TO SEE THE ANSWER. BUT REALLY TRY TO DO IT YOURSELF FIRST!</summary>\n",
    "\n",
    "We learned how to do string interpolation this week in the Python data types notebook (see section 4)"
   ]
  },
  {
   "cell_type": "code",
   "execution_count": null,
   "id": "e72da126",
   "metadata": {},
   "outputs": [],
   "source": [
    "## your answer here\n",
    "\n"
   ]
  },
  {
   "cell_type": "markdown",
   "id": "a2fbfe8f",
   "metadata": {},
   "source": [
    "#### Task 2 - 6 Solutions"
   ]
  },
  {
   "cell_type": "code",
   "execution_count": null,
   "id": "d8bc25da",
   "metadata": {},
   "outputs": [],
   "source": [
    "# Task 2: Start with \"y\"\n",
    "\n",
    "print(re.findall(r'\\b[y]\\w+', words)) \n",
    "\n",
    "## the r prefix before the pattern string creates a raw string, which we need for the following regular expression  \n",
    "## \\b maching the boundary at the start or end of a word (a non-word character)\n",
    "## [] contain a set of characters to match \n",
    "## y is our alphanumeric character of interest to match \n",
    "## \\w matches alphanumeric characters \n",
    "## + greedily matches the expression to its left 1 or more times\n",
    "\n",
    "## remove or edit one or more of these regex components to get a better understanding of how this works "
   ]
  },
  {
   "cell_type": "markdown",
   "id": "e7b514de",
   "metadata": {},
   "source": [
    "There are 6 words that start with 'y'. We could also write this answer using code! For example: "
   ]
  },
  {
   "cell_type": "code",
   "execution_count": null,
   "id": "c0e0574d",
   "metadata": {},
   "outputs": [],
   "source": [
    "# first we need to create an object with our list of words that match out criteria \n",
    "task2 = re.findall(r'\\b[y]\\w+', words)\n",
    "\n",
    "# then we can use an f-string \n",
    "f\"There are {len(task2)} words that start with 'y' in the data\""
   ]
  },
  {
   "cell_type": "code",
   "execution_count": null,
   "id": "58df51fe",
   "metadata": {},
   "outputs": [],
   "source": [
    "## if you wrap your fstring in a print function, it will print without the quotation marks \n",
    "print(f\"There are {len(task2)} words that start with 'y' in the data\")"
   ]
  },
  {
   "cell_type": "code",
   "execution_count": null,
   "id": "ea053348",
   "metadata": {},
   "outputs": [],
   "source": [
    "## or we can use print without the f-string, which is slightly less elegant \n",
    "print(\"There are\", len(task2), \"words that start with 'y' in the data\")"
   ]
  },
  {
   "cell_type": "code",
   "execution_count": null,
   "id": "6f5928a1",
   "metadata": {
    "scrolled": true
   },
   "outputs": [],
   "source": [
    "# Task 3: End with \"w\"\n",
    "print(re.findall(r'\\w+[w]\\b', words))\n",
    "\n",
    "## the r prefix before the pattern string creates a raw string, which we need for the following regular expression  \n",
    "## \\w matches alphanumeric characters\n",
    "## + greedily matches the expression to its left 1 or more times\n",
    "## [] contain a set of characters to match \n",
    "## w is our alphanumeric character of interest to match \n",
    "## \\b maching the boundary at the start or end of a word (a non-word character)\n",
    "\n",
    "print(len(re.findall(r'\\w+[w]\\b', words)))\n"
   ]
  },
  {
   "cell_type": "code",
   "execution_count": null,
   "id": "2da9325b",
   "metadata": {},
   "outputs": [],
   "source": [
    "## and now to answer the question with code \n",
    "task3 = re.findall(r'\\w+[w]\\b', words)\n",
    "\n",
    "print(f\"There are {len(task3)} words that end with 'w' in the data\")"
   ]
  },
  {
   "cell_type": "code",
   "execution_count": null,
   "id": "1cfb668b",
   "metadata": {
    "scrolled": true
   },
   "outputs": [],
   "source": [
    "# Task 4: Are exactly 3 letters long\n",
    "task4 = re.findall(r'(\\b\\w{3}\\b)', words)\n",
    "\n",
    "## in regex {} matches exactly exact input number of copies\n"
   ]
  },
  {
   "cell_type": "code",
   "execution_count": null,
   "id": "5464b8b0",
   "metadata": {},
   "outputs": [],
   "source": [
    "print(f\"There are {len(task4)} words with exactly 3 letters in the data\")"
   ]
  },
  {
   "cell_type": "code",
   "execution_count": null,
   "id": "8fc35d4c",
   "metadata": {},
   "outputs": [],
   "source": [
    "# Task 5: Have 8 letters or more\n",
    "\n",
    "task_5 = re.findall(r'(\\b\\w{8,12}\\b)', words)\n",
    "\n",
    "## {} matches exactly exact input number of copies from number, to number "
   ]
  },
  {
   "cell_type": "code",
   "execution_count": null,
   "id": "44714622",
   "metadata": {},
   "outputs": [],
   "source": [
    "print(f\"There are {len(task_5)} words that have 8 letters or more in the data\")"
   ]
  },
  {
   "cell_type": "code",
   "execution_count": null,
   "id": "f5ca0192",
   "metadata": {},
   "outputs": [],
   "source": [
    "# Task 6: contain only consonants\n",
    "\n",
    "## one approach is to say NOT vowels \n",
    "task6_0 = re.findall(r'\\b[^aeiou\\W]+\\b', words, flags = re.IGNORECASE)\n",
    "\n",
    "## within a set [] ^ means not so adding ^ at the front excludes any character in the set\n",
    "## + matches previous token 1+ times \n",
    "## \\W is a meta escape matching any non-word character (this removes the empty spaces)\n",
    "### delete in the code above and see what happens\n"
   ]
  },
  {
   "cell_type": "code",
   "execution_count": null,
   "id": "df95c8e4",
   "metadata": {},
   "outputs": [],
   "source": [
    "print(f\"There are {len(task6_0)} words which contain only consonants in the data\")"
   ]
  },
  {
   "cell_type": "code",
   "execution_count": null,
   "id": "ffb2d451",
   "metadata": {},
   "outputs": [],
   "source": [
    "## another approach is to specify only consonants more manually \n",
    "\n",
    "task6_1 = re.findall(r'\\b[b-df-hj-np-tv-z]+\\b', words, flags = re.IGNORECASE)"
   ]
  },
  {
   "cell_type": "code",
   "execution_count": null,
   "id": "4e850ce2",
   "metadata": {},
   "outputs": [],
   "source": [
    "print(f\"There are {len(task6_1)} words which contain only consonants in the data\")"
   ]
  },
  {
   "cell_type": "markdown",
   "id": "3704295d",
   "metadata": {},
   "source": [
    "## 2. Categorical data (and Boolean and Numeric and Missing) "
   ]
  },
  {
   "cell_type": "markdown",
   "id": "8bb18520",
   "metadata": {},
   "source": [
    "For this section, there is yet again a data set available in R that we will be using. This time the data comes from the `forcats` package. `forcats::gss_cat` is a sample of data from the General Social Survey, which is a long-running US survey conducted by the independent research organization NORC at the University of Chicago. As the survey has thousands of questions, the `gss_cat` data contains a small subset. \n",
    "\n",
    "Since this data set is provided by an R package, you can get more information about the variables **in R** with `?gss_cat`. \n",
    "\n",
    "As above, to read in the data we will be using our new friend, the the `pd.read_csv('file.csv')` function from the `pandas` package.\n"
   ]
  },
  {
   "cell_type": "code",
   "execution_count": null,
   "id": "91f67f14",
   "metadata": {},
   "outputs": [],
   "source": [
    "# read in data\n",
    "## my data is in a folder called data. If you do not have the same set up, update the file path accordingly \n",
    "gss_cat = pd.read_csv('../data/gss_cat.csv')\n",
    "\n",
    "gss_cat"
   ]
  },
  {
   "cell_type": "code",
   "execution_count": null,
   "id": "10f9df1d",
   "metadata": {
    "scrolled": true
   },
   "outputs": [],
   "source": [
    "## we will learn more about data frames next week but one function to get a summary of what a data frame contains is data.info()\n",
    "## data.info() is similiar to glimpse() in R \n",
    "\n",
    "gss_cat.info()\n"
   ]
  },
  {
   "cell_type": "markdown",
   "id": "fe6629b9",
   "metadata": {},
   "source": [
    "### Task 7\n",
    "What data types are the different variables in `gss_cat`? If there is categoical data, should it be nominal or ordinal? What are the categories of the categorical data? Should or could any of the variable be represented differently in terms of data type?\n",
    "\n",
    "Go through the data set one column at a time answering the above questions for each of the 8 columns. "
   ]
  },
  {
   "cell_type": "markdown",
   "id": "e3da9c5c",
   "metadata": {},
   "source": [
    "<details><summary style='color:darkblue'>HINT 1: Some new functions! CLICK HERE TO SEE THE ANSWER.</summary>\n",
    "\n",
    "This task asks for you to do something we are familiar with from last week - thinking about data types - but to do so you need to use some code we have not learned about yet for working with dataframes. To select a single column, use square brackets `[]` with the column name of the column of interest as a character string - e.g., `dataframe[\"column\"]`. We will discuss this more next week, for those interested, the returned object is a `pandas Series` (which we used some in the Python Data Types Notebook). \n",
    "    \n",
    "Then you can use the `data.head()` function to see the first few rows of data as well as the data type.\n",
    "    \n",
    "You can also use `data.decribe()` to get a summary of the variable. To get more higher level information you can use `data.info()`"
   ]
  },
  {
   "cell_type": "markdown",
   "id": "d89bcd39",
   "metadata": {},
   "source": [
    "<details><summary style='color:darkblue'>HINT 2: A new data type (gasp there's more!). CLICK HERE TO SEE THE ANSWER.</summary>\n",
    "\n",
    "You will notice that some variables/columns are something called type `object`... but what does this mean?? In `pandas` a `object dtype` represents text or mixed numeric and non-numeric values. An `object` is a string in `pandas` so it performs a string operation instead of a mathematical one. Thus, if you want a variable to be treated as categorical (`dtype category`) you need to explicitly cast it as such. The simplest way to convert a column to a categorical type is to use `astype('category')`."
   ]
  },
  {
   "cell_type": "code",
   "execution_count": null,
   "id": "6860eade",
   "metadata": {},
   "outputs": [],
   "source": [
    "## your answer here\n",
    "\n"
   ]
  },
  {
   "cell_type": "markdown",
   "id": "5ab8010c",
   "metadata": {},
   "source": [
    "#### Task 7 Solution"
   ]
  },
  {
   "cell_type": "markdown",
   "id": "9da0c3a7",
   "metadata": {},
   "source": [
    "#### 7.1 year "
   ]
  },
  {
   "cell_type": "code",
   "execution_count": null,
   "id": "28e84912",
   "metadata": {
    "scrolled": true
   },
   "outputs": [],
   "source": [
    "print(gss_cat[\"year\"].head())"
   ]
  },
  {
   "cell_type": "code",
   "execution_count": null,
   "id": "157cb5a7",
   "metadata": {},
   "outputs": [],
   "source": [
    "print(gss_cat[\"year\"].describe())"
   ]
  },
  {
   "cell_type": "code",
   "execution_count": null,
   "id": "06eab6ca",
   "metadata": {},
   "outputs": [],
   "source": [
    "print(gss_cat[\"year\"].info())"
   ]
  },
  {
   "cell_type": "markdown",
   "id": "af3cd42a",
   "metadata": {},
   "source": [
    "`Year` is an integer (specifically `int64`) ranging from 2000 to 2014, but may be suited as an ordered factor depending on the use case."
   ]
  },
  {
   "cell_type": "markdown",
   "id": "464f01f7",
   "metadata": {},
   "source": [
    "#### 7.2 marital"
   ]
  },
  {
   "cell_type": "code",
   "execution_count": null,
   "id": "aaac79f0",
   "metadata": {
    "scrolled": true
   },
   "outputs": [],
   "source": [
    "print(gss_cat[\"marital\"].head())"
   ]
  },
  {
   "cell_type": "code",
   "execution_count": null,
   "id": "b450016d",
   "metadata": {},
   "outputs": [],
   "source": [
    "print(gss_cat[\"marital\"].describe())"
   ]
  },
  {
   "cell_type": "markdown",
   "id": "36456dae",
   "metadata": {},
   "source": [
    "`Martial` is an currently an `object` data type, meaning it is being treated as a string, with 6 unique responses (eventually categories). It would make most sense to be a nominal categorical variable. Though using an ordinal category and having \"Never married\" sorted as the first level then \"Married\" followed by \"Separated\", \"Divorced\", \"Widowed\", and \"No answer\" would make sense for some data presentations."
   ]
  },
  {
   "cell_type": "markdown",
   "id": "65212fc0",
   "metadata": {},
   "source": [
    "#### 7.3 age"
   ]
  },
  {
   "cell_type": "code",
   "execution_count": null,
   "id": "6ae2da58",
   "metadata": {},
   "outputs": [],
   "source": [
    "print(gss_cat[\"age\"].head())"
   ]
  },
  {
   "cell_type": "code",
   "execution_count": null,
   "id": "613328d4",
   "metadata": {},
   "outputs": [],
   "source": [
    "print(gss_cat[\"age\"].describe())"
   ]
  },
  {
   "cell_type": "markdown",
   "id": "a83eeb94",
   "metadata": {},
   "source": [
    "`Age` is a float (specifically `float64`) ranging from 18 to 89. Depending on the analytic use case, `age` could also work as an oridnal categorical variable with user-determined-determined age brackets."
   ]
  },
  {
   "cell_type": "markdown",
   "id": "b4c7c7be",
   "metadata": {},
   "source": [
    "#### 7.4 race"
   ]
  },
  {
   "cell_type": "code",
   "execution_count": null,
   "id": "d99f5fe9",
   "metadata": {},
   "outputs": [],
   "source": [
    "print(gss_cat[\"race\"].head())"
   ]
  },
  {
   "cell_type": "code",
   "execution_count": null,
   "id": "f210bbc7",
   "metadata": {},
   "outputs": [],
   "source": [
    "print(gss_cat[\"race\"].describe())"
   ]
  },
  {
   "cell_type": "markdown",
   "id": "e411b4dd",
   "metadata": {},
   "source": [
    "`Race` is an an `object` data type with 3 unique responses. It makes sense to cast `race` as a nominal categorical variable. "
   ]
  },
  {
   "cell_type": "markdown",
   "id": "90c7bb22",
   "metadata": {},
   "source": [
    "#### 7.5 rincome"
   ]
  },
  {
   "cell_type": "code",
   "execution_count": null,
   "id": "66f9e706",
   "metadata": {},
   "outputs": [],
   "source": [
    "print(gss_cat[\"rincome\"].head())"
   ]
  },
  {
   "cell_type": "code",
   "execution_count": null,
   "id": "80792212",
   "metadata": {
    "scrolled": true
   },
   "outputs": [],
   "source": [
    "print(gss_cat[\"rincome\"].describe())"
   ]
  },
  {
   "cell_type": "markdown",
   "id": "eae2713b",
   "metadata": {},
   "source": [
    "`rincome` is an `object` data type with 16 unique responses. This variable would likely be most useful as categorical. Depending on the amount of detail needed for analysis of this variable, it would make sense to collapse some categories together and make the variable an ordered categorical. It could also be useful to convert to a string in some instances."
   ]
  },
  {
   "cell_type": "markdown",
   "id": "91dc0da2",
   "metadata": {},
   "source": [
    "#### 7.6 partyid"
   ]
  },
  {
   "cell_type": "code",
   "execution_count": null,
   "id": "9a189f74",
   "metadata": {},
   "outputs": [],
   "source": [
    "print(gss_cat[\"partyid\"].head())"
   ]
  },
  {
   "cell_type": "code",
   "execution_count": null,
   "id": "ad013bf0",
   "metadata": {},
   "outputs": [],
   "source": [
    "print(gss_cat[\"partyid\"].describe())"
   ]
  },
  {
   "cell_type": "markdown",
   "id": "70fece6c",
   "metadata": {},
   "source": [
    "`partyid` is an `object` data type with 10 unique responses. It would make sense to cast this varibale as categorical. In some use cases it may be useful to make this an ordinal categorical variable, ordering the categories according to how they fall on the political spectrum. "
   ]
  },
  {
   "cell_type": "markdown",
   "id": "ac568893",
   "metadata": {},
   "source": [
    "#### 7.7 relig"
   ]
  },
  {
   "cell_type": "code",
   "execution_count": null,
   "id": "5c0ca4f6",
   "metadata": {},
   "outputs": [],
   "source": [
    "print(gss_cat[\"relig\"].head())"
   ]
  },
  {
   "cell_type": "code",
   "execution_count": null,
   "id": "23f11eb2",
   "metadata": {},
   "outputs": [],
   "source": [
    "print(gss_cat[\"relig\"].describe())"
   ]
  },
  {
   "cell_type": "markdown",
   "id": "8d36be66",
   "metadata": {},
   "source": [
    "`relig` is an `object` data type 10 unique responses. It would like be useful to cast `relig` as a nominal categorical variable."
   ]
  },
  {
   "cell_type": "markdown",
   "id": "2deb5d04",
   "metadata": {},
   "source": [
    "#### 7.8 tvhours"
   ]
  },
  {
   "cell_type": "code",
   "execution_count": null,
   "id": "ca2cf9f3",
   "metadata": {},
   "outputs": [],
   "source": [
    "print(gss_cat[\"tvhours\"].head())"
   ]
  },
  {
   "cell_type": "code",
   "execution_count": null,
   "id": "b7d3957f",
   "metadata": {},
   "outputs": [],
   "source": [
    "print(gss_cat[\"tvhours\"].describe())"
   ]
  },
  {
   "cell_type": "markdown",
   "id": "153731e4",
   "metadata": {},
   "source": [
    "`tvhours` is a float (specifically `float64`) from 0 to 24. Depending on the analytic use case, `tvhours` could also work as an ordinal categorical variable with user-determined-determined category levels."
   ]
  },
  {
   "cell_type": "markdown",
   "id": "9f51d3e7",
   "metadata": {},
   "source": [
    "## Task 8 \n",
    "\n",
    "Make `age` a factor. When modifying an object by changing values or the data type, it is good practice to create a new object with a meaningfully modified name rather than over-write the original one. "
   ]
  },
  {
   "cell_type": "code",
   "execution_count": null,
   "id": "2ad0767b",
   "metadata": {},
   "outputs": [],
   "source": [
    "# first let's take out age as a pandas Series \n",
    "age = gss_cat[\"age\"]"
   ]
  },
  {
   "cell_type": "code",
   "execution_count": null,
   "id": "ed2a932d",
   "metadata": {},
   "outputs": [],
   "source": [
    "type(age)"
   ]
  },
  {
   "cell_type": "code",
   "execution_count": null,
   "id": "1ff2c173",
   "metadata": {},
   "outputs": [],
   "source": [
    "## your answer here\n",
    "\n"
   ]
  },
  {
   "cell_type": "markdown",
   "id": "0468e0a1",
   "metadata": {},
   "source": [
    "#### Task 8 Solution "
   ]
  },
  {
   "cell_type": "code",
   "execution_count": null,
   "id": "0d8aaa80",
   "metadata": {},
   "outputs": [],
   "source": [
    "age_f = age.astype(\"category\")"
   ]
  },
  {
   "cell_type": "markdown",
   "id": "8f41e038",
   "metadata": {},
   "source": [
    "After changing an object, it is good practice to check that your code made the expected changes."
   ]
  },
  {
   "cell_type": "code",
   "execution_count": null,
   "id": "32010f21",
   "metadata": {},
   "outputs": [],
   "source": [
    "age_f.head() # all good "
   ]
  },
  {
   "cell_type": "markdown",
   "id": "e0be716d",
   "metadata": {},
   "source": [
    "### Task 8 Advanced \n",
    "\n",
    "It is a bit more advanced to from here make `age` an ordinal categorical data type with 5 levels: 18-25, 26-44, 45-64, 65-74, 75+. To do so, we need to use `pandas.cut()` to sort out data values into bins. \n",
    "\n",
    "**Before looking at the solution, challenge yourself to think about the logical steps needed to solve this problem. Write them down and see how they match up to the solution provided.**"
   ]
  },
  {
   "cell_type": "markdown",
   "id": "159e2eae",
   "metadata": {},
   "source": [
    "##### Your answer to the logical steps \n",
    "\n",
    "1. ....\n",
    "\n",
    "\n",
    "2. ....\n",
    "\n",
    "\n",
    "3. ....\n",
    "\n",
    "\n",
    "4. ....\n",
    "\n",
    "\n",
    "...."
   ]
  },
  {
   "cell_type": "markdown",
   "id": "9998d04a",
   "metadata": {},
   "source": [
    "As we have not learned about this function yet, I will show you the solution and ask for you to try and figure out how it works. Modify some of the code to see what happens. Do not worry, you cannot break your computer (unless you throw it perhaps)! If you have any errors you cannot figure out, ask one of the teaching team for help during the tutorial or post on the discussion boards afterwards. \n",
    "\n",
    "Before making any changes to our variable, it is good practice to check if there are any missing values lurking in the shadows trying to ruin our day. "
   ]
  },
  {
   "cell_type": "code",
   "execution_count": null,
   "id": "25f20362",
   "metadata": {},
   "outputs": [],
   "source": [
    "age_f.isna().values.any()\n",
    "\n",
    "## try to run the above about without .values.any() to see why we need it "
   ]
  },
  {
   "cell_type": "code",
   "execution_count": null,
   "id": "950aa77a",
   "metadata": {},
   "outputs": [],
   "source": [
    "# next we can use sum to see how many there are \n",
    "## becuase is.na() returns Boolean values and True is truthy, we can use sum... understanding data types is so useful! \n",
    "\n",
    "age_f.isna().sum()"
   ]
  },
  {
   "cell_type": "markdown",
   "id": "54eea256",
   "metadata": {},
   "source": [
    "So we do indeed have some missing values (76 to be exact), which we will keep in mind. "
   ]
  },
  {
   "cell_type": "code",
   "execution_count": null,
   "id": "e9fa5161",
   "metadata": {},
   "outputs": [],
   "source": [
    "age_groups = pd.cut(\n",
    "    age_f,\n",
    "    bins = [-np.inf, 25, 44, 64, 74, np.inf],\n",
    "    labels = [\"18-25\", \"26-44\", \"45-64\", \"65-74\", \"75+\"]) "
   ]
  },
  {
   "cell_type": "code",
   "execution_count": null,
   "id": "c1afe78d",
   "metadata": {},
   "outputs": [],
   "source": [
    "age_groups.head() # looking good "
   ]
  },
  {
   "cell_type": "code",
   "execution_count": null,
   "id": "d0e37064",
   "metadata": {},
   "outputs": [],
   "source": [
    "age_groups.cat.categories # celebration!"
   ]
  },
  {
   "cell_type": "code",
   "execution_count": null,
   "id": "1974965e",
   "metadata": {
    "scrolled": false
   },
   "outputs": [],
   "source": [
    "# and look at that, pandas.cut() made it ordered for us too! \n",
    "## this is because the default behavior of the argument ordered is True\n",
    "print(age_groups.cat.ordered) "
   ]
  },
  {
   "cell_type": "markdown",
   "id": "a429fe55",
   "metadata": {},
   "source": [
    "Reading documentation is a skill that you will develop over time with practice. Try and read the documentation for the cut function from pandas to see what you and learn. Ask a member of the teaching team during the tutorial or post on the discussion boards if you get stuck."
   ]
  },
  {
   "cell_type": "code",
   "execution_count": null,
   "id": "65e4e13a",
   "metadata": {},
   "outputs": [],
   "source": [
    "# look at the documentation for more info \n",
    "help(pd.cut)"
   ]
  },
  {
   "cell_type": "markdown",
   "id": "0e798f46",
   "metadata": {},
   "source": [
    "### Task 9 \n",
    "\n",
    "How could you collapse `rincome` into a small set of categories (e.g., `\"Unknown\"`, `\"less than $5000\"`, `\"$5000 to $9999\"`, `\"$10000 or more\"`)?\n",
    "\n",
    "Look at some summaries of the object and think about some of the challenges that you need to overcome to complete the task. Write down the steps you would need to take in plain language, regardless of if you know how to do it in code. Understanding **what** you need to do is just an important, if not more so, than **how** you will do it (i.e., in code).\n",
    "\n",
    "You can also look back at your solution to Task 7 above. \n"
   ]
  },
  {
   "cell_type": "code",
   "execution_count": null,
   "id": "e9472c9a",
   "metadata": {},
   "outputs": [],
   "source": [
    "# first let's take out rincome as a pandas Series \n",
    "rincome = gss_cat[\"rincome\"]\n",
    "\n",
    "print(rincome.describe())"
   ]
  },
  {
   "cell_type": "code",
   "execution_count": null,
   "id": "a80be689",
   "metadata": {},
   "outputs": [],
   "source": [
    "print(rincome.head())"
   ]
  },
  {
   "cell_type": "code",
   "execution_count": null,
   "id": "2aba0099",
   "metadata": {
    "scrolled": true
   },
   "outputs": [],
   "source": [
    "print(rincome.unique())"
   ]
  },
  {
   "cell_type": "markdown",
   "id": "fae133e9",
   "metadata": {},
   "source": [
    "##### Your answer to the logical steps \n",
    "\n",
    "1. ....\n",
    "\n",
    "\n",
    "2. ....\n",
    "\n",
    "\n",
    "3. ....\n",
    "\n",
    "\n",
    "4. ....\n",
    "\n",
    "\n",
    "....\n"
   ]
  },
  {
   "cell_type": "markdown",
   "id": "25641cf2",
   "metadata": {},
   "source": [
    "#### Task 9 Solution \n",
    "\n",
    "\n",
    "`rincome` is currently an object data type. It is also quite messy. The unique categories do not have consistent naming conventions (some say \"to\" and other use \"-\") so we need fix that. Then, we will want to group all of the non-responses into one category and the responses into 3 categories. We will then want to cast this as an ordered categorical data type."
   ]
  },
  {
   "cell_type": "markdown",
   "id": "6b120ab1",
   "metadata": {},
   "source": [
    "### Advanced bonus task (Task 9) \n",
    "\n",
    "The advanced bonus task, should you choose to accept it, is to attempt your solution to Task 9 in code! See how far you can get! Have a look at the solutions document for a worked solution to this task. "
   ]
  },
  {
   "cell_type": "code",
   "execution_count": null,
   "id": "df131f81",
   "metadata": {},
   "outputs": [],
   "source": [
    "## your answer here\n",
    "\n"
   ]
  },
  {
   "cell_type": "markdown",
   "id": "b6fd29ce",
   "metadata": {},
   "source": [
    "#### Advanced bonus task Solution (Task 9) "
   ]
  },
  {
   "cell_type": "markdown",
   "id": "433616a3",
   "metadata": {},
   "source": [
    "In order to complete this task we can use python data structures to our advantage (we will learn more about this next week). I have used a data structure called dictionaries (which store `key:value` pairs and are denoted with `{}`) and manipulated the variable within the dataframe, rather than subsetting it. I also used the `map()` function to iterate over the column and stored our solution as a new column called `rincome_cat`. "
   ]
  },
  {
   "cell_type": "code",
   "execution_count": null,
   "id": "06b82b37",
   "metadata": {
    "scrolled": true
   },
   "outputs": [],
   "source": [
    "## this step is not necessary as we could have just used the label as it is in the dictionary created below\n",
    "## but I have shown in just in case you tried something similiar \n",
    "\n",
    "rincome_name = rincome.replace({'$20000 - 24999' : '$20000 to 24999', \n",
    "                                '$15000 - 19999' : '$15000 to 19999',\n",
    "                                \"$10000 - 14999\" : '$10000 to 14999'})\n",
    "\n",
    "# check it worked as expected\n",
    "rincome_name.unique()"
   ]
  },
  {
   "cell_type": "code",
   "execution_count": null,
   "id": "c906cc78",
   "metadata": {},
   "outputs": [],
   "source": [
    "# create a dictionary with our desired names \n",
    "map_dict = {\"No answer\" : \"Unknown\", \n",
    "            \"Don't know\" : \"Unknown\",  \n",
    "            \"Refused\" : \"Unknown\", \n",
    "            \"Not applicable\" : \"Unknown\",\n",
    "            \"Lt $1000\" : \"Less than $5000\", \n",
    "            \"$1000 to 2999\" : \"Less than $5000\", \n",
    "            \"$3000 to 3999\" : \"Less than $5000\", \n",
    "            \"$4000 to 4999\" : \"Less than $5000\",\n",
    "            \"$5000 to 5999\" : \"$5000 to $9999\", \n",
    "            \"$6000 to 6999\" : \"$5000 to $9999\", \n",
    "            \"$7000 to 7999\" : \"$5000 to $9999\", \n",
    "            \"$8000 to 9999\" : \"$5000 to $9999\", \n",
    "            \"$10000 - 14999\" : \"$10000 or more\", \n",
    "            \"$15000 - 19999\" : \"$10000 or more\", \n",
    "            \"$20000 - 24999\" : \"$10000 or more\", \n",
    "            \"$25000 or more\" : \"$10000 or more\"}\n",
    "\n",
    "# create new column, interate over rincome with the dictionary created above, and change type to category \n",
    "gss_cat[\"rincome_cat\"] = gss_cat[\"rincome\"].map(map_dict).astype(\"category\")\n",
    "\n",
    "gss_cat.describe(include = 'all') # excellent, looks like we have 4 categories in rincome_cat "
   ]
  },
  {
   "cell_type": "code",
   "execution_count": null,
   "id": "0992fce2",
   "metadata": {
    "scrolled": false
   },
   "outputs": [],
   "source": [
    "gss_cat[\"rincome_cat\"].unique() \n",
    "## looking good but we also now want it to be an ordered categorical variable "
   ]
  },
  {
   "cell_type": "code",
   "execution_count": null,
   "id": "571f5390",
   "metadata": {
    "scrolled": false
   },
   "outputs": [],
   "source": [
    "gss_cat[\"rincome_cat\"] = gss_cat[\"rincome_cat\"].cat.as_ordered() "
   ]
  },
  {
   "cell_type": "code",
   "execution_count": null,
   "id": "76661e59",
   "metadata": {
    "scrolled": false
   },
   "outputs": [],
   "source": [
    "gss_cat[\"rincome_cat\"].unique() ## happy days "
   ]
  },
  {
   "cell_type": "markdown",
   "id": "bc5d10ad",
   "metadata": {},
   "source": [
    "## 3. Date and time data (and string)"
   ]
  },
  {
   "cell_type": "markdown",
   "id": "38954874",
   "metadata": {},
   "source": [
    "### Task 10 \n",
    "\n",
    "Create an object showing the date 140 days from now and print the output nicely formatted (`\"month day, year at hour minute\"`) using `strftime()`. Then create an object with the date 2 years from now and similarly print the output nicely formatted. "
   ]
  },
  {
   "cell_type": "markdown",
   "id": "afd50c25",
   "metadata": {},
   "source": [
    "<details><summary style='color:darkblue'>HINT 1: How to start breaking it down? CLICK HERE TO SEE THE ANSWER. BUT REALLY TRY TO DO IT YOURSELF FIRST!</summary>\n",
    "    \n",
    "`timedelta` instances allow for arithmetic, but only at the level of days, hours, minutes, or seconds. To add or subtract intervals larger than a day, such as a month or a year we use `relativedelta`"
   ]
  },
  {
   "cell_type": "code",
   "execution_count": null,
   "id": "7e262d91",
   "metadata": {},
   "outputs": [],
   "source": [
    "## your answer here\n",
    "\n"
   ]
  },
  {
   "cell_type": "markdown",
   "id": "559a470c",
   "metadata": {},
   "source": [
    "#### Task 10 Solution "
   ]
  },
  {
   "cell_type": "code",
   "execution_count": null,
   "id": "7d65e3ea",
   "metadata": {},
   "outputs": [],
   "source": [
    "## 140 days from now \n",
    "\n",
    "days140 = dt.datetime.now() + dt.timedelta(days =+ 140)  \n",
    "# the after the + is not strictly needed, but is to explicitly state that I want a positive integer \n",
    "## change to a - to see what happens \n",
    "\n",
    "print(days140.strftime(\"%B %d, %Y at %H:%M\")) "
   ]
  },
  {
   "cell_type": "code",
   "execution_count": null,
   "id": "cdae05ae",
   "metadata": {},
   "outputs": [],
   "source": [
    "## 2 years from now \n",
    "\n",
    "years2 = dt.datetime.now() + relativedelta.relativedelta(years = 2)\n",
    "\n",
    "print(years2.strftime(\"%B %d, %Y at %H:%M\")) "
   ]
  },
  {
   "cell_type": "markdown",
   "id": "2d93e2fd",
   "metadata": {},
   "source": [
    "## Task 11 \n",
    "\n",
    "This is a big one, so I have separated the task into different parts. By the end, you will have made a countdown clock to your birthday! (how cool!)\n",
    "\n",
    "We will start by making a countdown clock until the annual Fringe Festival in Edinburgh in August. The festival starts on 2 August 2024 at 13:35"
   ]
  },
  {
   "cell_type": "markdown",
   "id": "6d5cc0c8",
   "metadata": {},
   "source": [
    "### Step 1\n",
    "\n",
    "Create a datetime object with the Fringe date."
   ]
  },
  {
   "cell_type": "code",
   "execution_count": null,
   "id": "9321e1ad",
   "metadata": {},
   "outputs": [],
   "source": [
    "## your answer here\n",
    "\n"
   ]
  },
  {
   "cell_type": "markdown",
   "id": "9cced2f1",
   "metadata": {},
   "source": [
    "#### Step 1 Solution"
   ]
  },
  {
   "cell_type": "code",
   "execution_count": null,
   "id": "6bf9220b",
   "metadata": {},
   "outputs": [],
   "source": [
    "## create the datetime object \n",
    "Fringe_date = dt.datetime(year = 2024, month = 8, day = 2, hour = 13, minute = 35)"
   ]
  },
  {
   "cell_type": "markdown",
   "id": "0cf03608",
   "metadata": {},
   "source": [
    "### Step 2\n",
    "\n",
    "Create a countdown date object using arithmetic from the fringe datetime until now. This will be a `timedelta` data type, which represents the time between 2 `datetime` instances."
   ]
  },
  {
   "cell_type": "markdown",
   "id": "99fd452b",
   "metadata": {},
   "source": [
    "<details><summary style='color:darkblue'>HINT: Useful functions. CLICK HERE TO SEE THE ANSWER. BUT REALLY TRY TO DO IT YOURSELF FIRST!</summary>\n",
    "\n",
    "Use one the `dt.datetime` functions to get the date and time now, rather than hard coding it "
   ]
  },
  {
   "cell_type": "code",
   "execution_count": null,
   "id": "f19238f9",
   "metadata": {},
   "outputs": [],
   "source": [
    "## your answer here\n",
    "\n"
   ]
  },
  {
   "cell_type": "markdown",
   "id": "d69b9cef",
   "metadata": {},
   "source": [
    "#### Step 2 solution"
   ]
  },
  {
   "cell_type": "code",
   "execution_count": null,
   "id": "4aaa9788",
   "metadata": {},
   "outputs": [],
   "source": [
    "countdown = Fringe_date - dt.datetime.now()"
   ]
  },
  {
   "cell_type": "code",
   "execution_count": null,
   "id": "72fab806",
   "metadata": {},
   "outputs": [],
   "source": [
    "type(countdown)"
   ]
  },
  {
   "cell_type": "markdown",
   "id": "be2e8b4c",
   "metadata": {},
   "source": [
    "### Step 3\n",
    "\n",
    "Write an interpolating character string which will take our countdown object and tell us how many days until Fringe! \n"
   ]
  },
  {
   "cell_type": "code",
   "execution_count": null,
   "id": "b93f6976",
   "metadata": {},
   "outputs": [],
   "source": [
    "## your answer here\n",
    "\n"
   ]
  },
  {
   "cell_type": "markdown",
   "id": "cef5c613",
   "metadata": {},
   "source": [
    "#### Step 3 solution"
   ]
  },
  {
   "cell_type": "code",
   "execution_count": null,
   "id": "398867fb",
   "metadata": {},
   "outputs": [],
   "source": [
    "print(f\"Countdown to Fringe 2024: {countdown}\")"
   ]
  },
  {
   "cell_type": "markdown",
   "id": "a7c98863",
   "metadata": {},
   "source": [
    "### Step 4\n",
    "\n",
    "We have a minumum viable product (MVP) for our task, which is great! *BUT* we can improve our countdown accuracy using timezones (i.e., aware objects)! Let's say we want a countdown specifically for someone living in California in the United States.  \n",
    "\n",
    "Create a second datetime object for the Fringe date and set the correct time zone (i.e., Edinburgh)."
   ]
  },
  {
   "cell_type": "code",
   "execution_count": null,
   "id": "830282e3",
   "metadata": {},
   "outputs": [],
   "source": [
    "## your answer here\n",
    "\n"
   ]
  },
  {
   "cell_type": "markdown",
   "id": "6c73afa8",
   "metadata": {},
   "source": [
    "#### Step 4 Solution"
   ]
  },
  {
   "cell_type": "code",
   "execution_count": null,
   "id": "ca5d734f",
   "metadata": {},
   "outputs": [],
   "source": [
    "## set the timezone \n",
    "Fringe_date0 = Fringe_date.replace(tzinfo = tz.gettz(\"Europe/London\"))"
   ]
  },
  {
   "cell_type": "code",
   "execution_count": null,
   "id": "564e4de4",
   "metadata": {},
   "outputs": [],
   "source": [
    "Fringe_date0 # confirm the object is now aware"
   ]
  },
  {
   "cell_type": "code",
   "execution_count": null,
   "id": "086865ac",
   "metadata": {},
   "outputs": [],
   "source": [
    "Fringe_date0.tzname() # great, BST as expected "
   ]
  },
  {
   "cell_type": "markdown",
   "id": "32026044",
   "metadata": {},
   "source": [
    "### Step 5 \n",
    "\n",
    "Now create a datetime object for the now time in California"
   ]
  },
  {
   "cell_type": "markdown",
   "id": "698fef30",
   "metadata": {},
   "source": [
    "<details><summary style='color:darkblue'>HINT: Useful functions. CLICK HERE TO SEE THE ANSWER. BUT REALLY TRY TO DO IT YOURSELF FIRST!</summary>\n",
    "\n",
    "* Use one of the timezone `tz` functions we learned about to create time zones not reported by your system\n",
    "* Use one the `dt.datetime` functions to get the date and time now, rather than hard coding it "
   ]
  },
  {
   "cell_type": "code",
   "execution_count": null,
   "id": "17fd906d",
   "metadata": {},
   "outputs": [],
   "source": [
    "## your answer here\n",
    "\n"
   ]
  },
  {
   "cell_type": "markdown",
   "id": "2286fc90",
   "metadata": {},
   "source": [
    "#### Step 5 solution"
   ]
  },
  {
   "cell_type": "code",
   "execution_count": null,
   "id": "def0499a",
   "metadata": {},
   "outputs": [],
   "source": [
    "LA_tz = tz.gettz(\"America/Los_Angeles\")\n",
    "now0 = dt.datetime.now(tz = LA_tz)"
   ]
  },
  {
   "cell_type": "code",
   "execution_count": null,
   "id": "e78e0b62",
   "metadata": {},
   "outputs": [],
   "source": [
    "# confirm now0 is aware \n",
    "now0"
   ]
  },
  {
   "cell_type": "code",
   "execution_count": null,
   "id": "4c1e2ecf",
   "metadata": {},
   "outputs": [],
   "source": [
    "now0.tzname() # great, PDT as expected "
   ]
  },
  {
   "cell_type": "markdown",
   "id": "518a7152",
   "metadata": {},
   "source": [
    "### Step 6 \n",
    "\n",
    "Now we are ready again to create a second countdown date object using arithmetic with the aware datetime objects we have create for the fringe until now (in California, USA)."
   ]
  },
  {
   "cell_type": "code",
   "execution_count": null,
   "id": "dee67c9e",
   "metadata": {},
   "outputs": [],
   "source": [
    "## your answer here\n",
    "\n"
   ]
  },
  {
   "cell_type": "markdown",
   "id": "fc2036f0",
   "metadata": {},
   "source": [
    "#### Step 6 Solution"
   ]
  },
  {
   "cell_type": "code",
   "execution_count": null,
   "id": "277fdb72",
   "metadata": {},
   "outputs": [],
   "source": [
    "countdown2 = Fringe_date0 - now0"
   ]
  },
  {
   "cell_type": "markdown",
   "id": "1adbfb81",
   "metadata": {},
   "source": [
    "### Step 7 \n",
    "\n",
    "Final step, write an interpolating character string which will take our countdown object and tell us how many days until Fringe! \n"
   ]
  },
  {
   "cell_type": "code",
   "execution_count": null,
   "id": "40e78bdb",
   "metadata": {},
   "outputs": [],
   "source": [
    "## your answer here\n",
    "\n"
   ]
  },
  {
   "cell_type": "markdown",
   "id": "726a8a24",
   "metadata": {},
   "source": [
    "#### Step 7 Solution"
   ]
  },
  {
   "cell_type": "code",
   "execution_count": null,
   "id": "d064c267",
   "metadata": {},
   "outputs": [],
   "source": [
    "print(f\"Countdown to Fringe 2024 from California, USA: {countdown2}\")"
   ]
  },
  {
   "cell_type": "markdown",
   "id": "23771ef2",
   "metadata": {},
   "source": [
    "### Bonus \n",
    "\n",
    "When creating date, time, or datetime objects, you can use the `parser.parse()` function from `dateutil` which takes a string and parses (reads) the date into Python for you!"
   ]
  },
  {
   "cell_type": "code",
   "execution_count": null,
   "id": "9cc4c210",
   "metadata": {},
   "outputs": [],
   "source": [
    "## for example \n",
    "\n",
    "example_date = parser.parse(\"1 January 2024 1:00AM\")\n",
    "\n",
    "print(example_date)"
   ]
  },
  {
   "cell_type": "markdown",
   "id": "bc10355a",
   "metadata": {},
   "source": [
    "### Step 8 \n",
    "\n",
    "Put it all together and instead of Fringe, use your next birthday! If you want to use aware datetime objects, guess which timezone you may be in on your birthday. Be sure to update the interpolating string to reflect the new countdown event"
   ]
  },
  {
   "cell_type": "code",
   "execution_count": null,
   "id": "a61ddac0",
   "metadata": {},
   "outputs": [],
   "source": [
    "## your answer here\n",
    "\n"
   ]
  },
  {
   "cell_type": "markdown",
   "id": "22cfd802",
   "metadata": {},
   "source": [
    "#### Step 8 Solution \n",
    "\n",
    "My birthday is on July 4th, so I have provided an example solution with that date. "
   ]
  },
  {
   "cell_type": "code",
   "execution_count": null,
   "id": "59146932",
   "metadata": {},
   "outputs": [],
   "source": [
    "# create tz object \n",
    "EDI_tz = tz.gettz(\"Europe/London\")\n",
    "\n",
    "# create bday object \n",
    "Bday = parser.parse(\"July 4 2024, 00:00\")\n",
    "\n",
    "# make it aware \n",
    "Bday0 = Bday.replace(tzinfo = EDI_tz)\n",
    "\n",
    "# create now dt object and make it aware\n",
    "now1 = dt.datetime.now(tz = EDI_tz)\n",
    "\n",
    "# create countdown object \n",
    "Bday_countdown = Bday0 - now1\n",
    "\n",
    "# print \n",
    "print(f\"Birthday Countdown: {Bday_countdown}\")"
   ]
  },
  {
   "cell_type": "markdown",
   "id": "51fc7003",
   "metadata": {},
   "source": [
    "---\n",
    "\n",
    "## Well done! 🎉 \n",
    "\n",
    "Well done! You have completed all of the tasks for the Python notebook for this tutorial. If you have not done so yet, now move to the R notebook."
   ]
  },
  {
   "cell_type": "markdown",
   "id": "3485566c",
   "metadata": {},
   "source": [
    "---\n",
    "*Dr. Brittany Blankinship (2024)*"
   ]
  }
 ],
 "metadata": {
  "kernelspec": {
   "display_name": "Python 3 (ipykernel)",
   "language": "python",
   "name": "python3"
  },
  "language_info": {
   "codemirror_mode": {
    "name": "ipython",
    "version": 3
   },
   "file_extension": ".py",
   "mimetype": "text/x-python",
   "name": "python",
   "nbconvert_exporter": "python",
   "pygments_lexer": "ipython3",
   "version": "3.9.12"
  }
 },
 "nbformat": 4,
 "nbformat_minor": 5
}
