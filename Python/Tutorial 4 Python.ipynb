{
 "cells": [
  {
   "cell_type": "markdown",
   "id": "f3c3fe78",
   "metadata": {},
   "source": [
    "# Tutorial 4 Python Notebook \n",
    "\n",
    "In this tutorial there are tasks for working with lists, arrays, dictionaries, and data frames.\n",
    "\n",
    "* Lists = Task 1-3\n",
    "* Arrays = Task 4-7 \n",
    "* Dictionaries = Task 8-10\n",
    "* Data frames = Task 11-16\n",
    "\n",
    "The aim of this tutorial notebook is to give you some (guided) hands-on experience working with different data structures in Python."
   ]
  },
  {
   "cell_type": "code",
   "execution_count": null,
   "id": "eda04920",
   "metadata": {},
   "outputs": [],
   "source": [
    "import numpy as np \n",
    "import pandas as pd"
   ]
  },
  {
   "cell_type": "markdown",
   "id": "a9c029fa",
   "metadata": {},
   "source": [
    "## Lists \n",
    "\n",
    "### Task 1\n",
    "\n",
    "Create a list containing strings, numbers, a list, and Boolean values. \n"
   ]
  },
  {
   "cell_type": "code",
   "execution_count": null,
   "id": "665c5ffd",
   "metadata": {},
   "outputs": [],
   "source": [
    "## your answer \n"
   ]
  },
  {
   "cell_type": "markdown",
   "id": "eb82575f",
   "metadata": {},
   "source": [
    "### Task 2\n",
    "\n",
    "How would you index to the first item in the nested list in the list you created in task 1?"
   ]
  },
  {
   "cell_type": "code",
   "execution_count": null,
   "id": "cf295744",
   "metadata": {},
   "outputs": [],
   "source": [
    "## your answer \n",
    "\n"
   ]
  },
  {
   "cell_type": "markdown",
   "id": "bce17c73",
   "metadata": {},
   "source": [
    "### Task 3\n",
    "\n",
    "Convert the list below into a 1-dimensional array. "
   ]
  },
  {
   "cell_type": "code",
   "execution_count": null,
   "id": "71d430e1",
   "metadata": {},
   "outputs": [],
   "source": [
    "list1 = [12.23, 13.32, 100.1, 36.45]\n",
    "\n",
    "print(list1)"
   ]
  },
  {
   "cell_type": "markdown",
   "id": "dc35d19b",
   "metadata": {},
   "source": [
    "<details><summary style='color:darkblue'>HINT: Where do we get the array data structure? CLICK HERE TO SEE THE ANSWER. BUT REALLY TRY TO DO IT YOURSELF FIRST!</summary>\n",
    "\n",
    "Remember, arrays are **not** a built-in Python data structure. We access them through the `NumPy` package. \n",
    "  "
   ]
  },
  {
   "cell_type": "markdown",
   "id": "b6773989",
   "metadata": {},
   "source": [
    "## Array "
   ]
  },
  {
   "cell_type": "markdown",
   "id": "6d1fe922",
   "metadata": {},
   "source": [
    "## Task 4\n",
    "\n",
    "Use the keyboard variable below to spell your name by referencing the letters in the array. "
   ]
  },
  {
   "cell_type": "markdown",
   "id": "19cba837",
   "metadata": {},
   "source": [
    "<details><summary style='color:darkblue'>HINT: Example solution. CLICK HERE TO SEE THE ANSWER. BUT REALLY TRY TO DO IT YOURSELF FIRST!</summary>\n",
    "\n",
    "brittany is: \n",
    "    \n",
    "`print(keyboard[2,4], keyboard[0,3], keyboard[0,7], keyboard[0,4], keyboard[0,4], keyboard[1,0], keyboard[2,5], keyboard[0,5])`"
   ]
  },
  {
   "cell_type": "code",
   "execution_count": null,
   "id": "6ab118b5",
   "metadata": {},
   "outputs": [],
   "source": [
    "keyboard = np.array([ ['q','w','e','r','t','y','u','i','o','p'],\n",
    "                      ['a','s','d','f','g','h','j','k','l',';'],\n",
    "                      ['z','x','c','v','b','n','m','<','>','?']\n",
    "                   ])"
   ]
  },
  {
   "cell_type": "code",
   "execution_count": null,
   "id": "06ba8776",
   "metadata": {},
   "outputs": [],
   "source": [
    "## your answer here \n",
    "\n"
   ]
  },
  {
   "cell_type": "markdown",
   "id": "f2285163",
   "metadata": {},
   "source": [
    "### Task 5 \n",
    "\n",
    "Create a 1-dimensional array with values ranging from 20 and 80."
   ]
  },
  {
   "cell_type": "code",
   "execution_count": null,
   "id": "99b3b183",
   "metadata": {},
   "outputs": [],
   "source": [
    "## your answer \n"
   ]
  },
  {
   "cell_type": "markdown",
   "id": "a593cddc",
   "metadata": {},
   "source": [
    "### Task 6\n",
    "\n",
    "Reverse the array created in Task 5."
   ]
  },
  {
   "cell_type": "markdown",
   "id": "23f97d6d",
   "metadata": {},
   "source": [
    "<details><summary style='color:darkblue'>HINT: A reminder. CLICK HERE TO SEE THE ANSWER. BUT REALLY TRY TO DO IT YOURSELF FIRST!</summary>\n",
    "    \n",
    "Indexing with arrays (and lists and dataframes) can be done with the following syntax ` my_array[start_index : stop_index : step/jump]`"
   ]
  },
  {
   "cell_type": "markdown",
   "id": "2ffae002",
   "metadata": {},
   "source": [
    "<details><summary style='color:darkblue'>HINT: Another reminder. CLICK HERE TO SEE THE ANSWER. BUT REALLY TRY TO DO IT YOURSELF FIRST!</summary>\n",
    "\n",
    "Remember that reverse indexing in Python and R are very different! \n"
   ]
  },
  {
   "cell_type": "code",
   "execution_count": null,
   "id": "770c1d2e",
   "metadata": {},
   "outputs": [],
   "source": [
    "## your answer \n"
   ]
  },
  {
   "cell_type": "markdown",
   "id": "7d538434",
   "metadata": {},
   "source": [
    "### Task 7\n",
    "\n",
    "Create a 2D array with 1 across the border and 0 inside/middle."
   ]
  },
  {
   "cell_type": "markdown",
   "id": "128432c8",
   "metadata": {},
   "source": [
    "<details><summary style='color:darkblue'>HINT: Breaking down the problem. CLICK HERE TO SEE THE ANSWER. BUT REALLY TRY TO DO IT YOURSELF FIRST!</summary>\n",
    "\n",
    "This may sound easy enough, but is actually quite tricky as we are working in 2 dimensions! As a first step, create a 2-D array filled with ones (there is a specific function for this). Then replace the inside or middle values of the array with 0."
   ]
  },
  {
   "cell_type": "code",
   "execution_count": null,
   "id": "94f2c676",
   "metadata": {},
   "outputs": [],
   "source": [
    "## your answer \n"
   ]
  },
  {
   "cell_type": "markdown",
   "id": "2f76bfdb",
   "metadata": {},
   "source": [
    "## Dictionaries"
   ]
  },
  {
   "cell_type": "markdown",
   "id": "78181e7b",
   "metadata": {},
   "source": [
    "### Task 8\n",
    "\n",
    "Create a dictionary comprised of colors blue, red, green; animals dog, cat, horse; and age 33, 56, 24."
   ]
  },
  {
   "cell_type": "code",
   "execution_count": null,
   "id": "ffc98561",
   "metadata": {},
   "outputs": [],
   "source": [
    "## your answer \n"
   ]
  },
  {
   "cell_type": "markdown",
   "id": "b04eee15",
   "metadata": {},
   "source": [
    "### Task 9\n",
    "\n",
    "Add a new key value pair to the list created in Task 8 called flower comprised of daisy, rose, and lily. "
   ]
  },
  {
   "cell_type": "code",
   "execution_count": null,
   "id": "bdfe5310",
   "metadata": {},
   "outputs": [],
   "source": [
    "## your answer \n"
   ]
  },
  {
   "cell_type": "markdown",
   "id": "80541562",
   "metadata": {},
   "source": [
    "### Task 10\n",
    "\n",
    "Convert your dictionary into a data frame. "
   ]
  },
  {
   "cell_type": "markdown",
   "id": "f0bba582",
   "metadata": {},
   "source": [
    "<details><summary style='color:darkblue'>HINT: Where do we get the data frame data structure? CLICK HERE TO SEE THE ANSWER. BUT REALLY TRY TO DO IT YOURSELF FIRST!</summary>\n",
    "\n",
    "Remember, data frames are **not** a built-in Python data structure. We access them through the `pandas` package. \n",
    "  "
   ]
  },
  {
   "cell_type": "code",
   "execution_count": null,
   "id": "dabe35bb",
   "metadata": {},
   "outputs": [],
   "source": [
    "## your answer \n"
   ]
  },
  {
   "cell_type": "markdown",
   "id": "11654a08",
   "metadata": {},
   "source": [
    "## Data frames \n",
    "\n",
    "For this series of tasks we will be using a publicly available dataset from [Public Health Scotland around Stroke Activity](https://www.opendata.nhs.scot/dataset/scottish-stroke-statistics/resource/47656572-e196-40c8-83e8-08b0b223b2e6). This dataset provides \"Information on hospital activity related to cerebrovascular disease (including stroke and subarachnoid haemorrhage).\" Look through the link and read the data dictionary at the bottom to familiarise yourself with the variables.  \n",
    "\n",
    "We will first read in the data. You can read in data from a URL with the `read_csv()` function but inputting the URL as a character string - how helpful! From the link above to the data set there is a URL I have copied at the top of the page. It is good practice when first reading in a data set to name it and add `_raw` or some delineation that it is the raw data. As you process the data for your analytic purposes, you can then save the data in an object without this delineation. This allows you to maintain an object with a version of the raw data that you can refer to later if needed. "
   ]
  },
  {
   "cell_type": "code",
   "execution_count": null,
   "id": "d7662808",
   "metadata": {},
   "outputs": [],
   "source": [
    "stroke_raw = pd.read_csv(\"https://www.opendata.nhs.scot/dataset/f5dcf382-e6ca-49f6-b807-4f9cc29555bc/resource/47656572-e196-40c8-83e8-08b0b223b2e6/download/stroke_activitybyhbr.csv\")"
   ]
  },
  {
   "cell_type": "code",
   "execution_count": null,
   "id": "067c8e10",
   "metadata": {},
   "outputs": [],
   "source": [
    "# it is always a good idea to do a quick visual check of data once you read it in to spot an obvious or blantant parsing issues \n",
    "stroke_raw # looks good! "
   ]
  },
  {
   "cell_type": "code",
   "execution_count": null,
   "id": "58e98dc0",
   "metadata": {},
   "outputs": [],
   "source": [
    "# using pd.read_csv() will import the data for us as a pandas data frame \n",
    "type(stroke_raw)"
   ]
  },
  {
   "cell_type": "markdown",
   "id": "5dacef0f",
   "metadata": {},
   "source": [
    "### Task 11 \n",
    "\n",
    "Look through the imported data to check it looks as it should based on the data dictionary. Are all the expected variables included? What dimensions does the dataframe have? Do the dtypes of these variables look to be correct? "
   ]
  },
  {
   "cell_type": "markdown",
   "id": "a8930263",
   "metadata": {},
   "source": [
    "<details><summary style='color:darkblue'>HINT: A useful new function! CLICK HERE TO SEE</summary>\n",
    "    \n",
    "There is a useful function called `head()` which will print by default the first 5 rows of a dataframe. The counterpart is `tail()` which print the last 5 rows by default. Both functions take the argument `n = ` if you wish to specify a different number of rows other than 5. There are counterpart functions in R with the same name and functionality!\n",
    "    \n",
    "This will help in solving the task, but you will need to use some other summary/description functions as well."
   ]
  },
  {
   "cell_type": "code",
   "execution_count": null,
   "id": "e5fe1cbc",
   "metadata": {},
   "outputs": [],
   "source": [
    "## your answer \n"
   ]
  },
  {
   "cell_type": "markdown",
   "id": "51694e6c",
   "metadata": {},
   "source": [
    "### Task 12 \n",
    "\n",
    "We do not need all of the columns in the dataset. The only variables we need for the next tasks are `FinancialYear`, `AdmissionType`, `AgeGroup`, `Diagnosis`, and `NumberOfDischarges`. Within the `HBR` variable, \"S92000003\" is the country code for Scotland. The `Sex` variable we do not need for this task, but it too includes an aggregate level \"All\". Filter the data such that only these aggregate level are included for these 2 variables. Filter the data accordingly and save this processed dataset into an object called `stroke`."
   ]
  },
  {
   "cell_type": "markdown",
   "id": "02c30d21",
   "metadata": {},
   "source": [
    "<details><summary style='color:darkblue'>HINT 1: Think about your data structures! CLICK HERE TO SEE</summary>\n",
    "Remember to think about your input data structures - for example, perhaps you will want to use a list to list the columns we want to keep"
   ]
  },
  {
   "cell_type": "markdown",
   "id": "bddc78db",
   "metadata": {},
   "source": [
    "<details><summary style='color:darkblue'>HINT 2: Indexing operators CLICK HERE TO SEE</summary>\n",
    "\n",
    "We learned about `loc` and `iloc` this week to indexing location based on name or numeric index, respectively"
   ]
  },
  {
   "cell_type": "markdown",
   "id": "0cadf4bb",
   "metadata": {},
   "source": [
    "<details><summary style='color:darkblue'>HINT 3: Resulting data frame dimensions. CLICK HERE TO SEE</summary>\n",
    "\n",
    "the object `stroke` should contain 960 rows and 5 columns \n"
   ]
  },
  {
   "cell_type": "markdown",
   "id": "a8715280",
   "metadata": {},
   "source": [
    "### Task 13 \n",
    "\n",
    "Check the data types of the remaining 5 variables and convert them to a better data type if needed. \n"
   ]
  },
  {
   "cell_type": "markdown",
   "id": "f034b429",
   "metadata": {},
   "source": [
    "<details><summary style='color:darkblue'>HINT: Editing the dataframe. CLICK HERE TO SEE THE ANSWER. BUT REALLY TRY TO DO IT YOURSELF FIRST!</summary>\n",
    "\n",
    "In order to actually change the data types in the original dataframe, make sure to assign it back to an object since the `astype()` functions returns a copy."
   ]
  },
  {
   "cell_type": "code",
   "execution_count": null,
   "id": "05aedc2a",
   "metadata": {},
   "outputs": [],
   "source": [
    "## your answer \n"
   ]
  },
  {
   "cell_type": "markdown",
   "id": "e9cae151",
   "metadata": {},
   "source": [
    "### Task 14\n",
    "\n",
    "Look at the categories within the categorical variables - is there anything unexpected?\n"
   ]
  },
  {
   "cell_type": "markdown",
   "id": "5047d5fd",
   "metadata": {},
   "source": [
    "<details><summary style='color:darkblue'>HINT: A warning about the data not to miss. CLICK HERE TO SEE THE ANSWER. BUT REALLY TRY TO DO IT YOURSELF FIRST!</summary>\n",
    "\n",
    "It looks like some of our variables include aggregate level responses! Good thing we checked our data. Aggregate data is very common in health and social care data. It is crucial to check your data to ensure you are aware of any aggregate categories. Depending on your specific use case, you may wish to use only the aggregate levels or perhaps remove the aggregate levels and only work with the finer-grained categories."
   ]
  },
  {
   "cell_type": "code",
   "execution_count": null,
   "id": "34e45c8d",
   "metadata": {},
   "outputs": [],
   "source": [
    "## your answer\n",
    "\n"
   ]
  },
  {
   "cell_type": "markdown",
   "id": "14db7696",
   "metadata": {},
   "source": [
    "## Task 15 \n",
    "\n",
    "`AgeGroup` is a bit messy. It should be ordered and includes 2 aggregate categories. Remove the aggregate categories and order the remaining categories.\n"
   ]
  },
  {
   "cell_type": "markdown",
   "id": "26e59a88",
   "metadata": {},
   "source": [
    "<details><summary style='color:darkblue'>HINT: Resulting data frame dimensions. CLICK HERE TO SEE</summary>\n",
    "\n",
    "Your `stroke` data frame should contain 640 rows and 5 columns \n"
   ]
  },
  {
   "cell_type": "markdown",
   "id": "161afcaa",
   "metadata": {},
   "source": [
    "<details><summary style='color:darkblue'>HINT: A new \"not\" operator. CLICK HERE TO SEE</summary>\n",
    "\n",
    "In Python is `~` is a bitwise operator for NOT"
   ]
  },
  {
   "cell_type": "code",
   "execution_count": null,
   "id": "2e609232",
   "metadata": {},
   "outputs": [],
   "source": [
    "## your answer \n"
   ]
  },
  {
   "cell_type": "markdown",
   "id": "00366da9",
   "metadata": {},
   "source": [
    "### Task 16 \n",
    "\n",
    "Create a summary table with the average number of discharges with a stroke diagnosis by age group for all admissions in the financial years 2021/22 and 2022/23."
   ]
  },
  {
   "cell_type": "markdown",
   "id": "5df16043",
   "metadata": {},
   "source": [
    "<details><summary style='color:darkblue'>HINT: Breaking down the task. CLICK HERE TO SEE</summary>\n",
    "\n",
    "Further filtering of the data is needed for this task. THEN grouping the data in order to compute our values of interest\n"
   ]
  },
  {
   "cell_type": "code",
   "execution_count": null,
   "id": "fb027779",
   "metadata": {},
   "outputs": [],
   "source": [
    "## your answer \n"
   ]
  },
  {
   "cell_type": "markdown",
   "id": "b7fec6fe",
   "metadata": {},
   "source": [
    "---\n",
    "## Well done! 🎉 \n",
    "\n",
    "Well done! You have completed all of the tasks for the Python notebook for this tutorial. If you have not done so yet, now move to the R notebook.\n",
    "\n",
    "Do not forget your 3 stars, a wish, and a step mini-diaries for this week once you have completed the tutorial notebooks and content for the week. \n"
   ]
  },
  {
   "cell_type": "markdown",
   "id": "7ec60837",
   "metadata": {},
   "source": [
    "---\n",
    "*Dr. Brittany Blankinship (2024)*"
   ]
  }
 ],
 "metadata": {
  "kernelspec": {
   "display_name": "Python 3 (ipykernel)",
   "language": "python",
   "name": "python3"
  },
  "language_info": {
   "codemirror_mode": {
    "name": "ipython",
    "version": 3
   },
   "file_extension": ".py",
   "mimetype": "text/x-python",
   "name": "python",
   "nbconvert_exporter": "python",
   "pygments_lexer": "ipython3",
   "version": "3.9.13"
  }
 },
 "nbformat": 4,
 "nbformat_minor": 5
}
