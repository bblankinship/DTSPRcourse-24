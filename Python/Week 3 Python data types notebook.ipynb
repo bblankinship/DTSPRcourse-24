{
 "cells": [
  {
   "cell_type": "markdown",
   "id": "6f5186dc",
   "metadata": {},
   "source": [
    "# Python data types notebook\n",
    "\n",
    "## 1. Introduction\n",
    "\n",
    "In this notebook we will be looking at the data types discussed in the Week 2 & 3 content, how they work in Python, and how you can manipulate them. \n",
    "\n",
    "Everything in Python is an object. A data type of an object or variable specifies the type of data that is stored inside that object and how you can then interact with it. As a reminder, virtually everything in Python is an object - not just variables. As a consequence, you will be seeing a lot of the dot syntax mention in Week 1 in this notebook to access methods and attributes within objects of interest (methods, packages, data objects, etc.). If you wish to see the methods and attributes available for a given object, you can type the object and dot and then click TAB which will then show the available list. This can be super useful to avoid typos.\n",
    "\n",
    "This notebook is very long, but is intended to be a key reference guide for working with Python data types. *Do not* feel that you need to complete the notebook in 1 sitting, or even 2. Feel free to make notes for yourself by inserting cells throughout the notebook as you go through, or take notes on a separate document of your choosing.  \n",
    "\n",
    "\n",
    "**Note** there is code throughout this workbooks which will intentionally produce an error. Try to read the error messages and see if you can understand what is causing the problem and why. Python error messages tend to be quite helpful and specific actually (the same cannot be said for R all of the time, so enjoy the specificity while you can!). Reading error messages and not being frightened by them is a key skill for any programmer! \n",
    "\n",
    "✅ Remember to RUN ALL THE CELLS IN ORDER AS YOU GO THROUGH THIS NOTEBOOK (if you skip some, you might see some unexpected errors).\n",
    "✅ to see line numbers within in code cell, you can use the keyboard shortcut SHIFT-L or navigate to View > Toggle Line Numbers\n",
    "\n",
    "### Python has 5 basic data types.\n",
    "* Boolean: True, False \n",
    "* numeric\n",
    "    * integer: -1, 2\n",
    "    * float:  1.0, 15.3 \n",
    "    * complex: 1+4j \n",
    "* string (character): “health care”, “social care”  \n",
    "\n",
    "### From the `pandas` library we can get the categorical data type \n",
    "* category: apple, banana, orange \n",
    "\n",
    "### From the `datetime` module we can get date and time datatypes \n",
    "* date: 2023-06-01\n",
    "* time: 15:30:43\n",
    "* datetime: 2023-06-01 15:30:43\n",
    "\n",
    "### Python also provides functions to examine data type features, for example \n",
    "* `type()` - what is the object’s data type?  \n",
    "* `len()` - how long is the data? \n",
    "\n",
    "* `isinstance()` - to check if an object is a given data type, returns a Boolean value \n",
    " - this function takes 2 arguments, `isinstance(object, datatype)`. You can list multiple data types `isinstance(object, (datatype, datatype, datatype)` which is the equivalent of an \"or statement\" (so if one statement is true, the output will be true)\n",
    "\n",
    "### Casting \n",
    "The process of speciying a data type on a varibale is called **casting** in Python. Becuase Python is an OOP (object-oriented programming) language, classes are used to define data type. Therefore, casting is done using constructor functions. \n",
    "\n",
    "* `int()` - constructs an integer number from a float or string (if the string represents a whole number)\n",
    "* `float()` - constructs a float form number from an integer or string (if the string represents a float or integer) \n",
    "* `str()` - constructs a string from a wide variety of data types including string, integer, float, etc. \n",
    "* `bool()` - constructs Boolean data types from integers or floats \n",
    "\n",
    "Let's discuss each of these Python data types one by one. "
   ]
  },
  {
   "cell_type": "code",
   "execution_count": null,
   "id": "70b8b6cd",
   "metadata": {},
   "outputs": [],
   "source": [
    "# first lets load the packages and modules we need for this notebook \n",
    "\n",
    "import numpy as np\n",
    "import pandas as pd\n",
    "from pandas.api.types import CategoricalDtype \n",
    "from pandas.api.types import union_categoricals\n",
    "import datetime as dt \n",
    "from dateutil import parser, tz, relativedelta\n",
    "import re\n"
   ]
  },
  {
   "cell_type": "markdown",
   "id": "4e6b4d2c",
   "metadata": {},
   "source": [
    "## 2. Boolean\n",
    "\n",
    "In Python, the bool data type is built-in, meaning it does not need to be imported and is always available. No other value besides `True` and `False` will have `bool` as its type. The class `bool` is actually a subclass of the class `int` as True and False values are represented as 1 and 0. \n",
    "\n",
    "To work with boolean data types and values, we can use relational, logical, and identity operators. "
   ]
  },
  {
   "cell_type": "code",
   "execution_count": null,
   "id": "103563c5",
   "metadata": {},
   "outputs": [],
   "source": [
    "type(False)"
   ]
  },
  {
   "cell_type": "code",
   "execution_count": null,
   "id": "6845950d",
   "metadata": {},
   "outputs": [],
   "source": [
    "type(True)"
   ]
  },
  {
   "cell_type": "markdown",
   "id": "5eab0bb2",
   "metadata": {},
   "source": [
    "It is possible to assign a Boolean value to a variable, but it is not possible to assign a value to a Boolean value (as `True` and `False` are keywords)."
   ]
  },
  {
   "cell_type": "code",
   "execution_count": null,
   "id": "4d3337de",
   "metadata": {},
   "outputs": [],
   "source": [
    "a_true_variable = True \n",
    "\n",
    "print(a_true_variable)"
   ]
  },
  {
   "cell_type": "code",
   "execution_count": null,
   "id": "274df293",
   "metadata": {},
   "outputs": [],
   "source": [
    "type(a_true_variable)"
   ]
  },
  {
   "cell_type": "code",
   "execution_count": null,
   "id": "8cf46d0c",
   "metadata": {},
   "outputs": [],
   "source": [
    "True = 44 # this will produce an error "
   ]
  },
  {
   "cell_type": "markdown",
   "id": "1fbe7518",
   "metadata": {},
   "source": [
    "As keywords, True and False must have an upper case 1st letter "
   ]
  },
  {
   "cell_type": "code",
   "execution_count": null,
   "id": "6ecfa3b8",
   "metadata": {
    "scrolled": true
   },
   "outputs": [],
   "source": [
    "f = false # this will produce an error "
   ]
  },
  {
   "cell_type": "markdown",
   "id": "bfeda16c",
   "metadata": {},
   "source": [
    "Since `True` and `False` are equivalent to `1` and `0`, they can be cast to the respective types with `int()`, `float()`, and `complex()`"
   ]
  },
  {
   "cell_type": "code",
   "execution_count": null,
   "id": "8a245e07",
   "metadata": {},
   "outputs": [],
   "source": [
    "print(int(True)) \n",
    "\n",
    "print(int(False))"
   ]
  },
  {
   "cell_type": "markdown",
   "id": "43e409b6",
   "metadata": {},
   "source": [
    "*Note*: the code above is nested (where 1 piece of code is placed inside another). So in the example it is executed/read from the inside out, `int()` then `print()`\n"
   ]
  },
  {
   "cell_type": "code",
   "execution_count": null,
   "id": "e9e33a32",
   "metadata": {},
   "outputs": [],
   "source": [
    "print(float(True))\n",
    "print(float(False))"
   ]
  },
  {
   "cell_type": "code",
   "execution_count": null,
   "id": "de766ac2",
   "metadata": {
    "scrolled": true
   },
   "outputs": [],
   "source": [
    "print(complex(True))\n",
    "print(complex(False))"
   ]
  },
  {
   "cell_type": "markdown",
   "id": "1c11059f",
   "metadata": {},
   "source": [
    "You can also convert `True` and `False` to strings using `str()`"
   ]
  },
  {
   "cell_type": "code",
   "execution_count": null,
   "id": "289d70ec",
   "metadata": {},
   "outputs": [],
   "source": [
    "print(str(True))\n",
    "print(str(False))\n",
    "\n",
    "print(type(str(True))) \n",
    "print(type(str(False)))"
   ]
  },
  {
   "cell_type": "markdown",
   "id": "eff92fa3",
   "metadata": {},
   "source": [
    "Due to the concepts of Truthy and Falsey, non-empty strings are considered `True`. So, if you convert `False` to a string and then back to a Boolean type, it will be `True`."
   ]
  },
  {
   "cell_type": "code",
   "execution_count": null,
   "id": "861b5a55",
   "metadata": {
    "scrolled": true
   },
   "outputs": [],
   "source": [
    "print(bool(str(False))) "
   ]
  },
  {
   "cell_type": "markdown",
   "id": "e155fae2",
   "metadata": {},
   "source": [
    "### 2.1 Comparison operators \n",
    "\n",
    "Comparison operators compare the value of each operand according to the specified operator and return a boolean output: "
   ]
  },
  {
   "cell_type": "code",
   "execution_count": null,
   "id": "d17a3221",
   "metadata": {},
   "outputs": [],
   "source": [
    "x1 = 10 \n",
    "x2 = 20 \n",
    "\n",
    "# equal to \n",
    "x1 == x2"
   ]
  },
  {
   "cell_type": "code",
   "execution_count": null,
   "id": "8ad48be1",
   "metadata": {},
   "outputs": [],
   "source": [
    "# not equal to \n",
    "x1 != x2"
   ]
  },
  {
   "cell_type": "code",
   "execution_count": null,
   "id": "cb8a03cd",
   "metadata": {},
   "outputs": [],
   "source": [
    "# less than or equal to\n",
    "x1 <= x2"
   ]
  },
  {
   "cell_type": "code",
   "execution_count": null,
   "id": "5cd32b0d",
   "metadata": {},
   "outputs": [],
   "source": [
    "# Greater than or equal to\n",
    "x1 >= x2"
   ]
  },
  {
   "cell_type": "markdown",
   "id": "89f2b607",
   "metadata": {},
   "source": [
    "### 2.2 Identity operators \n",
    "\n",
    "`is` and `is not` are identity operators, which determine whether the given operands refer to the same object (have the same identity). \n",
    "\n",
    "You can have 2 objects that are equal, but not identitical:\n"
   ]
  },
  {
   "cell_type": "code",
   "execution_count": null,
   "id": "bd312acf",
   "metadata": {},
   "outputs": [],
   "source": [
    "obj0 = 1001 \n",
    "\n",
    "obj1 = 1000 + 1 \n",
    "\n",
    "print(obj0, obj1)"
   ]
  },
  {
   "cell_type": "code",
   "execution_count": null,
   "id": "e346b07f",
   "metadata": {},
   "outputs": [],
   "source": [
    "print(obj0 == obj1)"
   ]
  },
  {
   "cell_type": "code",
   "execution_count": null,
   "id": "288acbe2",
   "metadata": {},
   "outputs": [],
   "source": [
    "print(obj0 is obj1)\n",
    "\n",
    "print(obj0 is not obj1)"
   ]
  },
  {
   "cell_type": "markdown",
   "id": "1083977b",
   "metadata": {},
   "source": [
    "As we can see both objects *equal* 1001, but they do not refer to the same object. We can confirm that they do not reference the same object with `id()`"
   ]
  },
  {
   "cell_type": "code",
   "execution_count": null,
   "id": "7a9d01d7",
   "metadata": {
    "scrolled": true
   },
   "outputs": [],
   "source": [
    "print(id(obj0))\n",
    "\n",
    "print(id(obj1))\n",
    "\n",
    "# indeed obj0 and obj1 have different ids"
   ]
  },
  {
   "cell_type": "markdown",
   "id": "aa00764f",
   "metadata": {},
   "source": [
    "### 2.3 Logical operators \n",
    "\n",
    "Logical operators are used to combine conditional statements, with a boolean output"
   ]
  },
  {
   "cell_type": "code",
   "execution_count": null,
   "id": "b23a868a",
   "metadata": {},
   "outputs": [],
   "source": [
    "x1 > 5 and x2 < 25"
   ]
  },
  {
   "cell_type": "code",
   "execution_count": null,
   "id": "147f0c08",
   "metadata": {},
   "outputs": [],
   "source": [
    "x1 > 5 or x2 > 10"
   ]
  },
  {
   "cell_type": "code",
   "execution_count": null,
   "id": "7373d6fe",
   "metadata": {},
   "outputs": [],
   "source": [
    "not(x1 > 5 and x2 < 25)"
   ]
  },
  {
   "cell_type": "markdown",
   "id": "6f0438a4",
   "metadata": {},
   "source": [
    "### 2.4 Casting with Boolean data\n",
    "\n",
    "Integers and floating point numbers can be cast to boolean type data using the `bool()` function. An `int`, `float` or `complex` number set to zero returns `False`. An `int`, `float` or `complex` number set to any other number, positive or negative, returns `True`."
   ]
  },
  {
   "cell_type": "code",
   "execution_count": null,
   "id": "e9deac90",
   "metadata": {},
   "outputs": [],
   "source": [
    "zero_int = 0 \n",
    "\n",
    "bool(zero_int)"
   ]
  },
  {
   "cell_type": "code",
   "execution_count": null,
   "id": "ff65e72c",
   "metadata": {},
   "outputs": [],
   "source": [
    "pos_int = 1\n",
    "\n",
    "bool(pos_int)"
   ]
  },
  {
   "cell_type": "code",
   "execution_count": null,
   "id": "0fa4930d",
   "metadata": {},
   "outputs": [],
   "source": [
    "neg_flt = -5.4\n",
    "\n",
    "bool(neg_flt)"
   ]
  },
  {
   "cell_type": "markdown",
   "id": "47682b8c",
   "metadata": {},
   "source": [
    "## 3. Numeric\n",
    "\n",
    "In Python, numeric data types are also built-in, meaning they do not need to be imported and are always available. There are 3 primary numeric data types in Python, including variations from Numpy (denoted with np.X):\n",
    "\n",
    "1. integer: `int`\n",
    "2. float: `float`\n",
    "    - `np.float32`\n",
    "    - `np.float64`\n",
    "3. complex: `complex`\n",
    "\n",
    "There are some built-in functions when working with numeric data that we can use \n",
    "\n",
    "* `round()` to round a number to the nearest integer. **Note** when the number ends in .5 `round()` has some unexpected behaviour as it **rounds ties to even**. When you round ties to even, you first look at the digit one decimal place to the left of the last digit in the tie. If that digit is even, then you round down. If the digit is odd, then you round up. You can also specify the number of decimal places (`ndigits`) by passing a second integer argument to `round()` \n",
    "* `abs()` to get the absolute value of a number \n",
    "* `sum()` used to sum a list of values. The first argument is the iterable while the second optional argument is the start. Start allows us to provide a value to initialize the summation process, if left empty the default is 0 \n",
    "* `min()` returns the minimum value from an iterable or the smallest of the given arguments \n",
    "* `max()` returns the maximum value from an iterable or the largest of the given arguments \n",
    "\n",
    "Arithmetic operators and expressions are useful when working with numeric data. "
   ]
  },
  {
   "cell_type": "code",
   "execution_count": null,
   "id": "93ae0b9a",
   "metadata": {},
   "outputs": [],
   "source": [
    "ff = 40.56\n",
    "\n",
    "type(ff)"
   ]
  },
  {
   "cell_type": "code",
   "execution_count": null,
   "id": "de4f3356",
   "metadata": {},
   "outputs": [],
   "source": [
    "ii = 444 \n",
    "\n",
    "type(ii)"
   ]
  },
  {
   "cell_type": "code",
   "execution_count": null,
   "id": "63e41674",
   "metadata": {
    "scrolled": true
   },
   "outputs": [],
   "source": [
    "i = 123\n",
    "print(isinstance(i, int))\n",
    "print(isinstance(i, (float, str, set, dict)))"
   ]
  },
  {
   "cell_type": "markdown",
   "id": "240317d1",
   "metadata": {},
   "source": [
    "In Python you can use `_` in place of a comma or full stop to format entry of large numbers"
   ]
  },
  {
   "cell_type": "code",
   "execution_count": null,
   "id": "07c92768",
   "metadata": {},
   "outputs": [],
   "source": [
    "largenum = 4_000_000_000_000_000_0005\n",
    "\n",
    "print(largenum, type(largenum))"
   ]
  },
  {
   "cell_type": "markdown",
   "id": "aaca152a",
   "metadata": {},
   "source": [
    "You can also optionally use scientific notation but inputting `e` or `E` followed by a positive or negative integer. "
   ]
  },
  {
   "cell_type": "code",
   "execution_count": null,
   "id": "8e5720fe",
   "metadata": {},
   "outputs": [],
   "source": [
    "scnum0 = 4.2e-4\n",
    "\n",
    "print(scnum0)"
   ]
  },
  {
   "cell_type": "code",
   "execution_count": null,
   "id": "12dc70d7",
   "metadata": {},
   "outputs": [],
   "source": [
    "scnum1 = .4E7\n",
    "\n",
    "print(scnum1)"
   ]
  },
  {
   "cell_type": "markdown",
   "id": "e2fd04d4",
   "metadata": {},
   "source": [
    "As mentioned in the Week 2 topic on numeric data, there is a difference in precision between the native/built-in Python float and the Numpy `.float32` and `.float64` data types. Let's look at an example:"
   ]
  },
  {
   "cell_type": "code",
   "execution_count": null,
   "id": "2a988136",
   "metadata": {},
   "outputs": [],
   "source": [
    "a = 58682.7578125\n",
    "\n",
    "print(type(a))\n",
    "\n",
    "print(a)"
   ]
  },
  {
   "cell_type": "code",
   "execution_count": null,
   "id": "9b653046",
   "metadata": {},
   "outputs": [],
   "source": [
    "print(type(np.float32(a)))\n",
    "\n",
    "print(np.float32(a))"
   ]
  },
  {
   "cell_type": "code",
   "execution_count": null,
   "id": "0dae0434",
   "metadata": {},
   "outputs": [],
   "source": [
    "print(type(np.float64(a)))\n",
    "\n",
    "print(np.float64(a))"
   ]
  },
  {
   "cell_type": "markdown",
   "id": "589f64d0",
   "metadata": {},
   "source": [
    "Complex numbers in Python are constructed (real + imag*1j). The convention of wrapping complex numbers in paranthesis helps to minimize confusion around if the displayed output represents a string or mathematical expression."
   ]
  },
  {
   "cell_type": "code",
   "execution_count": null,
   "id": "1d165cd4",
   "metadata": {},
   "outputs": [],
   "source": [
    "## lets create a complex number \n",
    "\n",
    "cc = 5j + 4 #note here I put the imaginary element before the real element \n",
    "\n",
    "cc # when printed Python automatically reformats the number to (real + imaginary) and wraps it in parentheses"
   ]
  },
  {
   "cell_type": "code",
   "execution_count": null,
   "id": "1fba3f04",
   "metadata": {},
   "outputs": [],
   "source": [
    "type(cc)"
   ]
  },
  {
   "cell_type": "code",
   "execution_count": null,
   "id": "1b125aeb",
   "metadata": {},
   "outputs": [],
   "source": [
    "cc.real # to access the real component - note the output is a float "
   ]
  },
  {
   "cell_type": "code",
   "execution_count": null,
   "id": "3fbe593c",
   "metadata": {},
   "outputs": [],
   "source": [
    "cc.imag #to access the imaginary component - note the output is a float "
   ]
  },
  {
   "cell_type": "markdown",
   "id": "35a8c9ce",
   "metadata": {},
   "source": [
    "### 3.1 Built-in functions "
   ]
  },
  {
   "cell_type": "code",
   "execution_count": null,
   "id": "70885f98",
   "metadata": {},
   "outputs": [],
   "source": [
    "abs(-5.89)"
   ]
  },
  {
   "cell_type": "code",
   "execution_count": null,
   "id": "19b47f21",
   "metadata": {
    "scrolled": true
   },
   "outputs": [],
   "source": [
    "abs(345)"
   ]
  },
  {
   "cell_type": "code",
   "execution_count": null,
   "id": "0616d089",
   "metadata": {},
   "outputs": [],
   "source": [
    "round(7809.3)"
   ]
  },
  {
   "cell_type": "code",
   "execution_count": null,
   "id": "158c816c",
   "metadata": {},
   "outputs": [],
   "source": [
    "round(3428.9)"
   ]
  },
  {
   "cell_type": "code",
   "execution_count": null,
   "id": "a517d56a",
   "metadata": {},
   "outputs": [],
   "source": [
    "round(2.5) # rounded down due to rounding ties to even"
   ]
  },
  {
   "cell_type": "code",
   "execution_count": null,
   "id": "0386ce6a",
   "metadata": {},
   "outputs": [],
   "source": [
    "round(348.23905) # rounded down due to rounding ties to even"
   ]
  },
  {
   "cell_type": "code",
   "execution_count": null,
   "id": "9a2c6315",
   "metadata": {},
   "outputs": [],
   "source": [
    "round(3.5) # rounded up due to rounding ties to even "
   ]
  },
  {
   "cell_type": "code",
   "execution_count": null,
   "id": "dc71f873",
   "metadata": {},
   "outputs": [],
   "source": [
    "round(237.87239465) # rounded up due to rounding ties to even"
   ]
  },
  {
   "cell_type": "code",
   "execution_count": null,
   "id": "5f13f54b",
   "metadata": {},
   "outputs": [],
   "source": [
    "round(237.87239465, ndigits = 3)"
   ]
  },
  {
   "cell_type": "markdown",
   "id": "c91b8343",
   "metadata": {},
   "source": [
    "You can input a list of numbers, which is denoted by square brackets `[]` into the `sum()` function: "
   ]
  },
  {
   "cell_type": "code",
   "execution_count": null,
   "id": "fe2ae714",
   "metadata": {},
   "outputs": [],
   "source": [
    "sum([1, 2, 3, 4, 5])"
   ]
  },
  {
   "cell_type": "code",
   "execution_count": null,
   "id": "b0b12c66",
   "metadata": {},
   "outputs": [],
   "source": [
    "sum([1, 2, 3, 4, 5], 100)  # Positional argument"
   ]
  },
  {
   "cell_type": "code",
   "execution_count": null,
   "id": "033b25a1",
   "metadata": {},
   "outputs": [],
   "source": [
    "sum([1, 2, 3, 4, 5], start = 100)  # Keyword argument"
   ]
  },
  {
   "cell_type": "markdown",
   "id": "4a196df0",
   "metadata": {},
   "source": [
    "**Note** in general, it is good coding practice to use keyword arguments where possible as they are more explicit and readable"
   ]
  },
  {
   "cell_type": "markdown",
   "id": "11ffc0c3",
   "metadata": {},
   "source": [
    "You can also use input a range of values into `sum()` using `range()`, which functions as follows `range(start, stop, step)`"
   ]
  },
  {
   "cell_type": "code",
   "execution_count": null,
   "id": "f407c338",
   "metadata": {},
   "outputs": [],
   "source": [
    "# defining a for loop to iterate through the generated sequence of numbers starting from 1 to 10 with a step of 2 using range() function\n",
    "\n",
    "for each_element in range(1,10,2):\n",
    "\n",
    "    print(\"The value is = \", each_element)\n"
   ]
  },
  {
   "cell_type": "code",
   "execution_count": null,
   "id": "7ae96afb",
   "metadata": {},
   "outputs": [],
   "source": [
    "sum(range(1, 6))"
   ]
  },
  {
   "cell_type": "code",
   "execution_count": null,
   "id": "c91b2fc1",
   "metadata": {},
   "outputs": [],
   "source": [
    "max([32.67, 60, 73, 723, 4.3])"
   ]
  },
  {
   "cell_type": "code",
   "execution_count": null,
   "id": "b998fc24",
   "metadata": {},
   "outputs": [],
   "source": [
    "min([32.67, 60, 73, 723, 4.3])"
   ]
  },
  {
   "cell_type": "markdown",
   "id": "ebc356d5",
   "metadata": {},
   "source": [
    "In the examples above I have mixed integers and floats, which is supported by the functions as they are comparable types. However, if you include a string, you will get a `TypeError`"
   ]
  },
  {
   "cell_type": "code",
   "execution_count": null,
   "id": "5c00f44c",
   "metadata": {},
   "outputs": [],
   "source": [
    "max([32.67, 60, 73, \"723\", 4.3]) # produces an error"
   ]
  },
  {
   "cell_type": "code",
   "execution_count": null,
   "id": "b82ad6f1",
   "metadata": {
    "scrolled": true
   },
   "outputs": [],
   "source": [
    "min([32.67, 60, 73, 723, \"4.3\"]) # produces an error"
   ]
  },
  {
   "cell_type": "markdown",
   "id": "3b7fdf3c",
   "metadata": {},
   "source": [
    "The `min()` and `max()` functions can be useful when removing the output value from a given list"
   ]
  },
  {
   "cell_type": "code",
   "execution_count": null,
   "id": "a46c7051",
   "metadata": {},
   "outputs": [],
   "source": [
    "sample = [4, 5, 7, 6, -12, 4, 42, 60, 2, 34]\n",
    "print(sample)"
   ]
  },
  {
   "cell_type": "code",
   "execution_count": null,
   "id": "a23fd00f",
   "metadata": {},
   "outputs": [],
   "source": [
    "sample.remove(min(sample))\n",
    "\n",
    "print(sample)"
   ]
  },
  {
   "cell_type": "code",
   "execution_count": null,
   "id": "9afe4c7b",
   "metadata": {},
   "outputs": [],
   "source": [
    "sample.remove(max(sample))\n",
    "\n",
    "print(sample)"
   ]
  },
  {
   "cell_type": "markdown",
   "id": "c0c6122f",
   "metadata": {},
   "source": [
    "**Note** Notice that the original object `sample` had 10 values in the list. After running the code place to remove the minumum value, sample has 9 values. And after the code block to remove the maximum value, sample has 8 values. This is because each time we run the code, the object sample is being modified and updated in the global state. Try running each code block a few times to see what happens..."
   ]
  },
  {
   "cell_type": "markdown",
   "id": "a8db0ad6",
   "metadata": {},
   "source": [
    "### 3.2 Casting with numeric data \n",
    "\n",
    "We can convert between numeric data types using `float()`, `int()`, and `complex()`"
   ]
  },
  {
   "cell_type": "code",
   "execution_count": null,
   "id": "9c100f4b",
   "metadata": {},
   "outputs": [],
   "source": [
    "# lets remind ourselves what the objects ii and ff were that we created above\n",
    "print(ii)\n",
    "print(ff)"
   ]
  },
  {
   "cell_type": "code",
   "execution_count": null,
   "id": "6cec4ccf",
   "metadata": {},
   "outputs": [],
   "source": [
    "print(float(ii))"
   ]
  },
  {
   "cell_type": "code",
   "execution_count": null,
   "id": "39216e9e",
   "metadata": {},
   "outputs": [],
   "source": [
    "print(int(ff))"
   ]
  },
  {
   "cell_type": "code",
   "execution_count": null,
   "id": "9cde2b93",
   "metadata": {},
   "outputs": [],
   "source": [
    "print(complex(ff)) \n",
    "# try this with the object ii - what do you expect the difference to be?"
   ]
  },
  {
   "cell_type": "markdown",
   "id": "e834abf2",
   "metadata": {},
   "source": [
    "### 3.3 Arithmetic operators "
   ]
  },
  {
   "cell_type": "code",
   "execution_count": null,
   "id": "875c2fa4",
   "metadata": {},
   "outputs": [],
   "source": [
    "a0 = 5\n",
    "a1 = 30"
   ]
  },
  {
   "cell_type": "code",
   "execution_count": null,
   "id": "38fed16c",
   "metadata": {},
   "outputs": [],
   "source": [
    "# addition \n",
    "a0 + a1"
   ]
  },
  {
   "cell_type": "code",
   "execution_count": null,
   "id": "ecfec41b",
   "metadata": {},
   "outputs": [],
   "source": [
    "# subtraction \n",
    "a1 - a0"
   ]
  },
  {
   "cell_type": "code",
   "execution_count": null,
   "id": "60e7f8f9",
   "metadata": {},
   "outputs": [],
   "source": [
    "# multiplication \n",
    "a0 * a1"
   ]
  },
  {
   "cell_type": "code",
   "execution_count": null,
   "id": "bd1f3fbd",
   "metadata": {},
   "outputs": [],
   "source": [
    "# division \n",
    "a1 / a0"
   ]
  },
  {
   "cell_type": "code",
   "execution_count": null,
   "id": "c80ffcba",
   "metadata": {},
   "outputs": [],
   "source": [
    "# modulus \n",
    "a1 % a0"
   ]
  },
  {
   "cell_type": "code",
   "execution_count": null,
   "id": "6e8153b5",
   "metadata": {},
   "outputs": [],
   "source": [
    "# exponent \n",
    "a1 ** a0"
   ]
  },
  {
   "cell_type": "code",
   "execution_count": null,
   "id": "44a387d5",
   "metadata": {},
   "outputs": [],
   "source": [
    "# integer/floor division \n",
    "a1 // a0"
   ]
  },
  {
   "cell_type": "markdown",
   "id": "78f91df3",
   "metadata": {},
   "source": [
    "You can also use the compound assignment operators as a shorthand when modifying a numeric data typed object"
   ]
  },
  {
   "cell_type": "code",
   "execution_count": null,
   "id": "d3ef5acd",
   "metadata": {},
   "outputs": [],
   "source": [
    "# addition assignment operator \n",
    "a1 += a0\n",
    "\n",
    "print(a1)"
   ]
  },
  {
   "cell_type": "code",
   "execution_count": null,
   "id": "7edc5381",
   "metadata": {},
   "outputs": [],
   "source": [
    "# subtraction assignment operator \n",
    "a1 -= a0\n",
    "\n",
    "print(a1)"
   ]
  },
  {
   "cell_type": "markdown",
   "id": "508cd3c1",
   "metadata": {},
   "source": [
    "**Note** that the output above is 30... although when we created the objects above we assigned `a0` to 5 and `a1` to 30. Have a brief thought as to why this might be the case. Reveal the answer below after you have considered this"
   ]
  },
  {
   "cell_type": "markdown",
   "id": "87a1714a",
   "metadata": {},
   "source": [
    "<details><summary style='color:darkblue'>Solution to why the output of the subtraction assignment operator is 30</summary>\n",
    "\n",
    "This is because each time we run code relating to the object `a1`, it is being modified and updated in the global state. So if you run the code cells in order, `a1` is 35 based on the addition assignment operator cell and thus in the substraction assignment operator code cell we are subtracting 35 - 5 = 30 rather than 30 - 5 = 25. If you go through and run the code cells a few more times the output will update accordindly. "
   ]
  },
  {
   "cell_type": "markdown",
   "id": "a82d5c92",
   "metadata": {},
   "source": [
    "## 4. String \n",
    "\n",
    "Strings are ordered text data which are represented by enclosing the text data in single, double, or triple quotes. Single (`'`) and double (`\"`) quotes can be used interchangeably, but triple quotes (`'''` or `\"\"\"`) are used to store multiline text. \n",
    "\n",
    "There are a series of built-in functions you can use with strings\n",
    "\n",
    "* `len()` function returns the length of a string (number of characters)\n",
    "* Keywords `in`, `not in`, and `if` statements\n",
    "* `find()` function returns the index value of the input found in the string. If it is not found `-1` is returned. *not to be confused* with the negative or reverse indexing value \n",
    "    * `index()` works the same way, though instead of `-1` when the input element is not found, it returns a `ValueError`\n",
    "* `capitalize()` to capitalize the first element in a string \n",
    "* `center()` is used to center align the string by specifying the field width\n",
    "* `endswith()` to check if the given string ends with the specified input character\n",
    "* `upper()` converts any lower case characters in the string to upper case  \n",
    "* `lower()` converts any upper case characters in the string to lower case \n",
    "* `replace()` replaces the element in the string with the second input element as follows `string.replace(\"elementinstring\", \"elementtoreplace\")`\n",
    "* concatenation with `+` \n",
    "* `join()` to join all elements of the input string by some specified character \n",
    "* `split()` to split into a list of strings \n",
    "* `strip()` to delete all leading and trailing characters \n",
    "* `lstrip()` to delete all leading characters \n",
    "* `rstrip()` to delete all trailing characters \n",
    "* `fstring` is a new method of intropolation (substitution of placeholder(s) with an input value) in Python3 (previously `format()`). We saw an example of this in the Week 1 tutorial notebook "
   ]
  },
  {
   "cell_type": "code",
   "execution_count": null,
   "id": "4b0b1256",
   "metadata": {},
   "outputs": [],
   "source": [
    "string0 = 'Edinburgh is the capital of Scotland'\n",
    "\n",
    "print(string0, type(string0))"
   ]
  },
  {
   "cell_type": "code",
   "execution_count": null,
   "id": "db9a2203",
   "metadata": {},
   "outputs": [],
   "source": [
    "string1 = \"edinburgh is the capital of Scotland\"\n",
    "\n",
    "print(string1, type(string1))"
   ]
  },
  {
   "cell_type": "code",
   "execution_count": null,
   "id": "be4b89d7",
   "metadata": {
    "scrolled": true
   },
   "outputs": [],
   "source": [
    "string2 = \"\"\"Edinburgh is \n",
    "the capital \n",
    "of Scotland\"\"\"\n",
    "\n",
    "print(string2, type(string2))\n",
    "\n",
    "# change string2 to be single quotes and see if there is a difference \n",
    "# you can highlight the full string and type in the single quotes and Jupyter will fill them in on either side for you "
   ]
  },
  {
   "cell_type": "markdown",
   "id": "9b1cf8a6",
   "metadata": {},
   "source": [
    "To access elements of a string, we must use square brackets `[]`. When slicing, the colon `:` specifies the start of the index n the left and the end on the right. If you leave the right hand side empty, it will go until the end of the object."
   ]
  },
  {
   "cell_type": "code",
   "execution_count": null,
   "id": "17d96b2f",
   "metadata": {},
   "outputs": [],
   "source": [
    "string0[4]"
   ]
  },
  {
   "cell_type": "code",
   "execution_count": null,
   "id": "e611f9dc",
   "metadata": {},
   "outputs": [],
   "source": [
    "string0[0:12]"
   ]
  },
  {
   "cell_type": "code",
   "execution_count": null,
   "id": "8dadd2b6",
   "metadata": {},
   "outputs": [],
   "source": [
    "string0[13:]"
   ]
  },
  {
   "cell_type": "markdown",
   "id": "16365095",
   "metadata": {},
   "source": [
    "If you want to include a quote character as part of the string itself, you may be tempted to try something as follows:"
   ]
  },
  {
   "cell_type": "code",
   "execution_count": null,
   "id": "88814f21",
   "metadata": {},
   "outputs": [],
   "source": [
    "print('This string contains a single quote (') character.')\n"
   ]
  },
  {
   "cell_type": "markdown",
   "id": "30a66130",
   "metadata": {},
   "source": [
    "But, as you can see this produces a `SyntaxError`. We can do 2 things instead:\n",
    "\n",
    "1. delimit the string with the other type of quote \n",
    "2. use an escape sequence (using the `\\` to \"escape\" from the string)"
   ]
  },
  {
   "cell_type": "code",
   "execution_count": null,
   "id": "ac3b0160",
   "metadata": {
    "scrolled": true
   },
   "outputs": [],
   "source": [
    "# option 1 \n",
    "\n",
    "print(\"This string contains a single quote (') character.\")\n",
    "\n",
    "print('This string contains a double quote (\") character.')\n"
   ]
  },
  {
   "cell_type": "code",
   "execution_count": null,
   "id": "b4fa6a1f",
   "metadata": {},
   "outputs": [],
   "source": [
    "# option 2 \n",
    "print('This string contains a single quote (\\') character.')\n"
   ]
  },
  {
   "cell_type": "markdown",
   "id": "13781dc9",
   "metadata": {},
   "source": [
    "To include a literal backslash in a string using escape characters, you need to use two `\\\\`"
   ]
  },
  {
   "cell_type": "code",
   "execution_count": null,
   "id": "d44d0948",
   "metadata": {},
   "outputs": [],
   "source": [
    "print(\"This string contains a backlash \\\\ character\")"
   ]
  },
  {
   "cell_type": "markdown",
   "id": "fef31561",
   "metadata": {},
   "source": [
    "Now lets look at some of the built-in functions described above for working with strings:"
   ]
  },
  {
   "cell_type": "code",
   "execution_count": null,
   "id": "e95a42f9",
   "metadata": {},
   "outputs": [],
   "source": [
    "# check if Edinburgh is present in the string \n",
    "print(\"Edinburgh\" in string0)"
   ]
  },
  {
   "cell_type": "code",
   "execution_count": null,
   "id": "2a328632",
   "metadata": {},
   "outputs": [],
   "source": [
    "# check if Glasgow is NOT present in the string \n",
    "print(\"Glasgow\" not in string0)"
   ]
  },
  {
   "cell_type": "code",
   "execution_count": null,
   "id": "484f2673",
   "metadata": {
    "scrolled": true
   },
   "outputs": [],
   "source": [
    "# we can also use an if-statement. Remember to watch out for your spaces as they delineate white spaces (see Week 1 topic 4) \n",
    "\n",
    "if \"Edinburgh\" in string0:\n",
    "    print(\"Yes, 'Edinburgh' is present.\")"
   ]
  },
  {
   "cell_type": "code",
   "execution_count": null,
   "id": "a5e89d4a",
   "metadata": {},
   "outputs": [],
   "source": [
    "print(string0.find(\"bur\"))"
   ]
  },
  {
   "cell_type": "code",
   "execution_count": null,
   "id": "617a49ff",
   "metadata": {},
   "outputs": [],
   "source": [
    "print(string0.find(\"ee\")) # -1 here means it is not found "
   ]
  },
  {
   "cell_type": "markdown",
   "id": "6a535422",
   "metadata": {},
   "source": [
    "Compare `find()` to `index()`:"
   ]
  },
  {
   "cell_type": "code",
   "execution_count": null,
   "id": "0e326b91",
   "metadata": {},
   "outputs": [],
   "source": [
    "print(string0.index(\"bur\"))"
   ]
  },
  {
   "cell_type": "code",
   "execution_count": null,
   "id": "ec6bae7c",
   "metadata": {
    "scrolled": true
   },
   "outputs": [],
   "source": [
    "print(string0.index(\"ee\")) "
   ]
  },
  {
   "cell_type": "markdown",
   "id": "47a1d3dd",
   "metadata": {},
   "source": [
    "With `index()` you can also specify a start and end point as follows `string.index(\"input\", start[, end]])`"
   ]
  },
  {
   "cell_type": "code",
   "execution_count": null,
   "id": "45339136",
   "metadata": {},
   "outputs": [],
   "source": [
    "string0.index(\"in\", 1, 6) \n",
    "# here we are searching for \"in\" somewhere between index positions 1 and 6\n",
    "## with the output being the index where it is found, if applicable"
   ]
  },
  {
   "cell_type": "code",
   "execution_count": null,
   "id": "a7685519",
   "metadata": {},
   "outputs": [],
   "source": [
    "string0.endswith(\"y\")"
   ]
  },
  {
   "cell_type": "code",
   "execution_count": null,
   "id": "7298c022",
   "metadata": {},
   "outputs": [],
   "source": [
    "string0.endswith(\"l\")"
   ]
  },
  {
   "cell_type": "code",
   "execution_count": null,
   "id": "b4ec2bcb",
   "metadata": {
    "scrolled": true
   },
   "outputs": [],
   "source": [
    "print(string1) # in string1 Edinburgh is not capitalized, but we can change that easily with code! \n",
    "\n",
    "print(string1.capitalize())"
   ]
  },
  {
   "cell_type": "code",
   "execution_count": null,
   "id": "be86de35",
   "metadata": {},
   "outputs": [],
   "source": [
    "print(string0.upper())"
   ]
  },
  {
   "cell_type": "code",
   "execution_count": null,
   "id": "0f0b5749",
   "metadata": {},
   "outputs": [],
   "source": [
    "print(string0.lower())"
   ]
  },
  {
   "cell_type": "code",
   "execution_count": null,
   "id": "121f5e4e",
   "metadata": {},
   "outputs": [],
   "source": [
    "print(string0.center(70))"
   ]
  },
  {
   "cell_type": "markdown",
   "id": "85d72b8e",
   "metadata": {},
   "source": [
    "With `center()` you can also fill out the spaces with any other character input in the second argument "
   ]
  },
  {
   "cell_type": "code",
   "execution_count": null,
   "id": "b6f40af8",
   "metadata": {},
   "outputs": [],
   "source": [
    "print(string0.center(70, \"-\"))"
   ]
  },
  {
   "cell_type": "code",
   "execution_count": null,
   "id": "282f4ac0",
   "metadata": {},
   "outputs": [],
   "source": [
    "print(string0.replace(\"Edinburgh\", \"Stirling\"))  # which is not true today, but it used to be! "
   ]
  },
  {
   "cell_type": "markdown",
   "id": "bda36bff",
   "metadata": {},
   "source": [
    "We can concatenate or combine two strings using the `+` operator  "
   ]
  },
  {
   "cell_type": "code",
   "execution_count": null,
   "id": "552e9509",
   "metadata": {},
   "outputs": [],
   "source": [
    "string3 = \"Stirling used to be\""
   ]
  },
  {
   "cell_type": "code",
   "execution_count": null,
   "id": "e6a873ce",
   "metadata": {},
   "outputs": [],
   "source": [
    "print(string0 + \", and \" + string3) #change the comma and see what happens"
   ]
  },
  {
   "cell_type": "markdown",
   "id": "8314634e",
   "metadata": {},
   "source": [
    "You can also use the `join()` function which allows you to add a character between the elements of the input string. This is particularly useful with data structures such as lists or tuples of strings (which we will look at next week) as the function is iterable. "
   ]
  },
  {
   "cell_type": "code",
   "execution_count": null,
   "id": "2b066da3",
   "metadata": {},
   "outputs": [],
   "source": [
    "help(str.join)"
   ]
  },
  {
   "cell_type": "code",
   "execution_count": null,
   "id": "fd9476f2",
   "metadata": {
    "scrolled": true
   },
   "outputs": [],
   "source": [
    "'*'.join(string0) "
   ]
  },
  {
   "cell_type": "code",
   "execution_count": null,
   "id": "67537283",
   "metadata": {},
   "outputs": [],
   "source": [
    "# or with list input \n",
    "'.'.join(['abc', 'def', 'ghi'])"
   ]
  },
  {
   "cell_type": "markdown",
   "id": "a176bb78",
   "metadata": {},
   "source": [
    "You can also leave the first argument empty to input an empty space between a list of string elements."
   ]
  },
  {
   "cell_type": "code",
   "execution_count": null,
   "id": "4de2dc87",
   "metadata": {},
   "outputs": [],
   "source": [
    "text = ['Python', 'is', 'a', 'fun', 'programming', 'language']\n",
    "print(text)\n",
    "\n",
    "# join elements of text with space\n",
    "print(' '.join(text))"
   ]
  },
  {
   "cell_type": "markdown",
   "id": "7f53d29d",
   "metadata": {},
   "source": [
    "To split the elements of a string into a list of strings we can use the `split()` function"
   ]
  },
  {
   "cell_type": "code",
   "execution_count": null,
   "id": "72fd7a85",
   "metadata": {},
   "outputs": [],
   "source": [
    "string0.split() # notice the output is in [], this is how we know the output is a list data structure"
   ]
  },
  {
   "cell_type": "code",
   "execution_count": null,
   "id": "15c5ade0",
   "metadata": {},
   "outputs": [],
   "source": [
    "string4 = \"             hello            \""
   ]
  },
  {
   "cell_type": "code",
   "execution_count": null,
   "id": "9dda086e",
   "metadata": {},
   "outputs": [],
   "source": [
    "# delete all leading and trailing characters\n",
    "print(string4.strip())"
   ]
  },
  {
   "cell_type": "code",
   "execution_count": null,
   "id": "1e4504cd",
   "metadata": {},
   "outputs": [],
   "source": [
    "# delete all trailing characters\n",
    "print(string4.rstrip())"
   ]
  },
  {
   "cell_type": "code",
   "execution_count": null,
   "id": "345b7aeb",
   "metadata": {},
   "outputs": [],
   "source": [
    "# delete all leading characters\n",
    "\n",
    "print(string4.lstrip())"
   ]
  },
  {
   "cell_type": "markdown",
   "id": "ae71b981",
   "metadata": {},
   "source": [
    "Withn the `strip()` functions you can also specify a character to be deleted. However the characters need to be inputted in the specific order in which they are present."
   ]
  },
  {
   "cell_type": "code",
   "execution_count": null,
   "id": "3e7bfc9e",
   "metadata": {},
   "outputs": [],
   "source": [
    "string5 = \"   ***----hello---*******     \""
   ]
  },
  {
   "cell_type": "code",
   "execution_count": null,
   "id": "3aaded87",
   "metadata": {
    "scrolled": true
   },
   "outputs": [],
   "source": [
    "string5.strip(\"*\") # this will not work as expected because there is first empty spaces before the asterisk"
   ]
  },
  {
   "cell_type": "code",
   "execution_count": null,
   "id": "ac854d08",
   "metadata": {},
   "outputs": [],
   "source": [
    "string5.strip(\" *\")"
   ]
  },
  {
   "cell_type": "code",
   "execution_count": null,
   "id": "7859b953",
   "metadata": {
    "scrolled": true
   },
   "outputs": [],
   "source": [
    "string5.strip(\" *-\")"
   ]
  },
  {
   "cell_type": "markdown",
   "id": "d4792388",
   "metadata": {},
   "source": [
    "**`f-string`** are strings that have an `f` (or `F`) at the beginning and curly braces containing expressions that will be replaced with their values. The `f` in `f-string` is for format, so formatted strings. We saw an example of an `f-string` in Tutorial 1. "
   ]
  },
  {
   "cell_type": "code",
   "execution_count": null,
   "id": "ee80f30e",
   "metadata": {},
   "outputs": [],
   "source": [
    "activity = \"Data Science\"\n",
    "\n",
    "f\"{activity} is fun\""
   ]
  },
  {
   "cell_type": "markdown",
   "id": "89d440f3",
   "metadata": {},
   "source": [
    "You can also call methods or functions directly within an `f-string`"
   ]
  },
  {
   "cell_type": "code",
   "execution_count": null,
   "id": "fc2d9e62",
   "metadata": {},
   "outputs": [],
   "source": [
    "f\"{activity.lower()} is fun\""
   ]
  },
  {
   "cell_type": "markdown",
   "id": "ca8cfd74",
   "metadata": {},
   "source": [
    "#### *A quick aside* \n",
    "\n",
    "You can also use `min()` and `max()` as we discussed in the numeric data types section with strings to find the 'smallest' and 'largest' letters in your string object. In this context, smallest means closest to the beginning of the alphabet, and largest means closest to the end of the alphabet. \n",
    "\n",
    "**Note** upper case letters come before lower case letters in Python's default character set (UTF-8), so a string with both lower case and upper case letters will produce different output and may not behave as you would expect."
   ]
  },
  {
   "cell_type": "code",
   "execution_count": null,
   "id": "d8daad24",
   "metadata": {},
   "outputs": [],
   "source": [
    "min(\"abcdefghijklmnopqrstuvwxyz\")"
   ]
  },
  {
   "cell_type": "code",
   "execution_count": null,
   "id": "c3680df7",
   "metadata": {},
   "outputs": [],
   "source": [
    "max(\"abcdefghijklmnopqrstuvwxyz\")"
   ]
  },
  {
   "cell_type": "code",
   "execution_count": null,
   "id": "e65de8a3",
   "metadata": {},
   "outputs": [],
   "source": [
    "min(\"abcdWXYZ\")"
   ]
  },
  {
   "cell_type": "code",
   "execution_count": null,
   "id": "0b7e5cd0",
   "metadata": {},
   "outputs": [],
   "source": [
    "max(\"abcdWXYZ\")"
   ]
  },
  {
   "cell_type": "markdown",
   "id": "59247136",
   "metadata": {},
   "source": [
    "### 4.1 Regular expressions \n",
    "\n",
    "To work with regular expressions in Python, we need the `re` module, which has a set of functions that allows us to search a string for a match:\n",
    "\n",
    "* `findall()`\treturns a list containing all matches in the order they are found, if no matches are found an empty list is returned\n",
    "* `search()`\treturns a Match object if there is a match anywhere in the string. If there is more than one match only the 1st occurrence is returned. If not matches are found, `None` is returned\n",
    "* `split()` returns a list where the string has been split at each match. The `maxsplit` parameter controls the number of occurrences \n",
    "* `sub()`\treplaces one or many matches with an input string. The `count` parameter can be used to control the number of replacements\n",
    "\n",
    "[This webpage](https://www.dataquest.io/wp-content/uploads/2019/03/python-regular-expressions-cheat-sheet.pdf) is an excellent guide for Python regular expressions"
   ]
  },
  {
   "cell_type": "code",
   "execution_count": null,
   "id": "b86d8dca",
   "metadata": {},
   "outputs": [],
   "source": [
    "# help(\"re\") \n",
    "# uncomment above to learn more about the re module "
   ]
  },
  {
   "cell_type": "code",
   "execution_count": null,
   "id": "d2fe7335",
   "metadata": {},
   "outputs": [],
   "source": [
    "# just to remind us of the string we were working with at the beginning\n",
    "print(string0) "
   ]
  },
  {
   "cell_type": "code",
   "execution_count": null,
   "id": "796bc727",
   "metadata": {},
   "outputs": [],
   "source": [
    "xf0 = re.findall(\"i\", string0)\n",
    "xf1 = re.findall(\"y\", string0)\n",
    "\n",
    "print(xf0)\n",
    "print(xf1)"
   ]
  },
  {
   "cell_type": "code",
   "execution_count": null,
   "id": "290a9080",
   "metadata": {
    "scrolled": true
   },
   "outputs": [],
   "source": [
    "s0 = re.search(\"\\s\", string0)\n",
    "\n",
    "print(\"The first white-space character is located in position:\", s0.start())"
   ]
  },
  {
   "cell_type": "code",
   "execution_count": null,
   "id": "85c20e76",
   "metadata": {},
   "outputs": [],
   "source": [
    "# or as an fstring \n",
    "f\"The first white-space character is located in position: {s0.start()}\""
   ]
  },
  {
   "cell_type": "code",
   "execution_count": null,
   "id": "7a1b525b",
   "metadata": {},
   "outputs": [],
   "source": [
    "print(re.split(\"\\B\", string0))"
   ]
  },
  {
   "cell_type": "code",
   "execution_count": null,
   "id": "eba37f4f",
   "metadata": {},
   "outputs": [],
   "source": [
    "print(re.sub(\"\\S\", \"*\", string0)) \n",
    "\n",
    "# check the regular expression cheat sheet link to confirm what you think the difference is between \"\\s\" and \"\\S\""
   ]
  },
  {
   "cell_type": "markdown",
   "id": "10cfbf8e",
   "metadata": {},
   "source": [
    "### 4.2 Raw string \n",
    "\n",
    "Another type of string is the so-called **raw string** which interpret backslashes as regular characters rather than an escape sequence. This data type can be useful when a string needs to contain a backslash, such as for a regular expression or Windows directory path, and you don't want it to be treated as an escape character. \n",
    "\n",
    "Despite this key difference between a regular string and a raw string, a raw string is not a distinct data type. This is becuase a raw string is just a regular string in which each backslash is represented as `\\\\`.\n",
    "\n",
    "* You can create a raw string by prefixing a normal string with `r` or `R` (similiar to `f-strings` where the `f` input can be upper or lower case) \n",
    "* Convert (not cast as it is not a different data type) a string literal to a raw string use `repr()`, which will return a string in single quotes \n",
    "* Raw string *cannot* end with an odd number of backslashes becuase backslashes escape the trailing quotation marks (`'` or `\"`)."
   ]
  },
  {
   "cell_type": "code",
   "execution_count": null,
   "id": "d173ff7b",
   "metadata": {
    "scrolled": true
   },
   "outputs": [],
   "source": [
    "s = \"hi\\nHello\"\n",
    "\n",
    "print(s)"
   ]
  },
  {
   "cell_type": "code",
   "execution_count": null,
   "id": "9cd12a2d",
   "metadata": {
    "scrolled": false
   },
   "outputs": [],
   "source": [
    "rs = r\"hi\\nHello\"\n",
    "\n",
    "print(rs) #notice the new line character is printed rather than treated as a regular expression "
   ]
  },
  {
   "cell_type": "code",
   "execution_count": null,
   "id": "2e6039b2",
   "metadata": {},
   "outputs": [],
   "source": [
    "print(type(rs)) # there is no \"raw string\" data type, just str\n",
    "\n",
    "print(rs == \"hi\\\\nHello\")\n"
   ]
  },
  {
   "cell_type": "markdown",
   "id": "36889f7f",
   "metadata": {},
   "source": [
    "As I mentioned above, this can be particularly useful when you are representing a Windows path (which are delimited by backslahes `\\`) and do not want to escape each backslash as `\\\\`. Raw strings allow you to write them as is:"
   ]
  },
  {
   "cell_type": "code",
   "execution_count": null,
   "id": "1361952d",
   "metadata": {},
   "outputs": [],
   "source": [
    "path = \"C:\\\\Windows\\\\system32\\\\cmd.exe\"\n",
    "\n",
    "rpath = r\"C:\\Windows\\system32\\cmd.exe\"\n",
    "\n",
    "print(path)\n",
    "print(rpath)\n",
    "print(path == rpath)"
   ]
  },
  {
   "cell_type": "code",
   "execution_count": null,
   "id": "05fe7e6b",
   "metadata": {},
   "outputs": [],
   "source": [
    "# no error here (even number of backslashes)\n",
    "\n",
    "path2 = 'C:\\\\Windows\\\\system32\\\\' \n",
    "print(path2)"
   ]
  },
  {
   "cell_type": "code",
   "execution_count": null,
   "id": "1d82861e",
   "metadata": {
    "scrolled": true
   },
   "outputs": [],
   "source": [
    "# this will produce an error (odd number of backslashes)\n",
    "\n",
    "rpath2 = r'C:\\Windows\\system32\\' \n",
    "print(rpath2)"
   ]
  },
  {
   "cell_type": "code",
   "execution_count": null,
   "id": "c2f90167",
   "metadata": {
    "scrolled": true
   },
   "outputs": [],
   "source": [
    "# this will also produce an error (odd number of backslashes)\n",
    "\n",
    "rpath3 = r'C:\\Windows\\system32\\\\\\' \n",
    "print(rpath3)"
   ]
  },
  {
   "cell_type": "markdown",
   "id": "0baa347c",
   "metadata": {},
   "source": [
    "Now let's try to convert a regular string into a raw string:"
   ]
  },
  {
   "cell_type": "code",
   "execution_count": null,
   "id": "fdde130a",
   "metadata": {
    "scrolled": true
   },
   "outputs": [],
   "source": [
    "# from above our regular string is s \n",
    "\n",
    "raw_s = repr(s)\n",
    "\n",
    "print(raw_s) # and now it is a raw string in single quotes and the new line character is printed\n",
    "\n",
    "# print(s) # uncomment this line to compare the two if you need to be reminded from above and do not want to scroll up "
   ]
  },
  {
   "cell_type": "markdown",
   "id": "687b72f5",
   "metadata": {},
   "source": [
    "## 5. Categorical\n",
    "\n",
    "We will be using the `pandas` package to work with categorical data (which we imported at the top of the notebook). \n",
    "\n",
    "As a general rule, if you are using categorical data, add some checks to make sure the data is clean and complete before converting to the `pandas` category type. Additionally, it is important to check for `NaN` values after combining or converting dataframes, which we will look at next week.\n",
    "\n",
    "When working in `pandas` to check the `pandas` data type (called dtype), we must use the `dtype` method: `obj.dtype`.\n",
    "\n",
    "A few aspects about `Categoricals` are: \n",
    "\n",
    "- All values of categorical data are either in `categories` or `np.nan`\n",
    "- Missing values are not permitted in the Categorical's `categories`, only in values. \n",
    "- Order is defined by the order of `categories`, not the lexical order of the values. \n",
    "- Internally, the data structure consists of a categories array and an integer array of codes which point to the real value in the categories array. This is to say that behind the scenes, cateogrical data are an array of numerics or **codes**. "
   ]
  },
  {
   "cell_type": "code",
   "execution_count": null,
   "id": "67c069c3",
   "metadata": {},
   "outputs": [],
   "source": [
    "c0 = CategoricalDtype(categories = [\"a\", \"b\", \"c\", \"d\"])\n",
    "\n",
    "c0"
   ]
  },
  {
   "cell_type": "markdown",
   "id": "a40eb864",
   "metadata": {},
   "source": [
    "You can use the string `'category'` in place of a `CategoricalDtype` when you want the default behavior of the categories being unordered, and equal to the set values present in the array. In other words, `dtype='category'` is equivalent to `dtype=CategoricalDtype(None, ordered = False)`."
   ]
  },
  {
   "cell_type": "markdown",
   "id": "691fa94e",
   "metadata": {},
   "source": [
    "Two instances of CategoricalDtype compare equal whenever they have the same categories and order. When comparing two unordered categoricals, the order of the categories is not considered. "
   ]
  },
  {
   "cell_type": "code",
   "execution_count": null,
   "id": "1e1e0dba",
   "metadata": {},
   "outputs": [],
   "source": [
    "c1 = CategoricalDtype([\"a\", \"b\", \"c\"], ordered = False)\n",
    "\n",
    "# evaluate as equal, since order is not considered when ordered=False\n",
    "c1 == CategoricalDtype([\"b\", \"c\", \"a\"], ordered = False)"
   ]
  },
  {
   "cell_type": "code",
   "execution_count": null,
   "id": "88fe6546",
   "metadata": {},
   "outputs": [],
   "source": [
    "# Evaulate as unequal, since the second CategoricalDtype is ordered\n",
    "c1 == CategoricalDtype([\"a\", \"b\", \"c\"], ordered = True)"
   ]
  },
  {
   "cell_type": "markdown",
   "id": "71d1437f",
   "metadata": {},
   "source": [
    "All instances of `CategoricalDtype` compare equal to the string `'category'`.\n",
    "\n"
   ]
  },
  {
   "cell_type": "code",
   "execution_count": null,
   "id": "36c70611",
   "metadata": {},
   "outputs": [],
   "source": [
    "c1 == 'category'"
   ]
  },
  {
   "cell_type": "markdown",
   "id": "fa1855c0",
   "metadata": {},
   "source": [
    "The function `describe()` can be used to get a summary of your categorical data, producing a nicely formatted table of counts and frequency for each category. "
   ]
  },
  {
   "cell_type": "code",
   "execution_count": null,
   "id": "5c0c0df4",
   "metadata": {
    "scrolled": false
   },
   "outputs": [],
   "source": [
    "cat = pd.Categorical([\"a\", \"c\", \"c\", np.nan], categories=[\"b\", \"a\", \"c\"]) \n",
    "\n",
    "cat.describe() # cateory b is empty, category a appears 1 time, category c twice, and there is one missing value "
   ]
  },
  {
   "cell_type": "code",
   "execution_count": null,
   "id": "f9af71f6",
   "metadata": {},
   "outputs": [],
   "source": [
    "print(type(cat))\n",
    "\n",
    "print(cat.dtype)"
   ]
  },
  {
   "cell_type": "code",
   "execution_count": null,
   "id": "752a467a",
   "metadata": {},
   "outputs": [],
   "source": [
    "print(cat.codes)"
   ]
  },
  {
   "cell_type": "markdown",
   "id": "90218e54",
   "metadata": {},
   "source": [
    "Categorical data has a `categories` and an `ordered` property, which list their possible values and whether the ordering matters or not. These properties are special methods of Series data structures and can be accessed using the `cat` attribute: `series.cat.categories` and `series.cat.ordered`. If you don’t manually specify categories and ordering, they are inferred from the passed arguments. A **pandas Series** are a one-dimensional array and the main data structure in the pandas framework for storing one-dimensional data. We will learn more about Series next week, but the important thing to note for now is that unlike a dataframe, a Series cannot contain multiple columns (i.e., it is 1-dimensional). "
   ]
  },
  {
   "cell_type": "code",
   "execution_count": null,
   "id": "6c6864d9",
   "metadata": {
    "scrolled": true
   },
   "outputs": [],
   "source": [
    "# let's construct a Series from the categorical cat to see these properties \n",
    "\n",
    "scat = pd.Series(cat, dtype = \"category\", copy = True)\n",
    "\n",
    "print(scat.cat.categories)\n",
    "print(scat.cat.ordered)\n",
    "\n",
    "print(scat.dtype)"
   ]
  },
  {
   "cell_type": "markdown",
   "id": "75b90f30",
   "metadata": {},
   "source": [
    "**Note** when constructing a `Series` fom a `Categorical`, the input `Categorical` is not copied. This means that changes to the `Series` will in most cases change the original `Categorical`. To avoid this potential headache, include the `copy = True` argument. "
   ]
  },
  {
   "cell_type": "code",
   "execution_count": null,
   "id": "bd94ebcd",
   "metadata": {
    "scrolled": true
   },
   "outputs": [],
   "source": [
    "scat.cat.codes # missing values always have a code of -1 "
   ]
  },
  {
   "cell_type": "code",
   "execution_count": null,
   "id": "41e7832c",
   "metadata": {},
   "outputs": [],
   "source": [
    "# you can also specify a Series as category dtype using series.astype(\"category\")\n",
    "## the outputs of s are the same as in the cell above, but shown to highlight these are just 2 different ways of doing the same thing\n",
    "\n",
    "scat1 = pd.Series(cat, copy = True)\n",
    "\n",
    "s = scat1.astype(\"category\")\n",
    "\n",
    "print(s.cat.categories)\n",
    "print(s.cat.ordered)\n",
    "print(s.dtype)"
   ]
  },
  {
   "cell_type": "markdown",
   "id": "ad37a986",
   "metadata": {},
   "source": [
    "### 5.1 Working with categories \n",
    "\n",
    "There are a variety of actions you may wish to take when wrangling and manipulating categorical data. Some of these supported by `pandas` are: \n",
    "\n",
    "* `pd.unique()` to see the unique categories \n",
    "* `pd.value_counts()` to see the number of duplicate values per category \n",
    "\n",
    "* `Categorical.rename_categories()` to rename categories\n",
    "    - or with `Series`: `Series.cat.rename_categories()` \n",
    "* `Categorical.add_categories()` to append new categories  \n",
    "    - or with `Series`: `Series.cat.add_categories()`\n",
    "* `Categorical.remove_categories()` to remove specified categories \n",
    "    - or with `Series`: `Series.cat.remove_categories()`\n",
    "* `Categorical.remove_unused_categories()` to remove unused categories (those with no values) \n",
    "    - or with `Series`: `Series.cat.remove_unused_categories()`\n",
    "* `Categorical.set_categories()` to remove and add new categories in 1 step\n",
    "    - or with `Series`: `Series.cat.set_categories()`\n",
    "    \n",
    "* `union_categoricals()` to combine categorical objects that do not necessarily have the same categories. By default, the resulting categories will be ordered as they appear in the data. If you want the categories to be lexically sorted, use `sort_categories=True` argument. This function also works with `Series` containing categorical data, but the resulting array wil always be a plain `Categorical`\n",
    "\n",
    "When working with ordered categories in particular, there are a few specific operations that are likely to be useful: \n",
    "\n",
    "* `Categorical.as_ordered()` to set categorial data to be ordered. This will by default return a new object\n",
    "    - `as_unordered()` to set ordered categorical data to be unordered. This will by default return a new object \n",
    "    - or with `Series`: `Series.cat.as_ordered()` or `Series.cat.as_unordered()`\n",
    "* `Categorical.min()` / `Categorical.max()` to see the first and last category in an ordered categorical, respectively. Raises a `TypeError` if applied to a categorical that is unordered\n",
    "* `Categorical.sort_values()` to sort values in the object\n",
    "* `Categorical.reorder_categories()` to reorder categories. All old categories must be included in the new categories and no new categories are allowed. This will necessarily make the sort order the same as the categories order.\n",
    "    - or with `Series`: `Series.cat.reorder_categories()`\n",
    "  "
   ]
  },
  {
   "cell_type": "code",
   "execution_count": null,
   "id": "825e91ec",
   "metadata": {
    "scrolled": true
   },
   "outputs": [],
   "source": [
    "# first lets create a categorical object of unintentional injury types to work with \n",
    "\n",
    "injury_cat = pd.Categorical([\"Fall\", \"Transport accident\", \"Crushing\", \"Scakld\", \"Accidental exposure\"]*4)\n",
    "\n",
    "print(injury_cat) # we can see that we have 20 observations (length = 20)"
   ]
  },
  {
   "cell_type": "code",
   "execution_count": null,
   "id": "f2f660f0",
   "metadata": {},
   "outputs": [],
   "source": [
    "# to see the categories \n",
    "\n",
    "injury_cat.categories"
   ]
  },
  {
   "cell_type": "code",
   "execution_count": null,
   "id": "087b21b7",
   "metadata": {
    "scrolled": true
   },
   "outputs": [],
   "source": [
    "injury_cat.ordered"
   ]
  },
  {
   "cell_type": "code",
   "execution_count": null,
   "id": "438b897b",
   "metadata": {},
   "outputs": [],
   "source": [
    "injury_cat.describe()"
   ]
  },
  {
   "cell_type": "code",
   "execution_count": null,
   "id": "51284ddf",
   "metadata": {},
   "outputs": [],
   "source": [
    "# to see the unique values in the data \n",
    "\n",
    "pd.unique(injury_cat)"
   ]
  },
  {
   "cell_type": "code",
   "execution_count": null,
   "id": "ca0dbed2",
   "metadata": {
    "scrolled": true
   },
   "outputs": [],
   "source": [
    "# to see the number of duplicate values for each category \n",
    "\n",
    "pd.value_counts(injury_cat)"
   ]
  },
  {
   "cell_type": "markdown",
   "id": "6d6f96a3",
   "metadata": {},
   "source": [
    "In looking through the summaries of our object, it looks like there is a typo or input error in the \"Scald\" category. We can fix this by renaming the category by using `Categorical.rename_categories()`"
   ]
  },
  {
   "cell_type": "code",
   "execution_count": null,
   "id": "7ac2bc1d",
   "metadata": {},
   "outputs": [],
   "source": [
    "injury_cat = injury_cat.rename_categories([\"Fall\", \"Transport accident\", \"Crushing\", \"Scald\", \"Accidental exposure\"])\n",
    "\n",
    "print(injury_cat)"
   ]
  },
  {
   "cell_type": "markdown",
   "id": "a4ee3f22",
   "metadata": {},
   "source": [
    "We can also do this by first making our object a Series:"
   ]
  },
  {
   "cell_type": "code",
   "execution_count": null,
   "id": "10b05b60",
   "metadata": {},
   "outputs": [],
   "source": [
    "injury_s = pd.Series(injury_cat, dtype = \"category\", copy = True)\n",
    "\n",
    "injury_s.describe() # notice that describe() here prints a different sort of output than with injury_cat\n",
    "## this is due to difference in data structure! \n",
    "## injury_cat is a Categorical where as injury_s is a Series data structure with dtype category "
   ]
  },
  {
   "cell_type": "code",
   "execution_count": null,
   "id": "462ba798",
   "metadata": {},
   "outputs": [],
   "source": [
    "injury_s = injury_s.cat.rename_categories([\"Fall\", \"Transport accident\", \"Crushing\", \"Scald\", \"Accidental exposure\"])\n",
    "\n",
    "print(injury_s)"
   ]
  },
  {
   "cell_type": "markdown",
   "id": "497d8db1",
   "metadata": {},
   "source": [
    "In Python, categories do not need to be strings: "
   ]
  },
  {
   "cell_type": "code",
   "execution_count": null,
   "id": "42211252",
   "metadata": {},
   "outputs": [],
   "source": [
    "injury_s1 = injury_s.cat.rename_categories([1, 2, 3, 4, 5])\n",
    "\n",
    "print(injury_s1)"
   ]
  },
  {
   "cell_type": "markdown",
   "id": "54a2f73b",
   "metadata": {},
   "source": [
    "However, categories must be unique or a `ValueError` is raised "
   ]
  },
  {
   "cell_type": "code",
   "execution_count": null,
   "id": "624dd1c5",
   "metadata": {},
   "outputs": [],
   "source": [
    "injury_s.cat.rename_categories([1, 1, 1, 1, 1]) # this will produce an error"
   ]
  },
  {
   "cell_type": "markdown",
   "id": "55b6a3cd",
   "metadata": {},
   "source": [
    "Unlike in R, when renaming categories in Python, they cannot be `NaN` else a `ValueError` is raised. Missing values are not permitted in the Categorical's `categories` (hence not when renaming categories), only in values. "
   ]
  },
  {
   "cell_type": "code",
   "execution_count": null,
   "id": "36fff2ac",
   "metadata": {
    "scrolled": false
   },
   "outputs": [],
   "source": [
    "injury_s.cat.rename_categories([1, 2, 3, 4, np.nan]) # this will produce an error"
   ]
  },
  {
   "cell_type": "markdown",
   "id": "cc87cb83",
   "metadata": {},
   "source": [
    "Above we made `cat` which had an `np.nan` value, but note the object only has 3 categories, though 4 values. "
   ]
  },
  {
   "cell_type": "code",
   "execution_count": null,
   "id": "2af6eb1f",
   "metadata": {
    "scrolled": true
   },
   "outputs": [],
   "source": [
    "print(cat)"
   ]
  },
  {
   "cell_type": "code",
   "execution_count": null,
   "id": "fd32d81d",
   "metadata": {},
   "outputs": [],
   "source": [
    "# append a new category \n",
    "\n",
    "injury_s = injury_s.cat.add_categories([4])\n",
    "\n",
    "print(injury_s)"
   ]
  },
  {
   "cell_type": "code",
   "execution_count": null,
   "id": "e3dc380e",
   "metadata": {
    "scrolled": false
   },
   "outputs": [],
   "source": [
    "pd.value_counts(injury_s)"
   ]
  },
  {
   "cell_type": "markdown",
   "id": "c8824008",
   "metadata": {},
   "source": [
    "As we can see from `value_counts`, category 4 has been added, but it is unused. So let's remove it "
   ]
  },
  {
   "cell_type": "code",
   "execution_count": null,
   "id": "33ebc1aa",
   "metadata": {},
   "outputs": [],
   "source": [
    "injury_srem = injury_s.cat.remove_unused_categories()\n",
    "\n",
    "pd.value_counts(injury_srem)"
   ]
  },
  {
   "cell_type": "markdown",
   "id": "3b4e35fb",
   "metadata": {},
   "source": [
    "You can also remove specified categories, empty or not "
   ]
  },
  {
   "cell_type": "code",
   "execution_count": null,
   "id": "0a178e75",
   "metadata": {},
   "outputs": [],
   "source": [
    "injury_srem1 = injury_s.cat.remove_categories([\"Fall\"])\n",
    "\n",
    "injury_srem1.cat.categories"
   ]
  },
  {
   "cell_type": "markdown",
   "id": "767fa50c",
   "metadata": {},
   "source": [
    "**Note** `Categorical.set_categories()` cannot know whether some category is omitted intentionally or because it is misspelled. This can result in surprising behaviour!"
   ]
  },
  {
   "cell_type": "code",
   "execution_count": null,
   "id": "b5a56338",
   "metadata": {},
   "outputs": [],
   "source": [
    "injury_s.cat.categories # just to remind ourselves of what the current global state of injury_s include "
   ]
  },
  {
   "cell_type": "code",
   "execution_count": null,
   "id": "d77a44c6",
   "metadata": {
    "scrolled": true
   },
   "outputs": [],
   "source": [
    "injury_set = injury_s.cat.set_categories([\"Fall\", \"Transport accident\", \"Crushing\", \"Scald\", \"Accidental exposure\", \"Other\"]) \n",
    "\n",
    "# in 1 go we are removing 4 and adding \"other\"\n",
    "\n",
    "injury_set.cat.categories"
   ]
  },
  {
   "cell_type": "markdown",
   "id": "fa09ccf5",
   "metadata": {},
   "source": [
    "To combine categoricals with the same or different categories, you can use `union_categoricals()` "
   ]
  },
  {
   "cell_type": "code",
   "execution_count": null,
   "id": "81508943",
   "metadata": {},
   "outputs": [],
   "source": [
    "a_cat = pd.Categorical([\"b\", \"c\"])\n",
    "b_cat = pd.Categorical([\"a\", \"b\"])\n",
    "\n",
    "combo_cat = union_categoricals([a_cat, b_cat])\n",
    "\n",
    "combo_cat"
   ]
  },
  {
   "cell_type": "code",
   "execution_count": null,
   "id": "9f8c1560",
   "metadata": {},
   "outputs": [],
   "source": [
    "# to make resulting categories lexically sorted \n",
    "\n",
    "combo_cat1 = union_categoricals([a_cat, b_cat], sort_categories = True)\n",
    "\n",
    "combo_cat1"
   ]
  },
  {
   "cell_type": "markdown",
   "id": "562f1de2",
   "metadata": {},
   "source": [
    "When unionizing or combining ordered categoricals, the categories must be identitical else a TypeError is raised. You can combine ordered categoricals with different categories or orderings using the `ignore_ordered = True` argument"
   ]
  },
  {
   "cell_type": "code",
   "execution_count": null,
   "id": "811c8d9b",
   "metadata": {},
   "outputs": [],
   "source": [
    "c_cat = pd.Categorical([\"a\", \"b\", \"c\"], ordered=True)\n",
    "\n",
    "d_cat = pd.Categorical([\"c\", \"b\", \"d\"], ordered=True)"
   ]
  },
  {
   "cell_type": "code",
   "execution_count": null,
   "id": "7b48366f",
   "metadata": {},
   "outputs": [],
   "source": [
    "union_categoricals([c_cat, d_cat], ignore_order=True)"
   ]
  },
  {
   "cell_type": "code",
   "execution_count": null,
   "id": "7741b251",
   "metadata": {},
   "outputs": [],
   "source": [
    "union_categoricals([c_cat, d_cat]) # produces an error "
   ]
  },
  {
   "cell_type": "markdown",
   "id": "c33179d1",
   "metadata": {},
   "source": [
    "### 5.2 Ordinal categorical data "
   ]
  },
  {
   "cell_type": "markdown",
   "id": "7f2ce170",
   "metadata": {},
   "source": [
    "As mentioned above, when creating categorical data or a Series you can specify if it is ordinal using `ordered = True`. However, sometimes you have read in data and want to set the categorical data to be ordered. Let's use `injury_cat` again"
   ]
  },
  {
   "cell_type": "code",
   "execution_count": null,
   "id": "99350e45",
   "metadata": {
    "scrolled": true
   },
   "outputs": [],
   "source": [
    "print(injury_cat)"
   ]
  },
  {
   "cell_type": "code",
   "execution_count": null,
   "id": "2cefce29",
   "metadata": {},
   "outputs": [],
   "source": [
    "# confirm it is currently not ordered \n",
    "\n",
    "print(injury_cat.ordered) "
   ]
  },
  {
   "cell_type": "code",
   "execution_count": null,
   "id": "38ab38da",
   "metadata": {},
   "outputs": [],
   "source": [
    "injury_catorder = injury_cat.as_ordered()\n",
    "\n",
    "print(injury_catorder)\n",
    "# notice the order is as they were originally input, not in alphabetical order by default "
   ]
  },
  {
   "cell_type": "code",
   "execution_count": null,
   "id": "051ab4dc",
   "metadata": {},
   "outputs": [],
   "source": [
    "print(injury_catorder.ordered)"
   ]
  },
  {
   "cell_type": "code",
   "execution_count": null,
   "id": "2b57ccd4",
   "metadata": {
    "scrolled": true
   },
   "outputs": [],
   "source": [
    "# to see the categories \n",
    "\n",
    "injury_catorder.categories"
   ]
  },
  {
   "cell_type": "code",
   "execution_count": null,
   "id": "38bf5978",
   "metadata": {},
   "outputs": [],
   "source": [
    "# to see the first and last category in an ordered categorical\n",
    "\n",
    "injury_catorder.min(), injury_catorder.max()"
   ]
  },
  {
   "cell_type": "code",
   "execution_count": null,
   "id": "ab9aac48",
   "metadata": {},
   "outputs": [],
   "source": [
    "# to unorder your object \n",
    "\n",
    "injury_catorder.as_unordered()"
   ]
  },
  {
   "cell_type": "markdown",
   "id": "03c0e523",
   "metadata": {},
   "source": [
    "You can sort the values in your categorial according to the order they appear as well. For this, let's use `injury_set`"
   ]
  },
  {
   "cell_type": "code",
   "execution_count": null,
   "id": "d9097c86",
   "metadata": {},
   "outputs": [],
   "source": [
    "# to remind us of how it looks now \n",
    "\n",
    "print(injury_set)"
   ]
  },
  {
   "cell_type": "code",
   "execution_count": null,
   "id": "3c30e06f",
   "metadata": {},
   "outputs": [],
   "source": [
    "# be default, values are sorted in the order that they first appear \n",
    "injury_set.sort_values()"
   ]
  },
  {
   "cell_type": "code",
   "execution_count": null,
   "id": "73a95c97",
   "metadata": {},
   "outputs": [],
   "source": [
    "# reordering \n",
    "injury_set_reorder = injury_set.cat.reorder_categories(['Scald', 'Transport accident', 'Crushing', 'Accidental exposure', 'Fall', 'Other'], ordered = True)\n",
    "\n",
    "print(injury_set_reorder)"
   ]
  },
  {
   "cell_type": "code",
   "execution_count": null,
   "id": "a3b6fc42",
   "metadata": {},
   "outputs": [],
   "source": [
    "# and to sort the values according to the reordering \n",
    "\n",
    "injury_set_reorder.sort_values()"
   ]
  },
  {
   "cell_type": "markdown",
   "id": "d0bf88e6",
   "metadata": {},
   "source": [
    "## 6. Date and time \n",
    "\n",
    "To work with date and time data, we need the `datetime` module. This was loaded at the top of the notebook as `dt`. We will also be using [`strftime`](https://strftime.org/) to help us navigate date and time objects. \n",
    "\n",
    "As discussed in the week 2 content around date and time data, these data can be very complicated. To help avoid communication mistakes, the International Organization for Standardization (ISO) developed ISO 8601. This standard specifies that all dates should be written in order of most-to-least-significant data. This means the format is year, month, day, hour, minute, and second: `YYYY-MM-DD HH:MM:SS`. We can use ISO 8601 format with Python using `datetime`.\n",
    "\n",
    "To create a `datetime` instance there are multiple methods: \n",
    "\n",
    "* `dt.date(year, month, day)`, `dt.time(hour, minute, second)`, or `dt.datetime(year, month, day, hour, minute, second)` though all arguments must be specified and each require integers as input\n",
    "* `dt.fromisoformat()` to create an ISO 8601 format date or datetime object. To use this method, you must provide a string as input \n",
    "\n",
    "When you do not know in advance what information will be your input, the following alternative initializers are helpful: \n",
    "* `date.today()` creates a `datetime.date` instance with the current local date\n",
    "* `datetime.now()` creates a `datetime.datetime` instance with the current local date and time\n",
    "* `datetime.combine()` combines instances of `datetime.date` and `datetime.time` into a single `datetime.datetime` instance\n",
    "\n"
   ]
  },
  {
   "cell_type": "code",
   "execution_count": null,
   "id": "96d7080e",
   "metadata": {},
   "outputs": [],
   "source": [
    "date0 = dt.date(year = 2024, month = 6, day = 1) # remove day and see what happens \n",
    "\n",
    "print(date0, type(date0))"
   ]
  },
  {
   "cell_type": "code",
   "execution_count": null,
   "id": "59f48c45",
   "metadata": {},
   "outputs": [],
   "source": [
    "time0 = dt.time(hour = 15, minute = 30, second = 43)\n",
    "\n",
    "print(time0, type(time0))"
   ]
  },
  {
   "cell_type": "code",
   "execution_count": null,
   "id": "7b44fe6c",
   "metadata": {},
   "outputs": [],
   "source": [
    "datetime0 = dt.datetime(year = 2024, month = 6, day = 1, hour = 15, minute = 30, second = 43)\n",
    "\n",
    "print(datetime0, type(datetime0))"
   ]
  },
  {
   "cell_type": "code",
   "execution_count": null,
   "id": "c0e84235",
   "metadata": {},
   "outputs": [],
   "source": [
    "# you can get the current or now time \n",
    "\n",
    "now = dt.datetime.now()\n",
    "\n",
    "print(now, type(now))"
   ]
  },
  {
   "cell_type": "code",
   "execution_count": null,
   "id": "62022ce1",
   "metadata": {},
   "outputs": [],
   "source": [
    "# you can get the current or now date\n",
    "\n",
    "today = dt.date.today()\n",
    "\n",
    "print(today, type(today))"
   ]
  },
  {
   "cell_type": "code",
   "execution_count": null,
   "id": "53d0e43e",
   "metadata": {},
   "outputs": [],
   "source": [
    "# using strftime() to get useing bits of information from datetime objects\n",
    "\n",
    "now.strftime(\"%d\") ## try out some other options! (see the link at the top of this section)"
   ]
  },
  {
   "cell_type": "code",
   "execution_count": null,
   "id": "1b86ed93",
   "metadata": {
    "scrolled": true
   },
   "outputs": [],
   "source": [
    "# is our datetime object naive or aware?\n",
    "## we can determine this by looking at the timezone information \n",
    "\n",
    "print(now.tzinfo())"
   ]
  },
  {
   "cell_type": "markdown",
   "id": "7b2f5187",
   "metadata": {},
   "source": [
    "The object `now` is naive as `datetimeobject.tzinfo` is `None` "
   ]
  },
  {
   "cell_type": "code",
   "execution_count": null,
   "id": "5fa9f34a",
   "metadata": {},
   "outputs": [],
   "source": [
    "current_time = dt.time(now.hour, now.minute, now.second)\n",
    "\n",
    "print(dt.datetime.combine(today, current_time))"
   ]
  },
  {
   "cell_type": "code",
   "execution_count": null,
   "id": "1e080e30",
   "metadata": {
    "scrolled": true
   },
   "outputs": [],
   "source": [
    "dt.date.fromisoformat(\"2023-06-01\")"
   ]
  },
  {
   "cell_type": "markdown",
   "id": "01f7967c",
   "metadata": {},
   "source": [
    "If your date is not already in ISO format, we can use `strftime` code to create an object outline the format and then pass this object along with the date object to `dt.datetime.strptime()`"
   ]
  },
  {
   "cell_type": "code",
   "execution_count": null,
   "id": "94f6909b",
   "metadata": {},
   "outputs": [],
   "source": [
    "date_string = \"01-31-2024 14:45:27\"\n",
    "format_string = \"%m-%d-%Y %H:%M:%S\""
   ]
  },
  {
   "cell_type": "code",
   "execution_count": null,
   "id": "075db25a",
   "metadata": {},
   "outputs": [],
   "source": [
    "ISOnow = dt.datetime.strptime(date_string, format_string)\n",
    "\n",
    "print(ISOnow, type(ISOnow))"
   ]
  },
  {
   "cell_type": "markdown",
   "id": "61264bac",
   "metadata": {},
   "source": [
    "### 6.1 Working with timezones \n",
    "\n",
    "\n",
    "The Python `datetime.tzinfo` documentation recommends using a third-party package called `dateutil` to manage timezones. At the top of the document we imported `tz` from `dateutil`. \n",
    "\n",
    "* `tz.tzname()` to print the name of the timezone \n",
    "* `tz.tzlocal()` to get a concrete instance of `datetime.tzinfo` using your system's local time \n",
    "* `tz.gettz()` to create time zones not reported by your system. You muss pass the official [IANA name](https://en.wikipedia.org/wiki/List_of_tz_database_time_zones) for the input time zone of interest. **Note** this is the reccomended method when using Noteable to ensure your local timezone is used"
   ]
  },
  {
   "cell_type": "code",
   "execution_count": null,
   "id": "39917aa2",
   "metadata": {
    "scrolled": true
   },
   "outputs": [],
   "source": [
    "now1 = dt.datetime.now(tz = tz.tzlocal())\n",
    "\n",
    "print(now1)\n",
    "print(now1.tzname())"
   ]
  },
  {
   "cell_type": "code",
   "execution_count": null,
   "id": "9a207959",
   "metadata": {},
   "outputs": [],
   "source": [
    "Edinburgh_tz = tz.gettz(\"Europe/London\")\n",
    "\n",
    "now2 = dt.datetime.now(tz = Edinburgh_tz)\n",
    "\n",
    "print(now2)\n",
    "print(now2.tzname())"
   ]
  },
  {
   "cell_type": "markdown",
   "id": "50513259",
   "metadata": {},
   "source": [
    "### 6.2 Arithmetic with `datetime` objects\n",
    "\n",
    "Python `datetime` instances support several types of arithmetic, which use `dt.timedelta` instances to represent time intervals. `timedelta` instances support addition and subtraction as well as positive and negative integers for all arguments. You can even provide a mix of positive and negative arguments."
   ]
  },
  {
   "cell_type": "code",
   "execution_count": null,
   "id": "78b2b51e",
   "metadata": {},
   "outputs": [],
   "source": [
    "# lets reuse now2 from above where we made an object with the current datetime info using BST timezone \n",
    "\n",
    "tomorrow = dt.timedelta(days =+ 1)\n",
    "\n",
    "now2 + tomorrow"
   ]
  },
  {
   "cell_type": "markdown",
   "id": "7d728dad",
   "metadata": {},
   "source": [
    "You can also use negative values as input arguments in `timedelta`"
   ]
  },
  {
   "cell_type": "code",
   "execution_count": null,
   "id": "b5df28ac",
   "metadata": {},
   "outputs": [],
   "source": [
    "yesterday = dt.timedelta(days =- 1)\n",
    "\n",
    "now2 + yesterday"
   ]
  },
  {
   "cell_type": "code",
   "execution_count": null,
   "id": "3de7917c",
   "metadata": {},
   "outputs": [],
   "source": [
    "# what if we wanted to add 4 days and subtract 5 hours from now \n",
    "\n",
    "delta = dt.timedelta(days =+ 4, hours =- 5)\n",
    "\n",
    "now2 + delta"
   ]
  },
  {
   "cell_type": "markdown",
   "id": "805eaf74",
   "metadata": {},
   "source": [
    "The above approach is limited, however, because it cannot add or subtract intervals larger than a day, such as a month or a year. This is where `relativedelta` comes to save the day (or month, or year)!"
   ]
  },
  {
   "cell_type": "code",
   "execution_count": null,
   "id": "0109d598",
   "metadata": {
    "scrolled": true
   },
   "outputs": [],
   "source": [
    "delta2 = relativedelta.relativedelta(years =+ 4, months =+ 1)\n",
    "\n",
    "now + delta2"
   ]
  },
  {
   "cell_type": "markdown",
   "id": "c6970440",
   "metadata": {},
   "source": [
    "You can also use `relativedelta` to calculate the difference between 2 `datetime` instances instead of subtraction operator. "
   ]
  },
  {
   "cell_type": "code",
   "execution_count": null,
   "id": "3829d5e5",
   "metadata": {
    "scrolled": false
   },
   "outputs": [],
   "source": [
    "print(now2) # to remind ourselves \n",
    "print(now2.tzname())"
   ]
  },
  {
   "cell_type": "code",
   "execution_count": null,
   "id": "3afaf542",
   "metadata": {},
   "outputs": [],
   "source": [
    "summer_solstice = dt.datetime(year = 2024, month = 6, day = 20, hour = 21, minute = 50)\n",
    "\n",
    "print(summer_solstice)"
   ]
  },
  {
   "cell_type": "code",
   "execution_count": null,
   "id": "8e778788",
   "metadata": {},
   "outputs": [],
   "source": [
    "relativedelta.relativedelta(now2, summer_solstice)"
   ]
  },
  {
   "cell_type": "markdown",
   "id": "834960d5",
   "metadata": {},
   "source": [
    "The above produces an error... but why? If you read the `TypeError` closely you will get a good hint.\n",
    "\n",
    "---\n",
    "\n",
    "\n",
    "The answer lies in the naive and aware status of `datetime` objects! We cannot compare a naive and aware `datetime` object, and `now2` is aware! `now` is naive, so we will use that."
   ]
  },
  {
   "cell_type": "code",
   "execution_count": null,
   "id": "8e5e5b1c",
   "metadata": {
    "scrolled": true
   },
   "outputs": [],
   "source": [
    "time_till_solstice0 = relativedelta.relativedelta(summer_solstice, now)\n",
    "\n",
    "\n",
    "print(time_till_solstice0, type(time_till_solstice0))"
   ]
  },
  {
   "cell_type": "code",
   "execution_count": null,
   "id": "1209f8e3",
   "metadata": {},
   "outputs": [],
   "source": [
    "## or using subtraction operator with naive objects \n",
    "\n",
    "time_till_solstice1 = summer_solstice - now\n",
    "\n",
    "print(time_till_solstice1, type(time_till_solstice1))"
   ]
  },
  {
   "cell_type": "markdown",
   "id": "12b95ad9",
   "metadata": {},
   "source": [
    "### 6.2.1 Solutions with 2 aware objects \n",
    "\n",
    "To make summer solstice aware we can use `datetimeobject.replace(tzinfo = timezone)`"
   ]
  },
  {
   "cell_type": "code",
   "execution_count": null,
   "id": "66ffebd5",
   "metadata": {},
   "outputs": [],
   "source": [
    "summer_solstice_aware = summer_solstice.replace(tzinfo = Edinburgh_tz)\n",
    "\n",
    "print(summer_solstice_aware.tzname())"
   ]
  },
  {
   "cell_type": "code",
   "execution_count": null,
   "id": "0c25feca",
   "metadata": {},
   "outputs": [],
   "source": [
    "## solution using aware objects and relativedelta \n",
    "\n",
    "time_till_solstice2 = relativedelta.relativedelta(summer_solstice_aware, now2)\n",
    "\n",
    "\n",
    "print(time_till_solstice2, type(time_till_solstice2))"
   ]
  },
  {
   "cell_type": "code",
   "execution_count": null,
   "id": "a5785cfd",
   "metadata": {},
   "outputs": [],
   "source": [
    "## solution using substraction operator with aware objects \n",
    "time_till_solstice3 = summer_solstice_aware - now2\n",
    "\n",
    "print(time_till_solstice3, type(time_till_solstice3))"
   ]
  },
  {
   "cell_type": "markdown",
   "id": "bf3f9607",
   "metadata": {},
   "source": [
    "## 7. Missing data "
   ]
  },
  {
   "cell_type": "markdown",
   "id": "94c6910d",
   "metadata": {},
   "source": [
    "`None` is its own datatype in Python, whereas `np.nan` is a special floating-point value representing missing data. "
   ]
  },
  {
   "cell_type": "code",
   "execution_count": null,
   "id": "2fda470d",
   "metadata": {},
   "outputs": [],
   "source": [
    "type(None)"
   ]
  },
  {
   "cell_type": "code",
   "execution_count": null,
   "id": "0c517097",
   "metadata": {},
   "outputs": [],
   "source": [
    "type(np.nan)"
   ]
  },
  {
   "cell_type": "markdown",
   "id": "53913d5f",
   "metadata": {},
   "source": [
    "`pandas` methods (on Series and DataFrame objects) for working with missing data all work with `pandas` Category data type. These methods include \n",
    "\n",
    "* `pdobj.isna()` or `pdobj.isnull()` used to detect missing values in an array-like object, produces a boolean array output \n",
    "* `pdobj.notna()` or `pdibj.notnull()` used to detect non-missing values in an array-like object, produces a boolean array output \n",
    "* `pdobject.fillna()` used to replace missing values with a specified value. A copy of the data object is returned with missing vales filled or imputed. There is a `pd.dataframe.fillna()` method we will be exploring further next week\n",
    "    - argument `method = ffill` will forward-fill to propogate the previous value forward\n",
    "    - argument `method = bfill` will back-fill to propogate the next values backward\n",
    "* `Categorical.dropna()` to return a filtered version of the Categorical object. As above, there is a `pd.dataframe.dropna()` method we will be exploring further next week \n",
    "\n",
    "\n",
    "When working with Categorical's `codes`, missing values will always have a code of `-1`. "
   ]
  },
  {
   "cell_type": "code",
   "execution_count": null,
   "id": "733c5fc0",
   "metadata": {},
   "outputs": [],
   "source": [
    "print(cat) # remind ourselves of the categorical object we made above with a missing value"
   ]
  },
  {
   "cell_type": "code",
   "execution_count": null,
   "id": "d1d68e97",
   "metadata": {
    "scrolled": true
   },
   "outputs": [],
   "source": [
    "cat.isna()"
   ]
  },
  {
   "cell_type": "code",
   "execution_count": null,
   "id": "339a033e",
   "metadata": {},
   "outputs": [],
   "source": [
    "cat.notna()"
   ]
  },
  {
   "cell_type": "code",
   "execution_count": null,
   "id": "e386decf",
   "metadata": {},
   "outputs": [],
   "source": [
    "cat.fillna(\"c\")"
   ]
  },
  {
   "cell_type": "markdown",
   "id": "2d3cd7dc",
   "metadata": {},
   "source": [
    "**Note** when using `.fillna()` with Categorical data types, you must use a category existing witin the object, you cannot specify a new category"
   ]
  },
  {
   "cell_type": "code",
   "execution_count": null,
   "id": "05109b75",
   "metadata": {},
   "outputs": [],
   "source": [
    "cat.fillna(\"missing\") # this produces as error"
   ]
  },
  {
   "cell_type": "code",
   "execution_count": null,
   "id": "fc199070",
   "metadata": {},
   "outputs": [],
   "source": [
    "cat.dropna()"
   ]
  },
  {
   "cell_type": "code",
   "execution_count": null,
   "id": "295bfb9f",
   "metadata": {},
   "outputs": [],
   "source": [
    "## detecting null values in a non-categorical type Series \n",
    "\n",
    "datamix = pd.Series([1, np.nan, 'hello', 56.8, None]*2)"
   ]
  },
  {
   "cell_type": "code",
   "execution_count": null,
   "id": "ee97f3b4",
   "metadata": {},
   "outputs": [],
   "source": [
    "print(datamix, type(datamix))"
   ]
  },
  {
   "cell_type": "code",
   "execution_count": null,
   "id": "40319c91",
   "metadata": {},
   "outputs": [],
   "source": [
    "datamix.isna()"
   ]
  },
  {
   "cell_type": "code",
   "execution_count": null,
   "id": "399ae7ee",
   "metadata": {
    "scrolled": true
   },
   "outputs": [],
   "source": [
    "datamix.notna()"
   ]
  },
  {
   "cell_type": "code",
   "execution_count": null,
   "id": "d27b8367",
   "metadata": {
    "scrolled": true
   },
   "outputs": [],
   "source": [
    "# to get a subset of the data that is not null specifically \n",
    "\n",
    "datamix[datamix.notnull()]"
   ]
  },
  {
   "cell_type": "code",
   "execution_count": null,
   "id": "2c7ecead",
   "metadata": {},
   "outputs": [],
   "source": [
    "datamix.dropna()"
   ]
  },
  {
   "cell_type": "code",
   "execution_count": null,
   "id": "87bdb806",
   "metadata": {},
   "outputs": [],
   "source": [
    "# to replace all missing data with 0 \n",
    "\n",
    "datamix.fillna(0)"
   ]
  },
  {
   "cell_type": "code",
   "execution_count": null,
   "id": "0acf9418",
   "metadata": {
    "scrolled": true
   },
   "outputs": [],
   "source": [
    "# forward-fill \n",
    "\n",
    "datamix.fillna(method = \"ffill\")"
   ]
  },
  {
   "cell_type": "code",
   "execution_count": null,
   "id": "a491e9ed",
   "metadata": {
    "scrolled": true
   },
   "outputs": [],
   "source": [
    "# back-fill \n",
    "\n",
    "datamix.fillna(method = \"bfill\")"
   ]
  },
  {
   "cell_type": "markdown",
   "id": "50eee89c",
   "metadata": {},
   "source": [
    "That's all for now around missing data - we will return to this topic next week in greater detail with different data structures. "
   ]
  },
  {
   "cell_type": "markdown",
   "id": "a661db43",
   "metadata": {},
   "source": [
    "---\n",
    "\n",
    "## 8. You did it! 🎉 \n",
    "\n",
    "Well done for making it to the end of this notebook. If you have not done so yet, move to the RMarkdown data types notebook next. "
   ]
  },
  {
   "cell_type": "markdown",
   "id": "6631e216",
   "metadata": {},
   "source": [
    "---\n",
    "*Dr. Brittany Blankinship (2024)*"
   ]
  }
 ],
 "metadata": {
  "kernelspec": {
   "display_name": "Python 3 (ipykernel)",
   "language": "python",
   "name": "python3"
  },
  "language_info": {
   "codemirror_mode": {
    "name": "ipython",
    "version": 3
   },
   "file_extension": ".py",
   "mimetype": "text/x-python",
   "name": "python",
   "nbconvert_exporter": "python",
   "pygments_lexer": "ipython3",
   "version": "3.9.13"
  }
 },
 "nbformat": 4,
 "nbformat_minor": 5
}
