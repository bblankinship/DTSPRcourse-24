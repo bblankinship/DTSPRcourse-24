{
 "cells": [
  {
   "cell_type": "markdown",
   "id": "4df1a718",
   "metadata": {},
   "source": [
    "let's look at some pivoting errors!"
   ]
  },
  {
   "cell_type": "markdown",
   "id": "2b037db8",
   "metadata": {},
   "source": [
    "Let's say I have data: "
   ]
  },
  {
   "cell_type": "code",
   "execution_count": 1,
   "id": "84d3b252",
   "metadata": {},
   "outputs": [],
   "source": [
    "import pandas as pd\n",
    "\n",
    "data = pd.read_csv(\"./data_long.csv\")"
   ]
  },
  {
   "cell_type": "code",
   "execution_count": 2,
   "id": "edff1f42",
   "metadata": {},
   "outputs": [
    {
     "data": {
      "text/html": [
       "<div>\n",
       "<style scoped>\n",
       "    .dataframe tbody tr th:only-of-type {\n",
       "        vertical-align: middle;\n",
       "    }\n",
       "\n",
       "    .dataframe tbody tr th {\n",
       "        vertical-align: top;\n",
       "    }\n",
       "\n",
       "    .dataframe thead th {\n",
       "        text-align: right;\n",
       "    }\n",
       "</style>\n",
       "<table border=\"1\" class=\"dataframe\">\n",
       "  <thead>\n",
       "    <tr style=\"text-align: right;\">\n",
       "      <th></th>\n",
       "      <th>id</th>\n",
       "      <th>age</th>\n",
       "      <th>sex</th>\n",
       "      <th>Question</th>\n",
       "      <th>Answer</th>\n",
       "    </tr>\n",
       "  </thead>\n",
       "  <tbody>\n",
       "    <tr>\n",
       "      <th>0</th>\n",
       "      <td>1</td>\n",
       "      <td>31</td>\n",
       "      <td>M</td>\n",
       "      <td>Q_1</td>\n",
       "      <td>1</td>\n",
       "    </tr>\n",
       "    <tr>\n",
       "      <th>1</th>\n",
       "      <td>1</td>\n",
       "      <td>31</td>\n",
       "      <td>M</td>\n",
       "      <td>Q_2</td>\n",
       "      <td>12</td>\n",
       "    </tr>\n",
       "    <tr>\n",
       "      <th>2</th>\n",
       "      <td>1</td>\n",
       "      <td>31</td>\n",
       "      <td>M</td>\n",
       "      <td>Q_3</td>\n",
       "      <td>1</td>\n",
       "    </tr>\n",
       "    <tr>\n",
       "      <th>3</th>\n",
       "      <td>1</td>\n",
       "      <td>31</td>\n",
       "      <td>M</td>\n",
       "      <td>Q_4</td>\n",
       "      <td>9</td>\n",
       "    </tr>\n",
       "    <tr>\n",
       "      <th>4</th>\n",
       "      <td>1</td>\n",
       "      <td>31</td>\n",
       "      <td>M</td>\n",
       "      <td>Q_5</td>\n",
       "      <td>12</td>\n",
       "    </tr>\n",
       "    <tr>\n",
       "      <th>5</th>\n",
       "      <td>2</td>\n",
       "      <td>45</td>\n",
       "      <td>M</td>\n",
       "      <td>Q_1</td>\n",
       "      <td>4</td>\n",
       "    </tr>\n",
       "    <tr>\n",
       "      <th>6</th>\n",
       "      <td>2</td>\n",
       "      <td>45</td>\n",
       "      <td>M</td>\n",
       "      <td>Q_2</td>\n",
       "      <td>7</td>\n",
       "    </tr>\n",
       "    <tr>\n",
       "      <th>7</th>\n",
       "      <td>2</td>\n",
       "      <td>45</td>\n",
       "      <td>M</td>\n",
       "      <td>Q_3</td>\n",
       "      <td>5</td>\n",
       "    </tr>\n",
       "    <tr>\n",
       "      <th>8</th>\n",
       "      <td>2</td>\n",
       "      <td>45</td>\n",
       "      <td>M</td>\n",
       "      <td>Q_4</td>\n",
       "      <td>9</td>\n",
       "    </tr>\n",
       "    <tr>\n",
       "      <th>9</th>\n",
       "      <td>2</td>\n",
       "      <td>45</td>\n",
       "      <td>M</td>\n",
       "      <td>Q_5</td>\n",
       "      <td>12</td>\n",
       "    </tr>\n",
       "    <tr>\n",
       "      <th>10</th>\n",
       "      <td>3</td>\n",
       "      <td>65</td>\n",
       "      <td>M</td>\n",
       "      <td>Q_1</td>\n",
       "      <td>2</td>\n",
       "    </tr>\n",
       "    <tr>\n",
       "      <th>11</th>\n",
       "      <td>3</td>\n",
       "      <td>65</td>\n",
       "      <td>M</td>\n",
       "      <td>Q_2</td>\n",
       "      <td>1</td>\n",
       "    </tr>\n",
       "    <tr>\n",
       "      <th>12</th>\n",
       "      <td>3</td>\n",
       "      <td>65</td>\n",
       "      <td>M</td>\n",
       "      <td>Q_3</td>\n",
       "      <td>3</td>\n",
       "    </tr>\n",
       "    <tr>\n",
       "      <th>13</th>\n",
       "      <td>3</td>\n",
       "      <td>65</td>\n",
       "      <td>M</td>\n",
       "      <td>Q_4</td>\n",
       "      <td>8</td>\n",
       "    </tr>\n",
       "    <tr>\n",
       "      <th>14</th>\n",
       "      <td>3</td>\n",
       "      <td>65</td>\n",
       "      <td>M</td>\n",
       "      <td>Q_5</td>\n",
       "      <td>11</td>\n",
       "    </tr>\n",
       "    <tr>\n",
       "      <th>15</th>\n",
       "      <td>4</td>\n",
       "      <td>63</td>\n",
       "      <td>F</td>\n",
       "      <td>Q_1</td>\n",
       "      <td>9</td>\n",
       "    </tr>\n",
       "    <tr>\n",
       "      <th>16</th>\n",
       "      <td>4</td>\n",
       "      <td>63</td>\n",
       "      <td>F</td>\n",
       "      <td>Q_2</td>\n",
       "      <td>1</td>\n",
       "    </tr>\n",
       "    <tr>\n",
       "      <th>17</th>\n",
       "      <td>4</td>\n",
       "      <td>63</td>\n",
       "      <td>F</td>\n",
       "      <td>Q_3</td>\n",
       "      <td>4</td>\n",
       "    </tr>\n",
       "    <tr>\n",
       "      <th>18</th>\n",
       "      <td>4</td>\n",
       "      <td>63</td>\n",
       "      <td>F</td>\n",
       "      <td>Q_4</td>\n",
       "      <td>5</td>\n",
       "    </tr>\n",
       "    <tr>\n",
       "      <th>19</th>\n",
       "      <td>4</td>\n",
       "      <td>63</td>\n",
       "      <td>F</td>\n",
       "      <td>Q_5</td>\n",
       "      <td>8</td>\n",
       "    </tr>\n",
       "  </tbody>\n",
       "</table>\n",
       "</div>"
      ],
      "text/plain": [
       "    id  age sex Question  Answer\n",
       "0    1   31   M      Q_1       1\n",
       "1    1   31   M      Q_2      12\n",
       "2    1   31   M      Q_3       1\n",
       "3    1   31   M      Q_4       9\n",
       "4    1   31   M      Q_5      12\n",
       "5    2   45   M      Q_1       4\n",
       "6    2   45   M      Q_2       7\n",
       "7    2   45   M      Q_3       5\n",
       "8    2   45   M      Q_4       9\n",
       "9    2   45   M      Q_5      12\n",
       "10   3   65   M      Q_1       2\n",
       "11   3   65   M      Q_2       1\n",
       "12   3   65   M      Q_3       3\n",
       "13   3   65   M      Q_4       8\n",
       "14   3   65   M      Q_5      11\n",
       "15   4   63   F      Q_1       9\n",
       "16   4   63   F      Q_2       1\n",
       "17   4   63   F      Q_3       4\n",
       "18   4   63   F      Q_4       5\n",
       "19   4   63   F      Q_5       8"
      ]
     },
     "execution_count": 2,
     "metadata": {},
     "output_type": "execute_result"
    }
   ],
   "source": [
    "data.head(20)"
   ]
  },
  {
   "cell_type": "code",
   "execution_count": 3,
   "id": "81fa5bfe",
   "metadata": {},
   "outputs": [
    {
     "name": "stdout",
     "output_type": "stream",
     "text": [
      "               id         age      Answer\n",
      "count  100.000000  100.000000  100.000000\n",
      "mean    10.500000   47.200000    6.130000\n",
      "std      5.795331   14.219065    3.656059\n",
      "min      1.000000   20.000000    1.000000\n",
      "25%      5.750000   35.750000    3.000000\n",
      "50%     10.500000   47.000000    5.500000\n",
      "75%     15.250000   55.250000    9.000000\n",
      "max     20.000000   77.000000   15.000000\n"
     ]
    }
   ],
   "source": [
    "print(data.describe())"
   ]
  },
  {
   "cell_type": "code",
   "execution_count": 4,
   "id": "2c060e92",
   "metadata": {},
   "outputs": [
    {
     "name": "stdout",
     "output_type": "stream",
     "text": [
      "<class 'pandas.core.frame.DataFrame'>\n",
      "RangeIndex: 100 entries, 0 to 99\n",
      "Data columns (total 5 columns):\n",
      " #   Column    Non-Null Count  Dtype \n",
      "---  ------    --------------  ----- \n",
      " 0   id        100 non-null    int64 \n",
      " 1   age       100 non-null    int64 \n",
      " 2   sex       100 non-null    object\n",
      " 3   Question  100 non-null    object\n",
      " 4   Answer    100 non-null    int64 \n",
      "dtypes: int64(3), object(2)\n",
      "memory usage: 4.0+ KB\n",
      "None\n"
     ]
    }
   ],
   "source": [
    "print(data.info())"
   ]
  },
  {
   "cell_type": "markdown",
   "id": "03293b04",
   "metadata": {},
   "source": [
    "Let's just make sure everything is as expected - so let's create some categories"
   ]
  },
  {
   "cell_type": "code",
   "execution_count": 5,
   "id": "ab70d1fe",
   "metadata": {},
   "outputs": [],
   "source": [
    "data.id = data.id.astype('category')\n",
    "data.sex = data.sex.astype('category')"
   ]
  },
  {
   "cell_type": "markdown",
   "id": "5047c05b",
   "metadata": {},
   "source": [
    "Check again"
   ]
  },
  {
   "cell_type": "code",
   "execution_count": 6,
   "id": "12149ce1",
   "metadata": {},
   "outputs": [
    {
     "name": "stdout",
     "output_type": "stream",
     "text": [
      "<class 'pandas.core.frame.DataFrame'>\n",
      "RangeIndex: 100 entries, 0 to 99\n",
      "Data columns (total 5 columns):\n",
      " #   Column    Non-Null Count  Dtype   \n",
      "---  ------    --------------  -----   \n",
      " 0   id        100 non-null    category\n",
      " 1   age       100 non-null    int64   \n",
      " 2   sex       100 non-null    category\n",
      " 3   Question  100 non-null    object  \n",
      " 4   Answer    100 non-null    int64   \n",
      "dtypes: category(2), int64(2), object(1)\n",
      "memory usage: 3.5+ KB\n",
      "None\n"
     ]
    }
   ],
   "source": [
    "print(data.info())"
   ]
  },
  {
   "cell_type": "code",
   "execution_count": 7,
   "id": "b7abbedc",
   "metadata": {},
   "outputs": [
    {
     "data": {
      "text/plain": [
       "0      1\n",
       "1      1\n",
       "2      1\n",
       "3      1\n",
       "4      1\n",
       "      ..\n",
       "95    20\n",
       "96    20\n",
       "97    20\n",
       "98    20\n",
       "99    20\n",
       "Name: id, Length: 100, dtype: category\n",
       "Categories (20, int64): [1, 2, 3, 4, ..., 17, 18, 19, 20]"
      ]
     },
     "execution_count": 7,
     "metadata": {},
     "output_type": "execute_result"
    }
   ],
   "source": [
    "data.id"
   ]
  },
  {
   "cell_type": "markdown",
   "id": "2254fef4",
   "metadata": {},
   "source": [
    "Now let's pivot wider"
   ]
  },
  {
   "cell_type": "code",
   "execution_count": 8,
   "id": "300e97e7",
   "metadata": {},
   "outputs": [],
   "source": [
    "data_wide = data.pivot(index = [\"id\", \"age\", \"sex\"], columns = \"Question\", values = \"Answer\")"
   ]
  },
  {
   "cell_type": "markdown",
   "id": "4a502f4f",
   "metadata": {},
   "source": [
    "Let's see if it worked!"
   ]
  },
  {
   "cell_type": "code",
   "execution_count": 9,
   "id": "50125376",
   "metadata": {},
   "outputs": [
    {
     "name": "stdout",
     "output_type": "stream",
     "text": [
      "Question    Q_1  Q_2  Q_3  Q_4  Q_5\n",
      "id age sex                         \n",
      "1  31  M      1   12    1    9   12\n",
      "2  45  M      4    7    5    9   12\n",
      "3  65  M      2    1    3    8   11\n",
      "4  63  F      9    1    4    5    8\n",
      "5  36  F      8   10    4    5    6\n",
      "6  36  F      6    3    2    7    9\n",
      "7  69  F      5    9    5    7    3\n",
      "8  62  F      1    4    1   11    5\n",
      "9  47  F      9   13    2    2    1\n",
      "10 39  M     10    8    3    7    6\n",
      "11 34  F     10   10    5   12   11\n",
      "12 50  M      4   15    2    3   10\n",
      "13 50  M      8    1    2    6   11\n",
      "14 47  M      8    9    4    1   11\n",
      "15 35  M      4    9    2    1    5\n",
      "16 53  M      2    1    3    4   10\n",
      "17 20  M      9   14    7    5    5\n",
      "18 35  F     10    8    3   10    6\n",
      "19 77  M      9    7    4    3    1\n",
      "20 50  F     12    3    3    9    5\n"
     ]
    }
   ],
   "source": [
    "print(data_wide)"
   ]
  },
  {
   "cell_type": "code",
   "execution_count": 10,
   "id": "2fc32bc6",
   "metadata": {},
   "outputs": [
    {
     "name": "stdout",
     "output_type": "stream",
     "text": [
      "<class 'pandas.core.frame.DataFrame'>\n",
      "MultiIndex: 20 entries, (1, 31, 'M') to (20, 50, 'F')\n",
      "Data columns (total 5 columns):\n",
      " #   Column  Non-Null Count  Dtype\n",
      "---  ------  --------------  -----\n",
      " 0   Q_1     20 non-null     int64\n",
      " 1   Q_2     20 non-null     int64\n",
      " 2   Q_3     20 non-null     int64\n",
      " 3   Q_4     20 non-null     int64\n",
      " 4   Q_5     20 non-null     int64\n",
      "dtypes: int64(5)\n",
      "memory usage: 2.5 KB\n"
     ]
    }
   ],
   "source": [
    "data_wide.info()"
   ]
  },
  {
   "cell_type": "code",
   "execution_count": 11,
   "id": "f5dae2ac",
   "metadata": {},
   "outputs": [
    {
     "ename": "AttributeError",
     "evalue": "'DataFrame' object has no attribute 'id'",
     "output_type": "error",
     "traceback": [
      "\u001b[0;31m---------------------------------------------------------------------------\u001b[0m",
      "\u001b[0;31mAttributeError\u001b[0m                            Traceback (most recent call last)",
      "\u001b[0;32m/tmp/ipykernel_88/1036733074.py\u001b[0m in \u001b[0;36m?\u001b[0;34m()\u001b[0m\n\u001b[0;32m----> 1\u001b[0;31m \u001b[0mdata_wide\u001b[0m\u001b[0;34m.\u001b[0m\u001b[0mid\u001b[0m\u001b[0;34m\u001b[0m\u001b[0;34m\u001b[0m\u001b[0m\n\u001b[0m",
      "\u001b[0;32m/opt/conda/lib/python3.9/site-packages/pandas/core/generic.py\u001b[0m in \u001b[0;36m?\u001b[0;34m(self, name)\u001b[0m\n\u001b[1;32m   5898\u001b[0m             \u001b[0;32mand\u001b[0m \u001b[0mname\u001b[0m \u001b[0;32mnot\u001b[0m \u001b[0;32min\u001b[0m \u001b[0mself\u001b[0m\u001b[0;34m.\u001b[0m\u001b[0m_accessors\u001b[0m\u001b[0;34m\u001b[0m\u001b[0;34m\u001b[0m\u001b[0m\n\u001b[1;32m   5899\u001b[0m             \u001b[0;32mand\u001b[0m \u001b[0mself\u001b[0m\u001b[0;34m.\u001b[0m\u001b[0m_info_axis\u001b[0m\u001b[0;34m.\u001b[0m\u001b[0m_can_hold_identifiers_and_holds_name\u001b[0m\u001b[0;34m(\u001b[0m\u001b[0mname\u001b[0m\u001b[0;34m)\u001b[0m\u001b[0;34m\u001b[0m\u001b[0;34m\u001b[0m\u001b[0m\n\u001b[1;32m   5900\u001b[0m         ):\n\u001b[1;32m   5901\u001b[0m             \u001b[0;32mreturn\u001b[0m \u001b[0mself\u001b[0m\u001b[0;34m[\u001b[0m\u001b[0mname\u001b[0m\u001b[0;34m]\u001b[0m\u001b[0;34m\u001b[0m\u001b[0;34m\u001b[0m\u001b[0m\n\u001b[0;32m-> 5902\u001b[0;31m         \u001b[0;32mreturn\u001b[0m \u001b[0mobject\u001b[0m\u001b[0;34m.\u001b[0m\u001b[0m__getattribute__\u001b[0m\u001b[0;34m(\u001b[0m\u001b[0mself\u001b[0m\u001b[0;34m,\u001b[0m \u001b[0mname\u001b[0m\u001b[0;34m)\u001b[0m\u001b[0;34m\u001b[0m\u001b[0;34m\u001b[0m\u001b[0m\n\u001b[0m",
      "\u001b[0;31mAttributeError\u001b[0m: 'DataFrame' object has no attribute 'id'"
     ]
    }
   ],
   "source": [
    "data_wide.id"
   ]
  },
  {
   "cell_type": "markdown",
   "id": "68208828",
   "metadata": {},
   "source": [
    "Wait, is that not right?"
   ]
  },
  {
   "cell_type": "code",
   "execution_count": 12,
   "id": "be00b046",
   "metadata": {},
   "outputs": [
    {
     "data": {
      "text/plain": [
       "id  age  sex\n",
       "1   31   M       1\n",
       "2   45   M       4\n",
       "3   65   M       2\n",
       "4   63   F       9\n",
       "5   36   F       8\n",
       "6   36   F       6\n",
       "7   69   F       5\n",
       "8   62   F       1\n",
       "9   47   F       9\n",
       "10  39   M      10\n",
       "11  34   F      10\n",
       "12  50   M       4\n",
       "13  50   M       8\n",
       "14  47   M       8\n",
       "15  35   M       4\n",
       "16  53   M       2\n",
       "17  20   M       9\n",
       "18  35   F      10\n",
       "19  77   M       9\n",
       "20  50   F      12\n",
       "Name: Q_1, dtype: int64"
      ]
     },
     "execution_count": 12,
     "metadata": {},
     "output_type": "execute_result"
    }
   ],
   "source": [
    "data_wide.Q_1"
   ]
  },
  {
   "cell_type": "markdown",
   "id": "1bd544d8",
   "metadata": {},
   "source": [
    "Okay, but I really want to be able to look at id, which clearly doesn't exists anymore.. It lives in the index... so what can I do."
   ]
  },
  {
   "cell_type": "markdown",
   "id": "47a6068f",
   "metadata": {},
   "source": [
    "Let's try the `pd.DataFrame.reset_index`"
   ]
  },
  {
   "cell_type": "code",
   "execution_count": 13,
   "id": "25d6fab9",
   "metadata": {},
   "outputs": [
    {
     "name": "stdout",
     "output_type": "stream",
     "text": [
      "Help on function reset_index in module pandas.core.frame:\n",
      "\n",
      "reset_index(self, level: 'IndexLabel' = None, *, drop: 'bool' = False, inplace: 'bool' = False, col_level: 'Hashable' = 0, col_fill: 'Hashable' = '', allow_duplicates: 'bool | lib.NoDefault' = <no_default>, names: 'Hashable | Sequence[Hashable]' = None) -> 'DataFrame | None'\n",
      "    Reset the index, or a level of it.\n",
      "    \n",
      "    Reset the index of the DataFrame, and use the default one instead.\n",
      "    If the DataFrame has a MultiIndex, this method can remove one or more\n",
      "    levels.\n",
      "    \n",
      "    Parameters\n",
      "    ----------\n",
      "    level : int, str, tuple, or list, default None\n",
      "        Only remove the given levels from the index. Removes all levels by\n",
      "        default.\n",
      "    drop : bool, default False\n",
      "        Do not try to insert index into dataframe columns. This resets\n",
      "        the index to the default integer index.\n",
      "    inplace : bool, default False\n",
      "        Whether to modify the DataFrame rather than creating a new one.\n",
      "    col_level : int or str, default 0\n",
      "        If the columns have multiple levels, determines which level the\n",
      "        labels are inserted into. By default it is inserted into the first\n",
      "        level.\n",
      "    col_fill : object, default ''\n",
      "        If the columns have multiple levels, determines how the other\n",
      "        levels are named. If None then the index name is repeated.\n",
      "    allow_duplicates : bool, optional, default lib.no_default\n",
      "        Allow duplicate column labels to be created.\n",
      "    \n",
      "        .. versionadded:: 1.5.0\n",
      "    \n",
      "    names : int, str or 1-dimensional list, default None\n",
      "        Using the given string, rename the DataFrame column which contains the\n",
      "        index data. If the DataFrame has a MultiIndex, this has to be a list or\n",
      "        tuple with length equal to the number of levels.\n",
      "    \n",
      "        .. versionadded:: 1.5.0\n",
      "    \n",
      "    Returns\n",
      "    -------\n",
      "    DataFrame or None\n",
      "        DataFrame with the new index or None if ``inplace=True``.\n",
      "    \n",
      "    See Also\n",
      "    --------\n",
      "    DataFrame.set_index : Opposite of reset_index.\n",
      "    DataFrame.reindex : Change to new indices or expand indices.\n",
      "    DataFrame.reindex_like : Change to same indices as other DataFrame.\n",
      "    \n",
      "    Examples\n",
      "    --------\n",
      "    >>> df = pd.DataFrame([('bird', 389.0),\n",
      "    ...                    ('bird', 24.0),\n",
      "    ...                    ('mammal', 80.5),\n",
      "    ...                    ('mammal', np.nan)],\n",
      "    ...                   index=['falcon', 'parrot', 'lion', 'monkey'],\n",
      "    ...                   columns=('class', 'max_speed'))\n",
      "    >>> df\n",
      "             class  max_speed\n",
      "    falcon    bird      389.0\n",
      "    parrot    bird       24.0\n",
      "    lion    mammal       80.5\n",
      "    monkey  mammal        NaN\n",
      "    \n",
      "    When we reset the index, the old index is added as a column, and a\n",
      "    new sequential index is used:\n",
      "    \n",
      "    >>> df.reset_index()\n",
      "        index   class  max_speed\n",
      "    0  falcon    bird      389.0\n",
      "    1  parrot    bird       24.0\n",
      "    2    lion  mammal       80.5\n",
      "    3  monkey  mammal        NaN\n",
      "    \n",
      "    We can use the `drop` parameter to avoid the old index being added as\n",
      "    a column:\n",
      "    \n",
      "    >>> df.reset_index(drop=True)\n",
      "        class  max_speed\n",
      "    0    bird      389.0\n",
      "    1    bird       24.0\n",
      "    2  mammal       80.5\n",
      "    3  mammal        NaN\n",
      "    \n",
      "    You can also use `reset_index` with `MultiIndex`.\n",
      "    \n",
      "    >>> index = pd.MultiIndex.from_tuples([('bird', 'falcon'),\n",
      "    ...                                    ('bird', 'parrot'),\n",
      "    ...                                    ('mammal', 'lion'),\n",
      "    ...                                    ('mammal', 'monkey')],\n",
      "    ...                                   names=['class', 'name'])\n",
      "    >>> columns = pd.MultiIndex.from_tuples([('speed', 'max'),\n",
      "    ...                                      ('species', 'type')])\n",
      "    >>> df = pd.DataFrame([(389.0, 'fly'),\n",
      "    ...                    ( 24.0, 'fly'),\n",
      "    ...                    ( 80.5, 'run'),\n",
      "    ...                    (np.nan, 'jump')],\n",
      "    ...                   index=index,\n",
      "    ...                   columns=columns)\n",
      "    >>> df\n",
      "                   speed species\n",
      "                     max    type\n",
      "    class  name\n",
      "    bird   falcon  389.0     fly\n",
      "           parrot   24.0     fly\n",
      "    mammal lion     80.5     run\n",
      "           monkey    NaN    jump\n",
      "    \n",
      "    Using the `names` parameter, choose a name for the index column:\n",
      "    \n",
      "    >>> df.reset_index(names=['classes', 'names'])\n",
      "      classes   names  speed species\n",
      "                         max    type\n",
      "    0    bird  falcon  389.0     fly\n",
      "    1    bird  parrot   24.0     fly\n",
      "    2  mammal    lion   80.5     run\n",
      "    3  mammal  monkey    NaN    jump\n",
      "    \n",
      "    If the index has multiple levels, we can reset a subset of them:\n",
      "    \n",
      "    >>> df.reset_index(level='class')\n",
      "             class  speed species\n",
      "                      max    type\n",
      "    name\n",
      "    falcon    bird  389.0     fly\n",
      "    parrot    bird   24.0     fly\n",
      "    lion    mammal   80.5     run\n",
      "    monkey  mammal    NaN    jump\n",
      "    \n",
      "    If we are not dropping the index, by default, it is placed in the top\n",
      "    level. We can place it in another level:\n",
      "    \n",
      "    >>> df.reset_index(level='class', col_level=1)\n",
      "                    speed species\n",
      "             class    max    type\n",
      "    name\n",
      "    falcon    bird  389.0     fly\n",
      "    parrot    bird   24.0     fly\n",
      "    lion    mammal   80.5     run\n",
      "    monkey  mammal    NaN    jump\n",
      "    \n",
      "    When the index is inserted under another level, we can specify under\n",
      "    which one with the parameter `col_fill`:\n",
      "    \n",
      "    >>> df.reset_index(level='class', col_level=1, col_fill='species')\n",
      "                  species  speed species\n",
      "                    class    max    type\n",
      "    name\n",
      "    falcon           bird  389.0     fly\n",
      "    parrot           bird   24.0     fly\n",
      "    lion           mammal   80.5     run\n",
      "    monkey         mammal    NaN    jump\n",
      "    \n",
      "    If we specify a nonexistent level for `col_fill`, it is created:\n",
      "    \n",
      "    >>> df.reset_index(level='class', col_level=1, col_fill='genus')\n",
      "                    genus  speed species\n",
      "                    class    max    type\n",
      "    name\n",
      "    falcon           bird  389.0     fly\n",
      "    parrot           bird   24.0     fly\n",
      "    lion           mammal   80.5     run\n",
      "    monkey         mammal    NaN    jump\n",
      "\n"
     ]
    }
   ],
   "source": [
    "help(pd.DataFrame.reset_index)"
   ]
  },
  {
   "cell_type": "code",
   "execution_count": 14,
   "id": "e4a9ab18",
   "metadata": {},
   "outputs": [
    {
     "name": "stdout",
     "output_type": "stream",
     "text": [
      "Question  id  age sex  Q_1  Q_2  Q_3  Q_4  Q_5\n",
      "0          1   31   M    1   12    1    9   12\n",
      "1          2   45   M    4    7    5    9   12\n",
      "2          3   65   M    2    1    3    8   11\n",
      "3          4   63   F    9    1    4    5    8\n",
      "4          5   36   F    8   10    4    5    6\n",
      "5          6   36   F    6    3    2    7    9\n",
      "6          7   69   F    5    9    5    7    3\n",
      "7          8   62   F    1    4    1   11    5\n",
      "8          9   47   F    9   13    2    2    1\n",
      "9         10   39   M   10    8    3    7    6\n",
      "10        11   34   F   10   10    5   12   11\n",
      "11        12   50   M    4   15    2    3   10\n",
      "12        13   50   M    8    1    2    6   11\n",
      "13        14   47   M    8    9    4    1   11\n",
      "14        15   35   M    4    9    2    1    5\n",
      "15        16   53   M    2    1    3    4   10\n",
      "16        17   20   M    9   14    7    5    5\n",
      "17        18   35   F   10    8    3   10    6\n",
      "18        19   77   M    9    7    4    3    1\n",
      "19        20   50   F   12    3    3    9    5\n"
     ]
    }
   ],
   "source": [
    "data_wide = data_wide.reset_index()\n",
    "\n",
    "print(data_wide)"
   ]
  },
  {
   "cell_type": "markdown",
   "id": "3b27e149",
   "metadata": {},
   "source": [
    "Looks good! let's check the info"
   ]
  },
  {
   "cell_type": "code",
   "execution_count": 15,
   "id": "764a4e88",
   "metadata": {},
   "outputs": [
    {
     "name": "stdout",
     "output_type": "stream",
     "text": [
      "<class 'pandas.core.frame.DataFrame'>\n",
      "RangeIndex: 20 entries, 0 to 19\n",
      "Data columns (total 8 columns):\n",
      " #   Column  Non-Null Count  Dtype   \n",
      "---  ------  --------------  -----   \n",
      " 0   id      20 non-null     category\n",
      " 1   age     20 non-null     int64   \n",
      " 2   sex     20 non-null     category\n",
      " 3   Q_1     20 non-null     int64   \n",
      " 4   Q_2     20 non-null     int64   \n",
      " 5   Q_3     20 non-null     int64   \n",
      " 6   Q_4     20 non-null     int64   \n",
      " 7   Q_5     20 non-null     int64   \n",
      "dtypes: category(2), int64(6)\n",
      "memory usage: 1.9 KB\n"
     ]
    }
   ],
   "source": [
    "data_wide.info()"
   ]
  },
  {
   "cell_type": "markdown",
   "id": "099870ca",
   "metadata": {},
   "source": [
    "Let's see that we can get id"
   ]
  },
  {
   "cell_type": "code",
   "execution_count": 16,
   "id": "8bbc8724",
   "metadata": {},
   "outputs": [
    {
     "data": {
      "text/plain": [
       "0      1\n",
       "1      2\n",
       "2      3\n",
       "3      4\n",
       "4      5\n",
       "5      6\n",
       "6      7\n",
       "7      8\n",
       "8      9\n",
       "9     10\n",
       "10    11\n",
       "11    12\n",
       "12    13\n",
       "13    14\n",
       "14    15\n",
       "15    16\n",
       "16    17\n",
       "17    18\n",
       "18    19\n",
       "19    20\n",
       "Name: id, dtype: category\n",
       "Categories (20, int64): [1, 2, 3, 4, ..., 17, 18, 19, 20]"
      ]
     },
     "execution_count": 16,
     "metadata": {},
     "output_type": "execute_result"
    }
   ],
   "source": [
    "data_wide.id"
   ]
  },
  {
   "cell_type": "code",
   "execution_count": null,
   "id": "a5a1d44e",
   "metadata": {},
   "outputs": [],
   "source": []
  }
 ],
 "metadata": {
  "kernelspec": {
   "display_name": "Python 3 (ipykernel)",
   "language": "python",
   "name": "python3"
  },
  "language_info": {
   "codemirror_mode": {
    "name": "ipython",
    "version": 3
   },
   "file_extension": ".py",
   "mimetype": "text/x-python",
   "name": "python",
   "nbconvert_exporter": "python",
   "pygments_lexer": "ipython3",
   "version": "3.9.13"
  }
 },
 "nbformat": 4,
 "nbformat_minor": 5
}
