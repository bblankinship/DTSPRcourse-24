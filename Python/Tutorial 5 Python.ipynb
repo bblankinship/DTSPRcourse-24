{
 "cells": [
  {
   "cell_type": "markdown",
   "id": "8f29f8b6",
   "metadata": {},
   "source": [
    "# Tutorial 5 Python Notebook \n",
    "\n",
    "In this tutorial we will return to the [Public Health Scotland around Stroke Activity](https://www.opendata.nhs.scot/dataset/scottish-stroke-statistics/resource/47656572-e196-40c8-83e8-08b0b223b2e6) dataset that we used in last week's tutorial. We will also be using the [Health Board Labels](https://www.opendata.nhs.scot/dataset/geography-codes-and-labels/resource/652ff726-e676-4a20-abda-435b98dd7bdc) dataset. \n",
    "\n",
    "The aim of this tutorial is to give you some (guided) hands-on experience joining and reshaping data frames, as well as to reinforce some of the learning we have done across the course. There are 8 tasks. "
   ]
  },
  {
   "cell_type": "code",
   "execution_count": null,
   "id": "97d8fa9d",
   "metadata": {},
   "outputs": [],
   "source": [
    "# load packages and modules \n",
    "\n",
    "import pandas as pd \n",
    "import numpy as np\n",
    "from IPython.display import Image"
   ]
  },
  {
   "cell_type": "code",
   "execution_count": null,
   "id": "a9beb50d",
   "metadata": {},
   "outputs": [],
   "source": [
    "# read in the data sets \n",
    "\n",
    "stroke_raw = pd.read_csv(\"https://www.opendata.nhs.scot/dataset/f5dcf382-e6ca-49f6-b807-4f9cc29555bc/resource/47656572-e196-40c8-83e8-08b0b223b2e6/download/stroke_activitybyhbr.csv\")\n",
    "\n",
    "hb = pd.read_csv(\"https://www.opendata.nhs.scot/dataset/9f942fdb-e59e-44f5-b534-d6e17229cc7b/resource/652ff726-e676-4a20-abda-435b98dd7bdc/download/hb14_hb19.csv\")"
   ]
  },
  {
   "cell_type": "markdown",
   "id": "ed098ca7",
   "metadata": {},
   "source": [
    "It is always a good idea to quickly double check your data has been read in as expected. "
   ]
  },
  {
   "cell_type": "code",
   "execution_count": null,
   "id": "e080de61",
   "metadata": {},
   "outputs": [],
   "source": [
    "stroke_raw"
   ]
  },
  {
   "cell_type": "code",
   "execution_count": null,
   "id": "af99c1ff",
   "metadata": {
    "scrolled": true
   },
   "outputs": [],
   "source": [
    "hb"
   ]
  },
  {
   "cell_type": "markdown",
   "id": "0b464da9",
   "metadata": {},
   "source": [
    "Below is an image showing where the different Health Boards are in Scotland on a map."
   ]
  },
  {
   "cell_type": "code",
   "execution_count": null,
   "id": "5faddc0e",
   "metadata": {},
   "outputs": [],
   "source": [
    "Image(filename = \"../figures/Map_of_Health_Boards.png\")"
   ]
  },
  {
   "cell_type": "markdown",
   "id": "c4dd52ee",
   "metadata": {},
   "source": [
    "## Question to solve \n",
    "\n",
    "The question we are trying to answer with the data is: \n",
    "\n",
    "> What is the average number of discharges with a stroke diagnosis by age group in the East region of Scotland for all admissions in the finanical year 2019/20 and 2020/21?"
   ]
  },
  {
   "cell_type": "markdown",
   "id": "470788d7",
   "metadata": {},
   "source": [
    "### Task 1\n",
    "\n",
    "Looking at these two data frames, what columns do you think are the linkage keys? "
   ]
  },
  {
   "cell_type": "code",
   "execution_count": null,
   "id": "62964076",
   "metadata": {},
   "outputs": [],
   "source": [
    "## your answer\n"
   ]
  },
  {
   "cell_type": "markdown",
   "id": "1c843028",
   "metadata": {},
   "source": [
    "### Task 2\n",
    "\n",
    "Join the Stroke activity dataset with the [Health Board Labels](https://www.opendata.nhs.scot/dataset/geography-codes-and-labels/resource/652ff726-e676-4a20-abda-435b98dd7bdc) dataset into a new data frame called `stroke_join`. \n",
    "\n",
    "In the last above we identified the linkage key variable(s), which is the first step when wanting to complete a join. Next, you need to decide on the type of join you want to use and then implement this in code."
   ]
  },
  {
   "cell_type": "code",
   "execution_count": null,
   "id": "05aeb33e",
   "metadata": {},
   "outputs": [],
   "source": [
    "## your answer \n"
   ]
  },
  {
   "cell_type": "markdown",
   "id": "1911b917",
   "metadata": {},
   "source": [
    "### Task 3\n",
    "\n",
    "To answer our question outlined above, we do not need all of the columns currently in the `stroke_join` dataset. Process the data to include only the variables needed to answer the question and save this processed dataset into an object called `stroke`.\n",
    "\n",
    "Check the dtypes of the remaining columns and cast them if not appropriate. "
   ]
  },
  {
   "cell_type": "markdown",
   "id": "41b9ce51",
   "metadata": {},
   "source": [
    "<details><summary style='color:darkblue'>HINT: Beware of surprise summary or aggregate data! CLICK HERE TO SEE MORE.</summary>\n",
    "\n",
    "Beware of aggregate or summary level data, even in variables not needed to directly answer the question. Consulting the data dictionary (if provided) or doing data checks is crucial at this stage. "
   ]
  },
  {
   "cell_type": "code",
   "execution_count": null,
   "id": "ec5fc468",
   "metadata": {},
   "outputs": [],
   "source": [
    "## your answer\n"
   ]
  },
  {
   "cell_type": "markdown",
   "id": "9fb391b5",
   "metadata": {},
   "source": [
    "### Task 4\n",
    "\n",
    "What is the shape of the `stroke` data currently? Is it in a suitable shape?"
   ]
  },
  {
   "cell_type": "code",
   "execution_count": null,
   "id": "5475bb78",
   "metadata": {},
   "outputs": [],
   "source": [
    "## your answer \n"
   ]
  },
  {
   "cell_type": "markdown",
   "id": "26f30785",
   "metadata": {},
   "source": [
    "### Task 5 \n",
    "\n",
    "Now that we have our joined data set, it is important to inspect the data for any missing or aggregate values. We know from last week that this data set has many aggregate level responses! Check for the unique values of all 7 variables in `stroke`. Are there any unexpected findings? "
   ]
  },
  {
   "cell_type": "code",
   "execution_count": null,
   "id": "4fa89508",
   "metadata": {},
   "outputs": [],
   "source": [
    "## your answer \n"
   ]
  },
  {
   "cell_type": "markdown",
   "id": "54de6331",
   "metadata": {},
   "source": [
    "### Task 6\n",
    "\n",
    "We now know there are both aggregate level responses in our data frame as well as missing data. Before we deal with any missing data unnecessarily, let's filter out the responses we are not interested in (i.e., remove the rows we do not need to answer the question) and then check again for any missing data. It is likely that in doing so, the missing data may not be a problem anymore. \n",
    "\n",
    "Save your filtered data into a dataframe called `stroke_q`"
   ]
  },
  {
   "cell_type": "markdown",
   "id": "c3822552",
   "metadata": {},
   "source": [
    "<details><summary style='color:darkblue'>HINT: Breaking down the question. CLICK HERE TO SEE</summary>\n",
    "\n",
    "First write down what responses you want to keep for each variable in order to answer the question. Then write the code to do so. "
   ]
  },
  {
   "cell_type": "code",
   "execution_count": null,
   "id": "7baaa926",
   "metadata": {},
   "outputs": [],
   "source": [
    "## your answer \n"
   ]
  },
  {
   "cell_type": "markdown",
   "id": "23476c4e",
   "metadata": {},
   "source": [
    "### Task 7 \n",
    "\n",
    "Now that we have our data prepared and check, answer the question posed at the the start of this notebook:\n",
    "    \n",
    "    \n",
    "> What is the average number of discharges with a stroke diagnosis by age group in the East region of Scotland for all admissions in the finanical year 2019/20 and 2020/21?"
   ]
  },
  {
   "cell_type": "code",
   "execution_count": null,
   "id": "445e0e6d",
   "metadata": {},
   "outputs": [],
   "source": [
    "## your answer \n"
   ]
  },
  {
   "cell_type": "markdown",
   "id": "2e2ee6f4",
   "metadata": {},
   "source": [
    "### Task 8 \n",
    "\n",
    "As I mentioned in this week's content, wide data is often more human readable than long data. Take your solution to Task 7 and make the presentation a nicer by reshaping the data a bit! "
   ]
  },
  {
   "cell_type": "markdown",
   "id": "4cc63b78",
   "metadata": {},
   "source": [
    "<details><summary style='color:darkblue'>HINT 1: Remember there are multiple functions in Python to reshape data! CLICK HERE TO SEE</summary>\n",
    "\n",
    "Remember that we learned about 4 functions this week to reshape data in Python. \n",
    "    \n",
    "* `melt` to make data longer and its counterpart `stack` for MutiIndex data frames or Series\n",
    "* `pivot` to make data wider and its counterpart `unstack` for MutiIndex data frames or Series"
   ]
  },
  {
   "cell_type": "markdown",
   "id": "942a9184",
   "metadata": {},
   "source": [
    "<details><summary style='color:darkblue'>HINT 2: What is the data structure of your solution to Task 7? CLICK HERE TO SEE. </summary>\n",
    "    \n",
    "If you save your solution to task 7 into an object and then run the code `type(object_name)` you will see that the output is not a dataframe but rather a `pandas.core.series.Series`"
   ]
  },
  {
   "cell_type": "code",
   "execution_count": null,
   "id": "2c569b80",
   "metadata": {},
   "outputs": [],
   "source": [
    "## your answer \n"
   ]
  },
  {
   "cell_type": "markdown",
   "id": "f1bdfbf9",
   "metadata": {},
   "source": [
    "---\n",
    "## Well done! 🎉 \n",
    "\n",
    "Well done! You have completed all of the tasks for the Python notebook for this tutorial. If you have not done so yet, now move to the R notebook.\n",
    "\n",
    "Do not forget your 3 stars, a wish, and a step mini-diaries for this week once you have completed the tutorial notebooks and content for the week. \n"
   ]
  },
  {
   "cell_type": "markdown",
   "id": "6759e793",
   "metadata": {},
   "source": [
    "---\n",
    "*Dr. Brittany Blankinship (2024)*"
   ]
  }
 ],
 "metadata": {
  "kernelspec": {
   "display_name": "Python 3 (ipykernel)",
   "language": "python",
   "name": "python3"
  },
  "language_info": {
   "codemirror_mode": {
    "name": "ipython",
    "version": 3
   },
   "file_extension": ".py",
   "mimetype": "text/x-python",
   "name": "python",
   "nbconvert_exporter": "python",
   "pygments_lexer": "ipython3",
   "version": "3.9.12"
  }
 },
 "nbformat": 4,
 "nbformat_minor": 5
}
