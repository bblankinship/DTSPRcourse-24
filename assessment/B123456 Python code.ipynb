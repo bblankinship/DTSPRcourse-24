{
 "cells": [
  {
   "cell_type": "markdown",
   "id": "03298804",
   "metadata": {},
   "source": [
    "## Data Types and Structures in Python and R Course Assessment: Python code \n",
    "### B123456 *change to be your exam number*"
   ]
  },
  {
   "cell_type": "markdown",
   "id": "403e04a7",
   "metadata": {},
   "source": [
    "## Task 1: Python \n",
    "\n",
    "In this task you are asked to investigate the data in `scot_unintentional_injuries.csv` and `health_board_and_country_labels.csv`. \n",
    "\n",
    "The Unintentional Injuries dataset from Public Health Scotland provides information on emergency hospital admissions as a result of unintentional injuries and assaults. You can find more [information about the unintentional injuries data set here, including a data dictionary](https://www.opendata.nhs.scot/dataset/unintentional-injuries/resource/aee43295-2a13-48f6-bf05-92769ca7c6cf) and [here for more information about the health boards dataset](https://www.opendata.nhs.scot/dataset/geography-codes-and-labels/resource/652ff726-e676-4a20-abda-435b98dd7bdc). Do not import the data via the URL, you must use the data files provided for this assignment. \n",
    "\n",
    "Follow the steps below to ultimately answer the final questions with the data.\n",
    "\n",
    "* load the necessary libraries and packages\n",
    "* read in the data\n",
    "* join the two data sets together\n",
    "* check the data types of the variables of interest and ensure they are they type you want them to be. If not, change them.\n",
    "* check for the content/information contained within your variables of interest and ensure you are satisfied\n",
    "with the presentation\n",
    "* check for and deal with any missing data, if deemed appropriate\n",
    "* check the data formats (wide vs long) and transform if it is not appropriate\n",
    "\n",
    "*Question:* **Among people aged 65 and older in 2020/21, did NHS Lothian and NHS Greater Glasgow and Clyde have the same 4 most common cause of accidental injuries leading to emergency hospital admissions? What were they (the 4 most common cause of accidental injury in these regions)?**"
   ]
  },
  {
   "cell_type": "code",
   "execution_count": null,
   "id": "5a7caa1b",
   "metadata": {},
   "outputs": [],
   "source": []
  },
  {
   "cell_type": "code",
   "execution_count": null,
   "id": "a10e5421",
   "metadata": {},
   "outputs": [],
   "source": []
  },
  {
   "cell_type": "code",
   "execution_count": null,
   "id": "ed00ddd3",
   "metadata": {},
   "outputs": [],
   "source": []
  },
  {
   "cell_type": "markdown",
   "id": "47944a78",
   "metadata": {},
   "source": [
    "*Task 1 (Python) Answer* (in 1-2 sentences):"
   ]
  },
  {
   "cell_type": "markdown",
   "id": "76c2a6a7",
   "metadata": {},
   "source": [
    "## Task 2: Python \n",
    "There has been an IT failure in the prescribing databases in a local area. The only remaining data around medications is the backup file below, but it has been scrambled. Explore the following data object `x`. Select **7 of the 10** aspects of data and reconstruct the dataset about medications. Present `x` in a more clear and better structured format, ensuring that the data structure and data types are appropriate, given the (limited) information provided.\n",
    "\n",
    "The code to load data object `x` has been provided below."
   ]
  },
  {
   "cell_type": "code",
   "execution_count": null,
   "id": "4ab199a8",
   "metadata": {},
   "outputs": [],
   "source": [
    "import json\n",
    "\n",
    "# this function just loads the data from files, there is no need to understand how it does it.\n",
    "def load_json_file_named(file_name):\n",
    "    try: \n",
    "        loaded_data = []\n",
    "        file_location = f\"../data/{file_name}\"\n",
    "        with open(file_location, 'r') as file: # or f\"data/{file_name}\" depending on your files\n",
    "            loaded_data =  json.load(file)\n",
    "    except OSError as e:\n",
    "        print(f\"Error. Does the file exist in this folder? {file_location}\\n\\n {e}\")\n",
    "    return loaded_data\n",
    "\n",
    "x = load_json_file_named('task2_data.json')"
   ]
  },
  {
   "cell_type": "code",
   "execution_count": null,
   "id": "7e19b0f4",
   "metadata": {},
   "outputs": [],
   "source": []
  },
  {
   "cell_type": "code",
   "execution_count": null,
   "id": "8070dd7b",
   "metadata": {},
   "outputs": [],
   "source": []
  },
  {
   "cell_type": "code",
   "execution_count": null,
   "id": "c2903820",
   "metadata": {},
   "outputs": [],
   "source": []
  }
 ],
 "metadata": {
  "kernelspec": {
   "display_name": "Python 3 (ipykernel)",
   "language": "python",
   "name": "python3"
  },
  "language_info": {
   "codemirror_mode": {
    "name": "ipython",
    "version": 3
   },
   "file_extension": ".py",
   "mimetype": "text/x-python",
   "name": "python",
   "nbconvert_exporter": "python",
   "pygments_lexer": "ipython3",
   "version": "3.9.12"
  }
 },
 "nbformat": 4,
 "nbformat_minor": 5
}
